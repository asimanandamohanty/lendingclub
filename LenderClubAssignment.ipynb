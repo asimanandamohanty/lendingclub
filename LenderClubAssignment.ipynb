{
 "cells": [
  {
   "cell_type": "markdown",
   "id": "c83bad00-6cef-4943-9d05-7dace53055f7",
   "metadata": {},
   "source": [
    "# <span style=\"color:blue\"> Lending Club Case Study"
   ]
  },
  {
   "cell_type": "markdown",
   "id": "4439effd-5246-498c-a911-5c3ee97b302a",
   "metadata": {},
   "source": [
    "### <span style=\"color:green\"> First, let's import all necessary libraties"
   ]
  },
  {
   "cell_type": "code",
   "execution_count": 1,
   "id": "88451178-fbe9-48aa-8489-d062909b8279",
   "metadata": {},
   "outputs": [],
   "source": [
    "import numpy as np\n",
    "import pandas as pd\n",
    "import matplotlib.pyplot as plt\n",
    "import seaborn as sns\n",
    "import warnings\n",
    "\n",
    "%matplotlib inline\n",
    "warnings.filterwarnings(action='ignore')"
   ]
  },
  {
   "cell_type": "code",
   "execution_count": 2,
   "id": "508a3b5b-e3c3-43ed-87b1-7b7e0b188398",
   "metadata": {},
   "outputs": [
    {
     "data": {
      "text/html": [
       "<div>\n",
       "<style scoped>\n",
       "    .dataframe tbody tr th:only-of-type {\n",
       "        vertical-align: middle;\n",
       "    }\n",
       "\n",
       "    .dataframe tbody tr th {\n",
       "        vertical-align: top;\n",
       "    }\n",
       "\n",
       "    .dataframe thead th {\n",
       "        text-align: right;\n",
       "    }\n",
       "</style>\n",
       "<table border=\"1\" class=\"dataframe\">\n",
       "  <thead>\n",
       "    <tr style=\"text-align: right;\">\n",
       "      <th></th>\n",
       "      <th>id</th>\n",
       "      <th>member_id</th>\n",
       "      <th>loan_amnt</th>\n",
       "      <th>funded_amnt</th>\n",
       "      <th>funded_amnt_inv</th>\n",
       "      <th>term</th>\n",
       "      <th>int_rate</th>\n",
       "      <th>installment</th>\n",
       "      <th>grade</th>\n",
       "      <th>sub_grade</th>\n",
       "      <th>...</th>\n",
       "      <th>num_tl_90g_dpd_24m</th>\n",
       "      <th>num_tl_op_past_12m</th>\n",
       "      <th>pct_tl_nvr_dlq</th>\n",
       "      <th>percent_bc_gt_75</th>\n",
       "      <th>pub_rec_bankruptcies</th>\n",
       "      <th>tax_liens</th>\n",
       "      <th>tot_hi_cred_lim</th>\n",
       "      <th>total_bal_ex_mort</th>\n",
       "      <th>total_bc_limit</th>\n",
       "      <th>total_il_high_credit_limit</th>\n",
       "    </tr>\n",
       "  </thead>\n",
       "  <tbody>\n",
       "    <tr>\n",
       "      <th>0</th>\n",
       "      <td>1077501</td>\n",
       "      <td>1296599</td>\n",
       "      <td>5000</td>\n",
       "      <td>5000</td>\n",
       "      <td>4975.0</td>\n",
       "      <td>36 months</td>\n",
       "      <td>10.65%</td>\n",
       "      <td>162.87</td>\n",
       "      <td>B</td>\n",
       "      <td>B2</td>\n",
       "      <td>...</td>\n",
       "      <td>NaN</td>\n",
       "      <td>NaN</td>\n",
       "      <td>NaN</td>\n",
       "      <td>NaN</td>\n",
       "      <td>0.0</td>\n",
       "      <td>0.0</td>\n",
       "      <td>NaN</td>\n",
       "      <td>NaN</td>\n",
       "      <td>NaN</td>\n",
       "      <td>NaN</td>\n",
       "    </tr>\n",
       "    <tr>\n",
       "      <th>1</th>\n",
       "      <td>1077430</td>\n",
       "      <td>1314167</td>\n",
       "      <td>2500</td>\n",
       "      <td>2500</td>\n",
       "      <td>2500.0</td>\n",
       "      <td>60 months</td>\n",
       "      <td>15.27%</td>\n",
       "      <td>59.83</td>\n",
       "      <td>C</td>\n",
       "      <td>C4</td>\n",
       "      <td>...</td>\n",
       "      <td>NaN</td>\n",
       "      <td>NaN</td>\n",
       "      <td>NaN</td>\n",
       "      <td>NaN</td>\n",
       "      <td>0.0</td>\n",
       "      <td>0.0</td>\n",
       "      <td>NaN</td>\n",
       "      <td>NaN</td>\n",
       "      <td>NaN</td>\n",
       "      <td>NaN</td>\n",
       "    </tr>\n",
       "    <tr>\n",
       "      <th>2</th>\n",
       "      <td>1077175</td>\n",
       "      <td>1313524</td>\n",
       "      <td>2400</td>\n",
       "      <td>2400</td>\n",
       "      <td>2400.0</td>\n",
       "      <td>36 months</td>\n",
       "      <td>15.96%</td>\n",
       "      <td>84.33</td>\n",
       "      <td>C</td>\n",
       "      <td>C5</td>\n",
       "      <td>...</td>\n",
       "      <td>NaN</td>\n",
       "      <td>NaN</td>\n",
       "      <td>NaN</td>\n",
       "      <td>NaN</td>\n",
       "      <td>0.0</td>\n",
       "      <td>0.0</td>\n",
       "      <td>NaN</td>\n",
       "      <td>NaN</td>\n",
       "      <td>NaN</td>\n",
       "      <td>NaN</td>\n",
       "    </tr>\n",
       "    <tr>\n",
       "      <th>3</th>\n",
       "      <td>1076863</td>\n",
       "      <td>1277178</td>\n",
       "      <td>10000</td>\n",
       "      <td>10000</td>\n",
       "      <td>10000.0</td>\n",
       "      <td>36 months</td>\n",
       "      <td>13.49%</td>\n",
       "      <td>339.31</td>\n",
       "      <td>C</td>\n",
       "      <td>C1</td>\n",
       "      <td>...</td>\n",
       "      <td>NaN</td>\n",
       "      <td>NaN</td>\n",
       "      <td>NaN</td>\n",
       "      <td>NaN</td>\n",
       "      <td>0.0</td>\n",
       "      <td>0.0</td>\n",
       "      <td>NaN</td>\n",
       "      <td>NaN</td>\n",
       "      <td>NaN</td>\n",
       "      <td>NaN</td>\n",
       "    </tr>\n",
       "    <tr>\n",
       "      <th>4</th>\n",
       "      <td>1075358</td>\n",
       "      <td>1311748</td>\n",
       "      <td>3000</td>\n",
       "      <td>3000</td>\n",
       "      <td>3000.0</td>\n",
       "      <td>60 months</td>\n",
       "      <td>12.69%</td>\n",
       "      <td>67.79</td>\n",
       "      <td>B</td>\n",
       "      <td>B5</td>\n",
       "      <td>...</td>\n",
       "      <td>NaN</td>\n",
       "      <td>NaN</td>\n",
       "      <td>NaN</td>\n",
       "      <td>NaN</td>\n",
       "      <td>0.0</td>\n",
       "      <td>0.0</td>\n",
       "      <td>NaN</td>\n",
       "      <td>NaN</td>\n",
       "      <td>NaN</td>\n",
       "      <td>NaN</td>\n",
       "    </tr>\n",
       "    <tr>\n",
       "      <th>5</th>\n",
       "      <td>1075269</td>\n",
       "      <td>1311441</td>\n",
       "      <td>5000</td>\n",
       "      <td>5000</td>\n",
       "      <td>5000.0</td>\n",
       "      <td>36 months</td>\n",
       "      <td>7.90%</td>\n",
       "      <td>156.46</td>\n",
       "      <td>A</td>\n",
       "      <td>A4</td>\n",
       "      <td>...</td>\n",
       "      <td>NaN</td>\n",
       "      <td>NaN</td>\n",
       "      <td>NaN</td>\n",
       "      <td>NaN</td>\n",
       "      <td>0.0</td>\n",
       "      <td>0.0</td>\n",
       "      <td>NaN</td>\n",
       "      <td>NaN</td>\n",
       "      <td>NaN</td>\n",
       "      <td>NaN</td>\n",
       "    </tr>\n",
       "    <tr>\n",
       "      <th>6</th>\n",
       "      <td>1069639</td>\n",
       "      <td>1304742</td>\n",
       "      <td>7000</td>\n",
       "      <td>7000</td>\n",
       "      <td>7000.0</td>\n",
       "      <td>60 months</td>\n",
       "      <td>15.96%</td>\n",
       "      <td>170.08</td>\n",
       "      <td>C</td>\n",
       "      <td>C5</td>\n",
       "      <td>...</td>\n",
       "      <td>NaN</td>\n",
       "      <td>NaN</td>\n",
       "      <td>NaN</td>\n",
       "      <td>NaN</td>\n",
       "      <td>0.0</td>\n",
       "      <td>0.0</td>\n",
       "      <td>NaN</td>\n",
       "      <td>NaN</td>\n",
       "      <td>NaN</td>\n",
       "      <td>NaN</td>\n",
       "    </tr>\n",
       "    <tr>\n",
       "      <th>7</th>\n",
       "      <td>1072053</td>\n",
       "      <td>1288686</td>\n",
       "      <td>3000</td>\n",
       "      <td>3000</td>\n",
       "      <td>3000.0</td>\n",
       "      <td>36 months</td>\n",
       "      <td>18.64%</td>\n",
       "      <td>109.43</td>\n",
       "      <td>E</td>\n",
       "      <td>E1</td>\n",
       "      <td>...</td>\n",
       "      <td>NaN</td>\n",
       "      <td>NaN</td>\n",
       "      <td>NaN</td>\n",
       "      <td>NaN</td>\n",
       "      <td>0.0</td>\n",
       "      <td>0.0</td>\n",
       "      <td>NaN</td>\n",
       "      <td>NaN</td>\n",
       "      <td>NaN</td>\n",
       "      <td>NaN</td>\n",
       "    </tr>\n",
       "    <tr>\n",
       "      <th>8</th>\n",
       "      <td>1071795</td>\n",
       "      <td>1306957</td>\n",
       "      <td>5600</td>\n",
       "      <td>5600</td>\n",
       "      <td>5600.0</td>\n",
       "      <td>60 months</td>\n",
       "      <td>21.28%</td>\n",
       "      <td>152.39</td>\n",
       "      <td>F</td>\n",
       "      <td>F2</td>\n",
       "      <td>...</td>\n",
       "      <td>NaN</td>\n",
       "      <td>NaN</td>\n",
       "      <td>NaN</td>\n",
       "      <td>NaN</td>\n",
       "      <td>0.0</td>\n",
       "      <td>0.0</td>\n",
       "      <td>NaN</td>\n",
       "      <td>NaN</td>\n",
       "      <td>NaN</td>\n",
       "      <td>NaN</td>\n",
       "    </tr>\n",
       "    <tr>\n",
       "      <th>9</th>\n",
       "      <td>1071570</td>\n",
       "      <td>1306721</td>\n",
       "      <td>5375</td>\n",
       "      <td>5375</td>\n",
       "      <td>5350.0</td>\n",
       "      <td>60 months</td>\n",
       "      <td>12.69%</td>\n",
       "      <td>121.45</td>\n",
       "      <td>B</td>\n",
       "      <td>B5</td>\n",
       "      <td>...</td>\n",
       "      <td>NaN</td>\n",
       "      <td>NaN</td>\n",
       "      <td>NaN</td>\n",
       "      <td>NaN</td>\n",
       "      <td>0.0</td>\n",
       "      <td>0.0</td>\n",
       "      <td>NaN</td>\n",
       "      <td>NaN</td>\n",
       "      <td>NaN</td>\n",
       "      <td>NaN</td>\n",
       "    </tr>\n",
       "  </tbody>\n",
       "</table>\n",
       "<p>10 rows × 111 columns</p>\n",
       "</div>"
      ],
      "text/plain": [
       "        id  member_id  loan_amnt  funded_amnt  funded_amnt_inv        term  \\\n",
       "0  1077501    1296599       5000         5000           4975.0   36 months   \n",
       "1  1077430    1314167       2500         2500           2500.0   60 months   \n",
       "2  1077175    1313524       2400         2400           2400.0   36 months   \n",
       "3  1076863    1277178      10000        10000          10000.0   36 months   \n",
       "4  1075358    1311748       3000         3000           3000.0   60 months   \n",
       "5  1075269    1311441       5000         5000           5000.0   36 months   \n",
       "6  1069639    1304742       7000         7000           7000.0   60 months   \n",
       "7  1072053    1288686       3000         3000           3000.0   36 months   \n",
       "8  1071795    1306957       5600         5600           5600.0   60 months   \n",
       "9  1071570    1306721       5375         5375           5350.0   60 months   \n",
       "\n",
       "  int_rate  installment grade sub_grade  ... num_tl_90g_dpd_24m  \\\n",
       "0   10.65%       162.87     B        B2  ...                NaN   \n",
       "1   15.27%        59.83     C        C4  ...                NaN   \n",
       "2   15.96%        84.33     C        C5  ...                NaN   \n",
       "3   13.49%       339.31     C        C1  ...                NaN   \n",
       "4   12.69%        67.79     B        B5  ...                NaN   \n",
       "5    7.90%       156.46     A        A4  ...                NaN   \n",
       "6   15.96%       170.08     C        C5  ...                NaN   \n",
       "7   18.64%       109.43     E        E1  ...                NaN   \n",
       "8   21.28%       152.39     F        F2  ...                NaN   \n",
       "9   12.69%       121.45     B        B5  ...                NaN   \n",
       "\n",
       "  num_tl_op_past_12m pct_tl_nvr_dlq  percent_bc_gt_75 pub_rec_bankruptcies  \\\n",
       "0                NaN            NaN               NaN                  0.0   \n",
       "1                NaN            NaN               NaN                  0.0   \n",
       "2                NaN            NaN               NaN                  0.0   \n",
       "3                NaN            NaN               NaN                  0.0   \n",
       "4                NaN            NaN               NaN                  0.0   \n",
       "5                NaN            NaN               NaN                  0.0   \n",
       "6                NaN            NaN               NaN                  0.0   \n",
       "7                NaN            NaN               NaN                  0.0   \n",
       "8                NaN            NaN               NaN                  0.0   \n",
       "9                NaN            NaN               NaN                  0.0   \n",
       "\n",
       "  tax_liens tot_hi_cred_lim total_bal_ex_mort total_bc_limit  \\\n",
       "0       0.0             NaN               NaN            NaN   \n",
       "1       0.0             NaN               NaN            NaN   \n",
       "2       0.0             NaN               NaN            NaN   \n",
       "3       0.0             NaN               NaN            NaN   \n",
       "4       0.0             NaN               NaN            NaN   \n",
       "5       0.0             NaN               NaN            NaN   \n",
       "6       0.0             NaN               NaN            NaN   \n",
       "7       0.0             NaN               NaN            NaN   \n",
       "8       0.0             NaN               NaN            NaN   \n",
       "9       0.0             NaN               NaN            NaN   \n",
       "\n",
       "  total_il_high_credit_limit  \n",
       "0                        NaN  \n",
       "1                        NaN  \n",
       "2                        NaN  \n",
       "3                        NaN  \n",
       "4                        NaN  \n",
       "5                        NaN  \n",
       "6                        NaN  \n",
       "7                        NaN  \n",
       "8                        NaN  \n",
       "9                        NaN  \n",
       "\n",
       "[10 rows x 111 columns]"
      ]
     },
     "execution_count": 2,
     "metadata": {},
     "output_type": "execute_result"
    }
   ],
   "source": [
    "df = pd.read_csv(\"loan.csv\")\n",
    "df.head(10)"
   ]
  },
  {
   "cell_type": "markdown",
   "id": "02c11f45-ea87-44f9-ab58-c7f4f951f386",
   "metadata": {},
   "source": [
    "### <span style=\"color:green\"> First thing is to have a brief look at the data and the null values etc."
   ]
  },
  {
   "cell_type": "markdown",
   "id": "4f32ca60-49dd-4bcc-a4a4-4575fbdb82f6",
   "metadata": {},
   "source": [
    "### <span style=\"color:green\"> We can see that, there are a lot columns with all 0 values and those columns are of no use to use in our analysis."
   ]
  },
  {
   "cell_type": "markdown",
   "id": "fceb3afd-cdc2-47c5-80f7-7863a4142bdc",
   "metadata": {},
   "source": [
    "### <span style=\"color:green\"> We can thus, single them out and delete"
   ]
  },
  {
   "cell_type": "code",
   "execution_count": 3,
   "id": "348e5b28-af06-4305-8f59-9198cc62be80",
   "metadata": {},
   "outputs": [
    {
     "name": "stdout",
     "output_type": "stream",
     "text": [
      "<class 'pandas.core.frame.DataFrame'>\n",
      "RangeIndex: 39717 entries, 0 to 39716\n",
      "Data columns (total 111 columns):\n",
      " #    Column                          Non-Null Count  Dtype  \n",
      "---   ------                          --------------  -----  \n",
      " 0    id                              39717 non-null  int64  \n",
      " 1    member_id                       39717 non-null  int64  \n",
      " 2    loan_amnt                       39717 non-null  int64  \n",
      " 3    funded_amnt                     39717 non-null  int64  \n",
      " 4    funded_amnt_inv                 39717 non-null  float64\n",
      " 5    term                            39717 non-null  object \n",
      " 6    int_rate                        39717 non-null  object \n",
      " 7    installment                     39717 non-null  float64\n",
      " 8    grade                           39717 non-null  object \n",
      " 9    sub_grade                       39717 non-null  object \n",
      " 10   emp_title                       37258 non-null  object \n",
      " 11   emp_length                      38642 non-null  object \n",
      " 12   home_ownership                  39717 non-null  object \n",
      " 13   annual_inc                      39717 non-null  float64\n",
      " 14   verification_status             39717 non-null  object \n",
      " 15   issue_d                         39717 non-null  object \n",
      " 16   loan_status                     39717 non-null  object \n",
      " 17   pymnt_plan                      39717 non-null  object \n",
      " 18   url                             39717 non-null  object \n",
      " 19   desc                            26775 non-null  object \n",
      " 20   purpose                         39717 non-null  object \n",
      " 21   title                           39706 non-null  object \n",
      " 22   zip_code                        39717 non-null  object \n",
      " 23   addr_state                      39717 non-null  object \n",
      " 24   dti                             39717 non-null  float64\n",
      " 25   delinq_2yrs                     39717 non-null  int64  \n",
      " 26   earliest_cr_line                39717 non-null  object \n",
      " 27   inq_last_6mths                  39717 non-null  int64  \n",
      " 28   mths_since_last_delinq          14035 non-null  float64\n",
      " 29   mths_since_last_record          2786 non-null   float64\n",
      " 30   open_acc                        39717 non-null  int64  \n",
      " 31   pub_rec                         39717 non-null  int64  \n",
      " 32   revol_bal                       39717 non-null  int64  \n",
      " 33   revol_util                      39667 non-null  object \n",
      " 34   total_acc                       39717 non-null  int64  \n",
      " 35   initial_list_status             39717 non-null  object \n",
      " 36   out_prncp                       39717 non-null  float64\n",
      " 37   out_prncp_inv                   39717 non-null  float64\n",
      " 38   total_pymnt                     39717 non-null  float64\n",
      " 39   total_pymnt_inv                 39717 non-null  float64\n",
      " 40   total_rec_prncp                 39717 non-null  float64\n",
      " 41   total_rec_int                   39717 non-null  float64\n",
      " 42   total_rec_late_fee              39717 non-null  float64\n",
      " 43   recoveries                      39717 non-null  float64\n",
      " 44   collection_recovery_fee         39717 non-null  float64\n",
      " 45   last_pymnt_d                    39646 non-null  object \n",
      " 46   last_pymnt_amnt                 39717 non-null  float64\n",
      " 47   next_pymnt_d                    1140 non-null   object \n",
      " 48   last_credit_pull_d              39715 non-null  object \n",
      " 49   collections_12_mths_ex_med      39661 non-null  float64\n",
      " 50   mths_since_last_major_derog     0 non-null      float64\n",
      " 51   policy_code                     39717 non-null  int64  \n",
      " 52   application_type                39717 non-null  object \n",
      " 53   annual_inc_joint                0 non-null      float64\n",
      " 54   dti_joint                       0 non-null      float64\n",
      " 55   verification_status_joint       0 non-null      float64\n",
      " 56   acc_now_delinq                  39717 non-null  int64  \n",
      " 57   tot_coll_amt                    0 non-null      float64\n",
      " 58   tot_cur_bal                     0 non-null      float64\n",
      " 59   open_acc_6m                     0 non-null      float64\n",
      " 60   open_il_6m                      0 non-null      float64\n",
      " 61   open_il_12m                     0 non-null      float64\n",
      " 62   open_il_24m                     0 non-null      float64\n",
      " 63   mths_since_rcnt_il              0 non-null      float64\n",
      " 64   total_bal_il                    0 non-null      float64\n",
      " 65   il_util                         0 non-null      float64\n",
      " 66   open_rv_12m                     0 non-null      float64\n",
      " 67   open_rv_24m                     0 non-null      float64\n",
      " 68   max_bal_bc                      0 non-null      float64\n",
      " 69   all_util                        0 non-null      float64\n",
      " 70   total_rev_hi_lim                0 non-null      float64\n",
      " 71   inq_fi                          0 non-null      float64\n",
      " 72   total_cu_tl                     0 non-null      float64\n",
      " 73   inq_last_12m                    0 non-null      float64\n",
      " 74   acc_open_past_24mths            0 non-null      float64\n",
      " 75   avg_cur_bal                     0 non-null      float64\n",
      " 76   bc_open_to_buy                  0 non-null      float64\n",
      " 77   bc_util                         0 non-null      float64\n",
      " 78   chargeoff_within_12_mths        39661 non-null  float64\n",
      " 79   delinq_amnt                     39717 non-null  int64  \n",
      " 80   mo_sin_old_il_acct              0 non-null      float64\n",
      " 81   mo_sin_old_rev_tl_op            0 non-null      float64\n",
      " 82   mo_sin_rcnt_rev_tl_op           0 non-null      float64\n",
      " 83   mo_sin_rcnt_tl                  0 non-null      float64\n",
      " 84   mort_acc                        0 non-null      float64\n",
      " 85   mths_since_recent_bc            0 non-null      float64\n",
      " 86   mths_since_recent_bc_dlq        0 non-null      float64\n",
      " 87   mths_since_recent_inq           0 non-null      float64\n",
      " 88   mths_since_recent_revol_delinq  0 non-null      float64\n",
      " 89   num_accts_ever_120_pd           0 non-null      float64\n",
      " 90   num_actv_bc_tl                  0 non-null      float64\n",
      " 91   num_actv_rev_tl                 0 non-null      float64\n",
      " 92   num_bc_sats                     0 non-null      float64\n",
      " 93   num_bc_tl                       0 non-null      float64\n",
      " 94   num_il_tl                       0 non-null      float64\n",
      " 95   num_op_rev_tl                   0 non-null      float64\n",
      " 96   num_rev_accts                   0 non-null      float64\n",
      " 97   num_rev_tl_bal_gt_0             0 non-null      float64\n",
      " 98   num_sats                        0 non-null      float64\n",
      " 99   num_tl_120dpd_2m                0 non-null      float64\n",
      " 100  num_tl_30dpd                    0 non-null      float64\n",
      " 101  num_tl_90g_dpd_24m              0 non-null      float64\n",
      " 102  num_tl_op_past_12m              0 non-null      float64\n",
      " 103  pct_tl_nvr_dlq                  0 non-null      float64\n",
      " 104  percent_bc_gt_75                0 non-null      float64\n",
      " 105  pub_rec_bankruptcies            39020 non-null  float64\n",
      " 106  tax_liens                       39678 non-null  float64\n",
      " 107  tot_hi_cred_lim                 0 non-null      float64\n",
      " 108  total_bal_ex_mort               0 non-null      float64\n",
      " 109  total_bc_limit                  0 non-null      float64\n",
      " 110  total_il_high_credit_limit      0 non-null      float64\n",
      "dtypes: float64(74), int64(13), object(24)\n",
      "memory usage: 33.6+ MB\n"
     ]
    }
   ],
   "source": [
    "df.info(verbose=True, show_counts=True)"
   ]
  },
  {
   "cell_type": "code",
   "execution_count": 4,
   "id": "ecce2548-a552-4b90-b47d-c566e46f0894",
   "metadata": {},
   "outputs": [],
   "source": [
    "null_list=df.columns[df.isnull().all()].to_list()"
   ]
  },
  {
   "cell_type": "code",
   "execution_count": 5,
   "id": "f7f7c8b8-f104-4809-9923-e180bbfb670c",
   "metadata": {},
   "outputs": [
    {
     "data": {
      "text/plain": [
       "['mths_since_last_major_derog',\n",
       " 'annual_inc_joint',\n",
       " 'dti_joint',\n",
       " 'verification_status_joint',\n",
       " 'tot_coll_amt',\n",
       " 'tot_cur_bal',\n",
       " 'open_acc_6m',\n",
       " 'open_il_6m',\n",
       " 'open_il_12m',\n",
       " 'open_il_24m',\n",
       " 'mths_since_rcnt_il',\n",
       " 'total_bal_il',\n",
       " 'il_util',\n",
       " 'open_rv_12m',\n",
       " 'open_rv_24m',\n",
       " 'max_bal_bc',\n",
       " 'all_util',\n",
       " 'total_rev_hi_lim',\n",
       " 'inq_fi',\n",
       " 'total_cu_tl',\n",
       " 'inq_last_12m',\n",
       " 'acc_open_past_24mths',\n",
       " 'avg_cur_bal',\n",
       " 'bc_open_to_buy',\n",
       " 'bc_util',\n",
       " 'mo_sin_old_il_acct',\n",
       " 'mo_sin_old_rev_tl_op',\n",
       " 'mo_sin_rcnt_rev_tl_op',\n",
       " 'mo_sin_rcnt_tl',\n",
       " 'mort_acc',\n",
       " 'mths_since_recent_bc',\n",
       " 'mths_since_recent_bc_dlq',\n",
       " 'mths_since_recent_inq',\n",
       " 'mths_since_recent_revol_delinq',\n",
       " 'num_accts_ever_120_pd',\n",
       " 'num_actv_bc_tl',\n",
       " 'num_actv_rev_tl',\n",
       " 'num_bc_sats',\n",
       " 'num_bc_tl',\n",
       " 'num_il_tl',\n",
       " 'num_op_rev_tl',\n",
       " 'num_rev_accts',\n",
       " 'num_rev_tl_bal_gt_0',\n",
       " 'num_sats',\n",
       " 'num_tl_120dpd_2m',\n",
       " 'num_tl_30dpd',\n",
       " 'num_tl_90g_dpd_24m',\n",
       " 'num_tl_op_past_12m',\n",
       " 'pct_tl_nvr_dlq',\n",
       " 'percent_bc_gt_75',\n",
       " 'tot_hi_cred_lim',\n",
       " 'total_bal_ex_mort',\n",
       " 'total_bc_limit',\n",
       " 'total_il_high_credit_limit']"
      ]
     },
     "execution_count": 5,
     "metadata": {},
     "output_type": "execute_result"
    }
   ],
   "source": [
    "null_list"
   ]
  },
  {
   "cell_type": "code",
   "execution_count": 6,
   "id": "71b7ca8e-68c5-4a43-bd2b-be87a46f39e3",
   "metadata": {},
   "outputs": [],
   "source": [
    "df.drop(null_list, axis=1, inplace=True)"
   ]
  },
  {
   "cell_type": "code",
   "execution_count": 7,
   "id": "610e3400-d806-49b8-8e52-fef631159f2b",
   "metadata": {},
   "outputs": [
    {
     "name": "stdout",
     "output_type": "stream",
     "text": [
      "<class 'pandas.core.frame.DataFrame'>\n",
      "RangeIndex: 39717 entries, 0 to 39716\n",
      "Data columns (total 57 columns):\n",
      " #   Column                      Non-Null Count  Dtype  \n",
      "---  ------                      --------------  -----  \n",
      " 0   id                          39717 non-null  int64  \n",
      " 1   member_id                   39717 non-null  int64  \n",
      " 2   loan_amnt                   39717 non-null  int64  \n",
      " 3   funded_amnt                 39717 non-null  int64  \n",
      " 4   funded_amnt_inv             39717 non-null  float64\n",
      " 5   term                        39717 non-null  object \n",
      " 6   int_rate                    39717 non-null  object \n",
      " 7   installment                 39717 non-null  float64\n",
      " 8   grade                       39717 non-null  object \n",
      " 9   sub_grade                   39717 non-null  object \n",
      " 10  emp_title                   37258 non-null  object \n",
      " 11  emp_length                  38642 non-null  object \n",
      " 12  home_ownership              39717 non-null  object \n",
      " 13  annual_inc                  39717 non-null  float64\n",
      " 14  verification_status         39717 non-null  object \n",
      " 15  issue_d                     39717 non-null  object \n",
      " 16  loan_status                 39717 non-null  object \n",
      " 17  pymnt_plan                  39717 non-null  object \n",
      " 18  url                         39717 non-null  object \n",
      " 19  desc                        26775 non-null  object \n",
      " 20  purpose                     39717 non-null  object \n",
      " 21  title                       39706 non-null  object \n",
      " 22  zip_code                    39717 non-null  object \n",
      " 23  addr_state                  39717 non-null  object \n",
      " 24  dti                         39717 non-null  float64\n",
      " 25  delinq_2yrs                 39717 non-null  int64  \n",
      " 26  earliest_cr_line            39717 non-null  object \n",
      " 27  inq_last_6mths              39717 non-null  int64  \n",
      " 28  mths_since_last_delinq      14035 non-null  float64\n",
      " 29  mths_since_last_record      2786 non-null   float64\n",
      " 30  open_acc                    39717 non-null  int64  \n",
      " 31  pub_rec                     39717 non-null  int64  \n",
      " 32  revol_bal                   39717 non-null  int64  \n",
      " 33  revol_util                  39667 non-null  object \n",
      " 34  total_acc                   39717 non-null  int64  \n",
      " 35  initial_list_status         39717 non-null  object \n",
      " 36  out_prncp                   39717 non-null  float64\n",
      " 37  out_prncp_inv               39717 non-null  float64\n",
      " 38  total_pymnt                 39717 non-null  float64\n",
      " 39  total_pymnt_inv             39717 non-null  float64\n",
      " 40  total_rec_prncp             39717 non-null  float64\n",
      " 41  total_rec_int               39717 non-null  float64\n",
      " 42  total_rec_late_fee          39717 non-null  float64\n",
      " 43  recoveries                  39717 non-null  float64\n",
      " 44  collection_recovery_fee     39717 non-null  float64\n",
      " 45  last_pymnt_d                39646 non-null  object \n",
      " 46  last_pymnt_amnt             39717 non-null  float64\n",
      " 47  next_pymnt_d                1140 non-null   object \n",
      " 48  last_credit_pull_d          39715 non-null  object \n",
      " 49  collections_12_mths_ex_med  39661 non-null  float64\n",
      " 50  policy_code                 39717 non-null  int64  \n",
      " 51  application_type            39717 non-null  object \n",
      " 52  acc_now_delinq              39717 non-null  int64  \n",
      " 53  chargeoff_within_12_mths    39661 non-null  float64\n",
      " 54  delinq_amnt                 39717 non-null  int64  \n",
      " 55  pub_rec_bankruptcies        39020 non-null  float64\n",
      " 56  tax_liens                   39678 non-null  float64\n",
      "dtypes: float64(20), int64(13), object(24)\n",
      "memory usage: 17.3+ MB\n"
     ]
    }
   ],
   "source": [
    "df.info()"
   ]
  },
  {
   "cell_type": "markdown",
   "id": "eea34e37-d26c-41e1-a99d-92843dd014a1",
   "metadata": {},
   "source": [
    "### <span style=\"color:green\"> Now, we are left with much lesser columns"
   ]
  },
  {
   "cell_type": "markdown",
   "id": "9dc4ead1-e426-405e-a9ac-e516d523a6f1",
   "metadata": {},
   "source": [
    "### <span style=\"color:green\"> Also, we can see that some of those columns are having some NULL values in them. We have to clean/treat them before moving ahead"
   ]
  },
  {
   "cell_type": "code",
   "execution_count": 8,
   "id": "edccb718-6100-4487-ad69-6691a098fa51",
   "metadata": {},
   "outputs": [
    {
     "data": {
      "text/plain": [
       "Index(['emp_title', 'emp_length', 'desc', 'title', 'mths_since_last_delinq',\n",
       "       'mths_since_last_record', 'revol_util', 'last_pymnt_d', 'next_pymnt_d',\n",
       "       'last_credit_pull_d', 'collections_12_mths_ex_med',\n",
       "       'chargeoff_within_12_mths', 'pub_rec_bankruptcies', 'tax_liens'],\n",
       "      dtype='object')"
      ]
     },
     "execution_count": 8,
     "metadata": {},
     "output_type": "execute_result"
    }
   ],
   "source": [
    "df.columns[df.isnull().any()]"
   ]
  },
  {
   "cell_type": "code",
   "execution_count": 9,
   "id": "6c7ae1e5-8add-4421-8d23-933923ce7833",
   "metadata": {},
   "outputs": [
    {
     "data": {
      "text/plain": [
       "28820"
      ]
     },
     "execution_count": 9,
     "metadata": {},
     "output_type": "execute_result"
    }
   ],
   "source": [
    "df['emp_title'].nunique()"
   ]
  },
  {
   "cell_type": "markdown",
   "id": "e7aa2a80-4a58-4439-b8a7-a18179b27ba4",
   "metadata": {},
   "source": [
    "### <span style=\"color:green\"> emp_title is the Job Title of the borrower and thus, can be one important factor in the analysis. We cannot delete the column."
   ]
  },
  {
   "cell_type": "markdown",
   "id": "9f3baad5-5d70-4f85-b593-7adfb17b5525",
   "metadata": {},
   "source": [
    "### <span style=\"color:green\"> We cannot use mode here as there are too many titles. We can rather delete the rows having the null values for emp_title"
   ]
  },
  {
   "cell_type": "code",
   "execution_count": 10,
   "id": "3107bd59-9d21-49be-b594-97d8a060422c",
   "metadata": {},
   "outputs": [
    {
     "data": {
      "text/html": [
       "<div>\n",
       "<style scoped>\n",
       "    .dataframe tbody tr th:only-of-type {\n",
       "        vertical-align: middle;\n",
       "    }\n",
       "\n",
       "    .dataframe tbody tr th {\n",
       "        vertical-align: top;\n",
       "    }\n",
       "\n",
       "    .dataframe thead th {\n",
       "        text-align: right;\n",
       "    }\n",
       "</style>\n",
       "<table border=\"1\" class=\"dataframe\">\n",
       "  <thead>\n",
       "    <tr style=\"text-align: right;\">\n",
       "      <th></th>\n",
       "      <th>id</th>\n",
       "      <th>member_id</th>\n",
       "      <th>loan_amnt</th>\n",
       "      <th>funded_amnt</th>\n",
       "      <th>funded_amnt_inv</th>\n",
       "      <th>term</th>\n",
       "      <th>int_rate</th>\n",
       "      <th>installment</th>\n",
       "      <th>grade</th>\n",
       "      <th>sub_grade</th>\n",
       "      <th>...</th>\n",
       "      <th>next_pymnt_d</th>\n",
       "      <th>last_credit_pull_d</th>\n",
       "      <th>collections_12_mths_ex_med</th>\n",
       "      <th>policy_code</th>\n",
       "      <th>application_type</th>\n",
       "      <th>acc_now_delinq</th>\n",
       "      <th>chargeoff_within_12_mths</th>\n",
       "      <th>delinq_amnt</th>\n",
       "      <th>pub_rec_bankruptcies</th>\n",
       "      <th>tax_liens</th>\n",
       "    </tr>\n",
       "  </thead>\n",
       "  <tbody>\n",
       "    <tr>\n",
       "      <th>0</th>\n",
       "      <td>1077501</td>\n",
       "      <td>1296599</td>\n",
       "      <td>5000</td>\n",
       "      <td>5000</td>\n",
       "      <td>4975.0</td>\n",
       "      <td>36 months</td>\n",
       "      <td>10.65%</td>\n",
       "      <td>162.87</td>\n",
       "      <td>B</td>\n",
       "      <td>B2</td>\n",
       "      <td>...</td>\n",
       "      <td>NaN</td>\n",
       "      <td>May-16</td>\n",
       "      <td>0.0</td>\n",
       "      <td>1</td>\n",
       "      <td>INDIVIDUAL</td>\n",
       "      <td>0</td>\n",
       "      <td>0.0</td>\n",
       "      <td>0</td>\n",
       "      <td>0.0</td>\n",
       "      <td>0.0</td>\n",
       "    </tr>\n",
       "    <tr>\n",
       "      <th>2</th>\n",
       "      <td>1077175</td>\n",
       "      <td>1313524</td>\n",
       "      <td>2400</td>\n",
       "      <td>2400</td>\n",
       "      <td>2400.0</td>\n",
       "      <td>36 months</td>\n",
       "      <td>15.96%</td>\n",
       "      <td>84.33</td>\n",
       "      <td>C</td>\n",
       "      <td>C5</td>\n",
       "      <td>...</td>\n",
       "      <td>NaN</td>\n",
       "      <td>May-16</td>\n",
       "      <td>0.0</td>\n",
       "      <td>1</td>\n",
       "      <td>INDIVIDUAL</td>\n",
       "      <td>0</td>\n",
       "      <td>0.0</td>\n",
       "      <td>0</td>\n",
       "      <td>0.0</td>\n",
       "      <td>0.0</td>\n",
       "    </tr>\n",
       "    <tr>\n",
       "      <th>8</th>\n",
       "      <td>1071795</td>\n",
       "      <td>1306957</td>\n",
       "      <td>5600</td>\n",
       "      <td>5600</td>\n",
       "      <td>5600.0</td>\n",
       "      <td>60 months</td>\n",
       "      <td>21.28%</td>\n",
       "      <td>152.39</td>\n",
       "      <td>F</td>\n",
       "      <td>F2</td>\n",
       "      <td>...</td>\n",
       "      <td>NaN</td>\n",
       "      <td>Aug-12</td>\n",
       "      <td>0.0</td>\n",
       "      <td>1</td>\n",
       "      <td>INDIVIDUAL</td>\n",
       "      <td>0</td>\n",
       "      <td>0.0</td>\n",
       "      <td>0</td>\n",
       "      <td>0.0</td>\n",
       "      <td>0.0</td>\n",
       "    </tr>\n",
       "    <tr>\n",
       "      <th>30</th>\n",
       "      <td>1032111</td>\n",
       "      <td>1261745</td>\n",
       "      <td>4375</td>\n",
       "      <td>4375</td>\n",
       "      <td>4375.0</td>\n",
       "      <td>36 months</td>\n",
       "      <td>7.51%</td>\n",
       "      <td>136.11</td>\n",
       "      <td>A</td>\n",
       "      <td>A3</td>\n",
       "      <td>...</td>\n",
       "      <td>NaN</td>\n",
       "      <td>Dec-14</td>\n",
       "      <td>0.0</td>\n",
       "      <td>1</td>\n",
       "      <td>INDIVIDUAL</td>\n",
       "      <td>0</td>\n",
       "      <td>0.0</td>\n",
       "      <td>0</td>\n",
       "      <td>0.0</td>\n",
       "      <td>0.0</td>\n",
       "    </tr>\n",
       "    <tr>\n",
       "      <th>42</th>\n",
       "      <td>1069314</td>\n",
       "      <td>1304202</td>\n",
       "      <td>3000</td>\n",
       "      <td>3000</td>\n",
       "      <td>3000.0</td>\n",
       "      <td>36 months</td>\n",
       "      <td>18.25%</td>\n",
       "      <td>108.84</td>\n",
       "      <td>D</td>\n",
       "      <td>D5</td>\n",
       "      <td>...</td>\n",
       "      <td>NaN</td>\n",
       "      <td>May-16</td>\n",
       "      <td>0.0</td>\n",
       "      <td>1</td>\n",
       "      <td>INDIVIDUAL</td>\n",
       "      <td>0</td>\n",
       "      <td>0.0</td>\n",
       "      <td>0</td>\n",
       "      <td>0.0</td>\n",
       "      <td>0.0</td>\n",
       "    </tr>\n",
       "    <tr>\n",
       "      <th>...</th>\n",
       "      <td>...</td>\n",
       "      <td>...</td>\n",
       "      <td>...</td>\n",
       "      <td>...</td>\n",
       "      <td>...</td>\n",
       "      <td>...</td>\n",
       "      <td>...</td>\n",
       "      <td>...</td>\n",
       "      <td>...</td>\n",
       "      <td>...</td>\n",
       "      <td>...</td>\n",
       "      <td>...</td>\n",
       "      <td>...</td>\n",
       "      <td>...</td>\n",
       "      <td>...</td>\n",
       "      <td>...</td>\n",
       "      <td>...</td>\n",
       "      <td>...</td>\n",
       "      <td>...</td>\n",
       "      <td>...</td>\n",
       "      <td>...</td>\n",
       "    </tr>\n",
       "    <tr>\n",
       "      <th>39700</th>\n",
       "      <td>98276</td>\n",
       "      <td>98268</td>\n",
       "      <td>5400</td>\n",
       "      <td>5400</td>\n",
       "      <td>200.0</td>\n",
       "      <td>36 months</td>\n",
       "      <td>7.75%</td>\n",
       "      <td>168.60</td>\n",
       "      <td>A</td>\n",
       "      <td>A3</td>\n",
       "      <td>...</td>\n",
       "      <td>NaN</td>\n",
       "      <td>Dec-13</td>\n",
       "      <td>NaN</td>\n",
       "      <td>1</td>\n",
       "      <td>INDIVIDUAL</td>\n",
       "      <td>0</td>\n",
       "      <td>NaN</td>\n",
       "      <td>0</td>\n",
       "      <td>NaN</td>\n",
       "      <td>NaN</td>\n",
       "    </tr>\n",
       "    <tr>\n",
       "      <th>39704</th>\n",
       "      <td>93277</td>\n",
       "      <td>93254</td>\n",
       "      <td>3000</td>\n",
       "      <td>3000</td>\n",
       "      <td>950.0</td>\n",
       "      <td>36 months</td>\n",
       "      <td>8.70%</td>\n",
       "      <td>94.98</td>\n",
       "      <td>B</td>\n",
       "      <td>B1</td>\n",
       "      <td>...</td>\n",
       "      <td>NaN</td>\n",
       "      <td>Jul-10</td>\n",
       "      <td>NaN</td>\n",
       "      <td>1</td>\n",
       "      <td>INDIVIDUAL</td>\n",
       "      <td>0</td>\n",
       "      <td>NaN</td>\n",
       "      <td>0</td>\n",
       "      <td>NaN</td>\n",
       "      <td>NaN</td>\n",
       "    </tr>\n",
       "    <tr>\n",
       "      <th>39706</th>\n",
       "      <td>92676</td>\n",
       "      <td>92671</td>\n",
       "      <td>5000</td>\n",
       "      <td>5000</td>\n",
       "      <td>150.0</td>\n",
       "      <td>36 months</td>\n",
       "      <td>8.07%</td>\n",
       "      <td>156.84</td>\n",
       "      <td>A</td>\n",
       "      <td>A4</td>\n",
       "      <td>...</td>\n",
       "      <td>NaN</td>\n",
       "      <td>Jun-07</td>\n",
       "      <td>NaN</td>\n",
       "      <td>1</td>\n",
       "      <td>INDIVIDUAL</td>\n",
       "      <td>0</td>\n",
       "      <td>NaN</td>\n",
       "      <td>0</td>\n",
       "      <td>NaN</td>\n",
       "      <td>NaN</td>\n",
       "    </tr>\n",
       "    <tr>\n",
       "      <th>39714</th>\n",
       "      <td>90395</td>\n",
       "      <td>90390</td>\n",
       "      <td>5000</td>\n",
       "      <td>5000</td>\n",
       "      <td>1325.0</td>\n",
       "      <td>36 months</td>\n",
       "      <td>8.07%</td>\n",
       "      <td>156.84</td>\n",
       "      <td>A</td>\n",
       "      <td>A4</td>\n",
       "      <td>...</td>\n",
       "      <td>NaN</td>\n",
       "      <td>Jun-07</td>\n",
       "      <td>NaN</td>\n",
       "      <td>1</td>\n",
       "      <td>INDIVIDUAL</td>\n",
       "      <td>0</td>\n",
       "      <td>NaN</td>\n",
       "      <td>0</td>\n",
       "      <td>NaN</td>\n",
       "      <td>NaN</td>\n",
       "    </tr>\n",
       "    <tr>\n",
       "      <th>39715</th>\n",
       "      <td>90376</td>\n",
       "      <td>89243</td>\n",
       "      <td>5000</td>\n",
       "      <td>5000</td>\n",
       "      <td>650.0</td>\n",
       "      <td>36 months</td>\n",
       "      <td>7.43%</td>\n",
       "      <td>155.38</td>\n",
       "      <td>A</td>\n",
       "      <td>A2</td>\n",
       "      <td>...</td>\n",
       "      <td>NaN</td>\n",
       "      <td>Jun-07</td>\n",
       "      <td>NaN</td>\n",
       "      <td>1</td>\n",
       "      <td>INDIVIDUAL</td>\n",
       "      <td>0</td>\n",
       "      <td>NaN</td>\n",
       "      <td>0</td>\n",
       "      <td>NaN</td>\n",
       "      <td>NaN</td>\n",
       "    </tr>\n",
       "  </tbody>\n",
       "</table>\n",
       "<p>2459 rows × 57 columns</p>\n",
       "</div>"
      ],
      "text/plain": [
       "            id  member_id  loan_amnt  funded_amnt  funded_amnt_inv  \\\n",
       "0      1077501    1296599       5000         5000           4975.0   \n",
       "2      1077175    1313524       2400         2400           2400.0   \n",
       "8      1071795    1306957       5600         5600           5600.0   \n",
       "30     1032111    1261745       4375         4375           4375.0   \n",
       "42     1069314    1304202       3000         3000           3000.0   \n",
       "...        ...        ...        ...          ...              ...   \n",
       "39700    98276      98268       5400         5400            200.0   \n",
       "39704    93277      93254       3000         3000            950.0   \n",
       "39706    92676      92671       5000         5000            150.0   \n",
       "39714    90395      90390       5000         5000           1325.0   \n",
       "39715    90376      89243       5000         5000            650.0   \n",
       "\n",
       "             term int_rate  installment grade sub_grade  ... next_pymnt_d  \\\n",
       "0       36 months   10.65%       162.87     B        B2  ...          NaN   \n",
       "2       36 months   15.96%        84.33     C        C5  ...          NaN   \n",
       "8       60 months   21.28%       152.39     F        F2  ...          NaN   \n",
       "30      36 months    7.51%       136.11     A        A3  ...          NaN   \n",
       "42      36 months   18.25%       108.84     D        D5  ...          NaN   \n",
       "...           ...      ...          ...   ...       ...  ...          ...   \n",
       "39700   36 months    7.75%       168.60     A        A3  ...          NaN   \n",
       "39704   36 months    8.70%        94.98     B        B1  ...          NaN   \n",
       "39706   36 months    8.07%       156.84     A        A4  ...          NaN   \n",
       "39714   36 months    8.07%       156.84     A        A4  ...          NaN   \n",
       "39715   36 months    7.43%       155.38     A        A2  ...          NaN   \n",
       "\n",
       "      last_credit_pull_d collections_12_mths_ex_med  policy_code  \\\n",
       "0                 May-16                        0.0            1   \n",
       "2                 May-16                        0.0            1   \n",
       "8                 Aug-12                        0.0            1   \n",
       "30                Dec-14                        0.0            1   \n",
       "42                May-16                        0.0            1   \n",
       "...                  ...                        ...          ...   \n",
       "39700             Dec-13                        NaN            1   \n",
       "39704             Jul-10                        NaN            1   \n",
       "39706             Jun-07                        NaN            1   \n",
       "39714             Jun-07                        NaN            1   \n",
       "39715             Jun-07                        NaN            1   \n",
       "\n",
       "      application_type acc_now_delinq chargeoff_within_12_mths delinq_amnt  \\\n",
       "0           INDIVIDUAL              0                      0.0           0   \n",
       "2           INDIVIDUAL              0                      0.0           0   \n",
       "8           INDIVIDUAL              0                      0.0           0   \n",
       "30          INDIVIDUAL              0                      0.0           0   \n",
       "42          INDIVIDUAL              0                      0.0           0   \n",
       "...                ...            ...                      ...         ...   \n",
       "39700       INDIVIDUAL              0                      NaN           0   \n",
       "39704       INDIVIDUAL              0                      NaN           0   \n",
       "39706       INDIVIDUAL              0                      NaN           0   \n",
       "39714       INDIVIDUAL              0                      NaN           0   \n",
       "39715       INDIVIDUAL              0                      NaN           0   \n",
       "\n",
       "      pub_rec_bankruptcies tax_liens  \n",
       "0                      0.0       0.0  \n",
       "2                      0.0       0.0  \n",
       "8                      0.0       0.0  \n",
       "30                     0.0       0.0  \n",
       "42                     0.0       0.0  \n",
       "...                    ...       ...  \n",
       "39700                  NaN       NaN  \n",
       "39704                  NaN       NaN  \n",
       "39706                  NaN       NaN  \n",
       "39714                  NaN       NaN  \n",
       "39715                  NaN       NaN  \n",
       "\n",
       "[2459 rows x 57 columns]"
      ]
     },
     "execution_count": 10,
     "metadata": {},
     "output_type": "execute_result"
    }
   ],
   "source": [
    "df[df['emp_title'].isnull()]"
   ]
  },
  {
   "cell_type": "code",
   "execution_count": 11,
   "id": "26b17379-8cff-4d65-9a1c-f96939832183",
   "metadata": {},
   "outputs": [],
   "source": [
    "df.drop(df[df['emp_title'].isnull()].index, inplace=True)"
   ]
  },
  {
   "cell_type": "markdown",
   "id": "97cf599f-a23f-4f66-9332-6f9b66786744",
   "metadata": {},
   "source": [
    "### <span style=\"color:green\"> Let's check the data frame again"
   ]
  },
  {
   "cell_type": "code",
   "execution_count": 12,
   "id": "0097788a-7005-4b81-a62d-e7ef4e11e48b",
   "metadata": {},
   "outputs": [
    {
     "name": "stdout",
     "output_type": "stream",
     "text": [
      "<class 'pandas.core.frame.DataFrame'>\n",
      "Index: 37258 entries, 1 to 39716\n",
      "Data columns (total 57 columns):\n",
      " #   Column                      Non-Null Count  Dtype  \n",
      "---  ------                      --------------  -----  \n",
      " 0   id                          37258 non-null  int64  \n",
      " 1   member_id                   37258 non-null  int64  \n",
      " 2   loan_amnt                   37258 non-null  int64  \n",
      " 3   funded_amnt                 37258 non-null  int64  \n",
      " 4   funded_amnt_inv             37258 non-null  float64\n",
      " 5   term                        37258 non-null  object \n",
      " 6   int_rate                    37258 non-null  object \n",
      " 7   installment                 37258 non-null  float64\n",
      " 8   grade                       37258 non-null  object \n",
      " 9   sub_grade                   37258 non-null  object \n",
      " 10  emp_title                   37258 non-null  object \n",
      " 11  emp_length                  37202 non-null  object \n",
      " 12  home_ownership              37258 non-null  object \n",
      " 13  annual_inc                  37258 non-null  float64\n",
      " 14  verification_status         37258 non-null  object \n",
      " 15  issue_d                     37258 non-null  object \n",
      " 16  loan_status                 37258 non-null  object \n",
      " 17  pymnt_plan                  37258 non-null  object \n",
      " 18  url                         37258 non-null  object \n",
      " 19  desc                        25171 non-null  object \n",
      " 20  purpose                     37258 non-null  object \n",
      " 21  title                       37249 non-null  object \n",
      " 22  zip_code                    37258 non-null  object \n",
      " 23  addr_state                  37258 non-null  object \n",
      " 24  dti                         37258 non-null  float64\n",
      " 25  delinq_2yrs                 37258 non-null  int64  \n",
      " 26  earliest_cr_line            37258 non-null  object \n",
      " 27  inq_last_6mths              37258 non-null  int64  \n",
      " 28  mths_since_last_delinq      13197 non-null  float64\n",
      " 29  mths_since_last_record      2555 non-null   float64\n",
      " 30  open_acc                    37258 non-null  int64  \n",
      " 31  pub_rec                     37258 non-null  int64  \n",
      " 32  revol_bal                   37258 non-null  int64  \n",
      " 33  revol_util                  37212 non-null  object \n",
      " 34  total_acc                   37258 non-null  int64  \n",
      " 35  initial_list_status         37258 non-null  object \n",
      " 36  out_prncp                   37258 non-null  float64\n",
      " 37  out_prncp_inv               37258 non-null  float64\n",
      " 38  total_pymnt                 37258 non-null  float64\n",
      " 39  total_pymnt_inv             37258 non-null  float64\n",
      " 40  total_rec_prncp             37258 non-null  float64\n",
      " 41  total_rec_int               37258 non-null  float64\n",
      " 42  total_rec_late_fee          37258 non-null  float64\n",
      " 43  recoveries                  37258 non-null  float64\n",
      " 44  collection_recovery_fee     37258 non-null  float64\n",
      " 45  last_pymnt_d                37194 non-null  object \n",
      " 46  last_pymnt_amnt             37258 non-null  float64\n",
      " 47  next_pymnt_d                1067 non-null   object \n",
      " 48  last_credit_pull_d          37258 non-null  object \n",
      " 49  collections_12_mths_ex_med  37211 non-null  float64\n",
      " 50  policy_code                 37258 non-null  int64  \n",
      " 51  application_type            37258 non-null  object \n",
      " 52  acc_now_delinq              37258 non-null  int64  \n",
      " 53  chargeoff_within_12_mths    37211 non-null  float64\n",
      " 54  delinq_amnt                 37258 non-null  int64  \n",
      " 55  pub_rec_bankruptcies        36604 non-null  float64\n",
      " 56  tax_liens                   37226 non-null  float64\n",
      "dtypes: float64(20), int64(13), object(24)\n",
      "memory usage: 16.5+ MB\n"
     ]
    }
   ],
   "source": [
    "df.info()"
   ]
  },
  {
   "cell_type": "code",
   "execution_count": 13,
   "id": "bd04cdca-5097-42ae-aad3-bb9f8d071267",
   "metadata": {},
   "outputs": [
    {
     "data": {
      "text/plain": [
       "Index(['emp_length', 'desc', 'title', 'mths_since_last_delinq',\n",
       "       'mths_since_last_record', 'revol_util', 'last_pymnt_d', 'next_pymnt_d',\n",
       "       'collections_12_mths_ex_med', 'chargeoff_within_12_mths',\n",
       "       'pub_rec_bankruptcies', 'tax_liens'],\n",
       "      dtype='object')"
      ]
     },
     "execution_count": 13,
     "metadata": {},
     "output_type": "execute_result"
    }
   ],
   "source": [
    "df.columns[df.isnull().any()]"
   ]
  },
  {
   "cell_type": "markdown",
   "id": "8f9ece23-1a20-4d04-8e2a-a4ecf57ee6a4",
   "metadata": {},
   "source": [
    "### <span style=\"color:green\"> Let's deal with emp_length next (Employment length in years. Possible values are between 0 and 10 where 0 means less than one year and 10 means ten or more years)"
   ]
  },
  {
   "cell_type": "code",
   "execution_count": 14,
   "id": "7d0c93ef-1471-481b-b176-9bc677aa604a",
   "metadata": {},
   "outputs": [
    {
     "data": {
      "text/plain": [
       "array(['< 1 year', '10+ years', '1 year', '3 years', '8 years', '9 years',\n",
       "       '5 years', '4 years', '6 years', '2 years', '7 years', nan],\n",
       "      dtype=object)"
      ]
     },
     "execution_count": 14,
     "metadata": {},
     "output_type": "execute_result"
    }
   ],
   "source": [
    "df['emp_length'].unique()"
   ]
  },
  {
   "cell_type": "code",
   "execution_count": 15,
   "id": "edb39f89-fc19-4823-8eb7-f93db5729faf",
   "metadata": {},
   "outputs": [],
   "source": [
    "df['emp_length'] = df['emp_length'].fillna(df['emp_length'].mode()[0])"
   ]
  },
  {
   "cell_type": "code",
   "execution_count": 16,
   "id": "4f565ea8-b680-4df0-9597-15b0096bde68",
   "metadata": {},
   "outputs": [
    {
     "data": {
      "text/plain": [
       "array(['< 1 year', '10+ years', '1 year', '3 years', '8 years', '9 years',\n",
       "       '5 years', '4 years', '6 years', '2 years', '7 years'],\n",
       "      dtype=object)"
      ]
     },
     "execution_count": 16,
     "metadata": {},
     "output_type": "execute_result"
    }
   ],
   "source": [
    "df['emp_length'].unique()"
   ]
  },
  {
   "cell_type": "code",
   "execution_count": 17,
   "id": "4b4a7df6-8c89-43c4-a846-00d0b77bf92d",
   "metadata": {},
   "outputs": [
    {
     "data": {
      "text/plain": [
       "Index(['desc', 'title', 'mths_since_last_delinq', 'mths_since_last_record',\n",
       "       'revol_util', 'last_pymnt_d', 'next_pymnt_d',\n",
       "       'collections_12_mths_ex_med', 'chargeoff_within_12_mths',\n",
       "       'pub_rec_bankruptcies', 'tax_liens'],\n",
       "      dtype='object')"
      ]
     },
     "execution_count": 17,
     "metadata": {},
     "output_type": "execute_result"
    }
   ],
   "source": [
    "df.columns[df.isnull().any()]"
   ]
  },
  {
   "cell_type": "markdown",
   "id": "f0f66bdf-6c4f-4c72-9b0a-e7095f12dce2",
   "metadata": {},
   "source": [
    "### <span style=\"color:green\"> Let's deal with next feature desc (Loan description provided by the borrower)"
   ]
  },
  {
   "cell_type": "code",
   "execution_count": 18,
   "id": "9c313d42-f0c1-4dfd-801e-2f62c3130f24",
   "metadata": {},
   "outputs": [
    {
     "data": {
      "text/plain": [
       "1       Borrower added on 12/22/11 > I plan to use t...\n",
       "3       Borrower added on 12/21/11 > to pay for prop...\n",
       "4       Borrower added on 12/21/11 > I plan on combi...\n",
       "5                                                   NaN\n",
       "6       Borrower added on 12/18/11 > I am planning o...\n",
       "7       Borrower added on 12/16/11 > Downpayment for...\n",
       "9       Borrower added on 12/16/11 > I'm trying to b...\n",
       "10      Borrower added on 12/15/11 > I had recived a...\n",
       "11                                                  NaN\n",
       "12      Borrower added on 12/15/11 > Plan to pay off...\n",
       "Name: desc, dtype: object"
      ]
     },
     "execution_count": 18,
     "metadata": {},
     "output_type": "execute_result"
    }
   ],
   "source": [
    "df['desc'].head(10)"
   ]
  },
  {
   "cell_type": "code",
   "execution_count": 19,
   "id": "c9396379-4296-4a90-a526-7f7607d8e597",
   "metadata": {},
   "outputs": [
    {
     "name": "stdout",
     "output_type": "stream",
     "text": [
      "<class 'pandas.core.series.Series'>\n",
      "Index: 37258 entries, 1 to 39716\n",
      "Series name: desc\n",
      "Non-Null Count  Dtype \n",
      "--------------  ----- \n",
      "25171 non-null  object\n",
      "dtypes: object(1)\n",
      "memory usage: 582.2+ KB\n"
     ]
    }
   ],
   "source": [
    "df['desc'].info()"
   ]
  },
  {
   "cell_type": "markdown",
   "id": "46b1cc7c-7295-45e5-8571-51fa7e76ede2",
   "metadata": {},
   "source": [
    "### <span style=\"color:green\"> This doesn't look like to add value to our analysis and also, there are so many missing values. It's better to drop the column"
   ]
  },
  {
   "cell_type": "code",
   "execution_count": 20,
   "id": "4ec25944-8e9c-4183-8968-f613962776e6",
   "metadata": {},
   "outputs": [],
   "source": [
    "df = df.drop('desc',axis=1)"
   ]
  },
  {
   "cell_type": "code",
   "execution_count": 21,
   "id": "d09d8305-683d-4028-841d-beafbd30cf4b",
   "metadata": {},
   "outputs": [
    {
     "data": {
      "text/plain": [
       "Index(['title', 'mths_since_last_delinq', 'mths_since_last_record',\n",
       "       'revol_util', 'last_pymnt_d', 'next_pymnt_d',\n",
       "       'collections_12_mths_ex_med', 'chargeoff_within_12_mths',\n",
       "       'pub_rec_bankruptcies', 'tax_liens'],\n",
       "      dtype='object')"
      ]
     },
     "execution_count": 21,
     "metadata": {},
     "output_type": "execute_result"
    }
   ],
   "source": [
    "df.columns[df.isnull().any()]"
   ]
  },
  {
   "cell_type": "markdown",
   "id": "5989f3a4-b511-4a41-bf68-4a2331f62db1",
   "metadata": {},
   "source": [
    "### <span style=\"color:green\"> Let's deal with next feature title (The loan title provided by the borrower)"
   ]
  },
  {
   "cell_type": "code",
   "execution_count": 22,
   "id": "2492e0d5-debe-41d4-8cce-3c55eb33bd20",
   "metadata": {},
   "outputs": [
    {
     "data": {
      "text/plain": [
       "1                                      bike\n",
       "3                                  personel\n",
       "4                                  Personal\n",
       "5     My wedding loan I promise to pay back\n",
       "6                                      Loan\n",
       "7                           Car Downpayment\n",
       "9               Building my credit history.\n",
       "10               High intrest Consolidation\n",
       "11                            Consolidation\n",
       "12                                  freedom\n",
       "Name: title, dtype: object"
      ]
     },
     "execution_count": 22,
     "metadata": {},
     "output_type": "execute_result"
    }
   ],
   "source": [
    "df['title'].head(10)"
   ]
  },
  {
   "cell_type": "code",
   "execution_count": 23,
   "id": "de6cabaa-5aae-41e7-a826-71f53c280da9",
   "metadata": {},
   "outputs": [
    {
     "name": "stdout",
     "output_type": "stream",
     "text": [
      "<class 'pandas.core.series.Series'>\n",
      "Index: 37258 entries, 1 to 39716\n",
      "Series name: title\n",
      "Non-Null Count  Dtype \n",
      "--------------  ----- \n",
      "37249 non-null  object\n",
      "dtypes: object(1)\n",
      "memory usage: 582.2+ KB\n"
     ]
    }
   ],
   "source": [
    "df['title'].info()"
   ]
  },
  {
   "cell_type": "code",
   "execution_count": 24,
   "id": "cd624274-7a6b-432e-8633-a5c65eeb7b74",
   "metadata": {},
   "outputs": [
    {
     "data": {
      "text/plain": [
       "18417"
      ]
     },
     "execution_count": 24,
     "metadata": {},
     "output_type": "execute_result"
    }
   ],
   "source": [
    "df['title'].nunique()"
   ]
  },
  {
   "cell_type": "markdown",
   "id": "9c5be6ec-2d3f-448d-ad51-41a4fd977d13",
   "metadata": {},
   "source": [
    "### <span style=\"color:green\"> Like the previous column, this also doesn't look like to add any value to our analysis. It's better to drop the column"
   ]
  },
  {
   "cell_type": "code",
   "execution_count": 25,
   "id": "a071a45d-a59e-44c5-93a6-f29de7e66cba",
   "metadata": {},
   "outputs": [],
   "source": [
    "df = df.drop('title', axis=1)"
   ]
  },
  {
   "cell_type": "code",
   "execution_count": 26,
   "id": "279f8b43-db77-4e41-b05c-cbd107333345",
   "metadata": {},
   "outputs": [
    {
     "data": {
      "text/plain": [
       "Index(['mths_since_last_delinq', 'mths_since_last_record', 'revol_util',\n",
       "       'last_pymnt_d', 'next_pymnt_d', 'collections_12_mths_ex_med',\n",
       "       'chargeoff_within_12_mths', 'pub_rec_bankruptcies', 'tax_liens'],\n",
       "      dtype='object')"
      ]
     },
     "execution_count": 26,
     "metadata": {},
     "output_type": "execute_result"
    }
   ],
   "source": [
    "df.columns[df.isnull().any()]"
   ]
  },
  {
   "cell_type": "markdown",
   "id": "c96e3843-f9c4-455c-a1d4-b555c11124ef",
   "metadata": {},
   "source": [
    "### <span style=\"color:green\"> Next variable/feature: mths_since_last_delinq (The number of months since the borrower's last delinquency)"
   ]
  },
  {
   "cell_type": "code",
   "execution_count": 27,
   "id": "11c4bbb3-ddc7-4d0b-83ac-d59f411146a2",
   "metadata": {},
   "outputs": [
    {
     "name": "stdout",
     "output_type": "stream",
     "text": [
      "<class 'pandas.core.series.Series'>\n",
      "Index: 37258 entries, 1 to 39716\n",
      "Series name: mths_since_last_delinq\n",
      "Non-Null Count  Dtype  \n",
      "--------------  -----  \n",
      "13197 non-null  float64\n",
      "dtypes: float64(1)\n",
      "memory usage: 582.2 KB\n"
     ]
    }
   ],
   "source": [
    "df['mths_since_last_delinq'].info()"
   ]
  },
  {
   "cell_type": "markdown",
   "id": "955c3297-9e05-4017-9532-c702ef12c49c",
   "metadata": {},
   "source": [
    "### <span style=\"color:green\"> There are too many missing values in this feature. Though seems to be an important one, we cannot go ahead with this column due to so many missing data."
   ]
  },
  {
   "cell_type": "markdown",
   "id": "6ac8bab4-1561-42cc-89e7-ba97f55ab34e",
   "metadata": {},
   "source": [
    "### <span style=\"color:green\"> Some more such columns are mths_since_last_record (The number of months since the last public record) and next_pymnt_d (Next scheduled payment date)"
   ]
  },
  {
   "cell_type": "markdown",
   "id": "f3aecd37-183c-4972-9eb4-62f2d8c886ba",
   "metadata": {},
   "source": [
    "### <span style=\"color:green\"> The only logical thing to do is to delete these features."
   ]
  },
  {
   "cell_type": "code",
   "execution_count": 28,
   "id": "87a11e38-bc47-40f9-9859-52cfeecc6442",
   "metadata": {},
   "outputs": [],
   "source": [
    "df = df.drop(['mths_since_last_delinq', 'mths_since_last_record', 'next_pymnt_d'], axis=1)"
   ]
  },
  {
   "cell_type": "code",
   "execution_count": 29,
   "id": "8fac1a04-8274-48b6-9ab7-481d96e58d59",
   "metadata": {},
   "outputs": [
    {
     "data": {
      "text/plain": [
       "Index(['revol_util', 'last_pymnt_d', 'collections_12_mths_ex_med',\n",
       "       'chargeoff_within_12_mths', 'pub_rec_bankruptcies', 'tax_liens'],\n",
       "      dtype='object')"
      ]
     },
     "execution_count": 29,
     "metadata": {},
     "output_type": "execute_result"
    }
   ],
   "source": [
    "df.columns[df.isnull().any()]"
   ]
  },
  {
   "cell_type": "markdown",
   "id": "e35beb1b-507a-49ef-bf5c-5b0bafa8b50f",
   "metadata": {},
   "source": [
    "### <span style=\"color:green\"> Next variable to deal with is revol_util (Revolving line utilization rate, or the amount of credit the borrower is using relative to all available revolving credit)"
   ]
  },
  {
   "cell_type": "code",
   "execution_count": 30,
   "id": "6dbf0093-480f-4829-983f-0e1cd1d1d7d6",
   "metadata": {},
   "outputs": [
    {
     "name": "stdout",
     "output_type": "stream",
     "text": [
      "<class 'pandas.core.series.Series'>\n",
      "Index: 37258 entries, 1 to 39716\n",
      "Series name: revol_util\n",
      "Non-Null Count  Dtype \n",
      "--------------  ----- \n",
      "37212 non-null  object\n",
      "dtypes: object(1)\n",
      "memory usage: 582.2+ KB\n"
     ]
    }
   ],
   "source": [
    "df['revol_util'].info()"
   ]
  },
  {
   "cell_type": "code",
   "execution_count": 31,
   "id": "2e277925-9ac6-4301-8279-e7fe8444b19a",
   "metadata": {},
   "outputs": [
    {
     "data": {
      "text/plain": [
       "1082"
      ]
     },
     "execution_count": 31,
     "metadata": {},
     "output_type": "execute_result"
    }
   ],
   "source": [
    "df['revol_util'].nunique()"
   ]
  },
  {
   "cell_type": "markdown",
   "id": "5e60e485-bbe7-4dd7-8afb-e8e559f2afa0",
   "metadata": {},
   "source": [
    "### <span style=\"color:green\"> There are a very less amount of missing data and we can delete the rows without losing much of information."
   ]
  },
  {
   "cell_type": "code",
   "execution_count": 32,
   "id": "f7e21be3-aa3c-48a7-99c1-1a2d251b5e88",
   "metadata": {},
   "outputs": [],
   "source": [
    "df.drop(df[df['revol_util'].isnull()].index, inplace=True)"
   ]
  },
  {
   "cell_type": "code",
   "execution_count": 33,
   "id": "f773b410-4e56-4539-9be0-453f72c5a48c",
   "metadata": {},
   "outputs": [
    {
     "name": "stdout",
     "output_type": "stream",
     "text": [
      "<class 'pandas.core.frame.DataFrame'>\n",
      "Index: 37212 entries, 1 to 39716\n",
      "Data columns (total 52 columns):\n",
      " #   Column                      Non-Null Count  Dtype  \n",
      "---  ------                      --------------  -----  \n",
      " 0   id                          37212 non-null  int64  \n",
      " 1   member_id                   37212 non-null  int64  \n",
      " 2   loan_amnt                   37212 non-null  int64  \n",
      " 3   funded_amnt                 37212 non-null  int64  \n",
      " 4   funded_amnt_inv             37212 non-null  float64\n",
      " 5   term                        37212 non-null  object \n",
      " 6   int_rate                    37212 non-null  object \n",
      " 7   installment                 37212 non-null  float64\n",
      " 8   grade                       37212 non-null  object \n",
      " 9   sub_grade                   37212 non-null  object \n",
      " 10  emp_title                   37212 non-null  object \n",
      " 11  emp_length                  37212 non-null  object \n",
      " 12  home_ownership              37212 non-null  object \n",
      " 13  annual_inc                  37212 non-null  float64\n",
      " 14  verification_status         37212 non-null  object \n",
      " 15  issue_d                     37212 non-null  object \n",
      " 16  loan_status                 37212 non-null  object \n",
      " 17  pymnt_plan                  37212 non-null  object \n",
      " 18  url                         37212 non-null  object \n",
      " 19  purpose                     37212 non-null  object \n",
      " 20  zip_code                    37212 non-null  object \n",
      " 21  addr_state                  37212 non-null  object \n",
      " 22  dti                         37212 non-null  float64\n",
      " 23  delinq_2yrs                 37212 non-null  int64  \n",
      " 24  earliest_cr_line            37212 non-null  object \n",
      " 25  inq_last_6mths              37212 non-null  int64  \n",
      " 26  open_acc                    37212 non-null  int64  \n",
      " 27  pub_rec                     37212 non-null  int64  \n",
      " 28  revol_bal                   37212 non-null  int64  \n",
      " 29  revol_util                  37212 non-null  object \n",
      " 30  total_acc                   37212 non-null  int64  \n",
      " 31  initial_list_status         37212 non-null  object \n",
      " 32  out_prncp                   37212 non-null  float64\n",
      " 33  out_prncp_inv               37212 non-null  float64\n",
      " 34  total_pymnt                 37212 non-null  float64\n",
      " 35  total_pymnt_inv             37212 non-null  float64\n",
      " 36  total_rec_prncp             37212 non-null  float64\n",
      " 37  total_rec_int               37212 non-null  float64\n",
      " 38  total_rec_late_fee          37212 non-null  float64\n",
      " 39  recoveries                  37212 non-null  float64\n",
      " 40  collection_recovery_fee     37212 non-null  float64\n",
      " 41  last_pymnt_d                37152 non-null  object \n",
      " 42  last_pymnt_amnt             37212 non-null  float64\n",
      " 43  last_credit_pull_d          37212 non-null  object \n",
      " 44  collections_12_mths_ex_med  37165 non-null  float64\n",
      " 45  policy_code                 37212 non-null  int64  \n",
      " 46  application_type            37212 non-null  object \n",
      " 47  acc_now_delinq              37212 non-null  int64  \n",
      " 48  chargeoff_within_12_mths    37165 non-null  float64\n",
      " 49  delinq_amnt                 37212 non-null  int64  \n",
      " 50  pub_rec_bankruptcies        36558 non-null  float64\n",
      " 51  tax_liens                   37180 non-null  float64\n",
      "dtypes: float64(18), int64(13), object(21)\n",
      "memory usage: 15.0+ MB\n"
     ]
    }
   ],
   "source": [
    "df.info()"
   ]
  },
  {
   "cell_type": "code",
   "execution_count": 34,
   "id": "673dade0-c4bb-463d-992f-bccfbade631a",
   "metadata": {},
   "outputs": [
    {
     "data": {
      "text/plain": [
       "Index(['last_pymnt_d', 'collections_12_mths_ex_med',\n",
       "       'chargeoff_within_12_mths', 'pub_rec_bankruptcies', 'tax_liens'],\n",
       "      dtype='object')"
      ]
     },
     "execution_count": 34,
     "metadata": {},
     "output_type": "execute_result"
    }
   ],
   "source": [
    "df.columns[df.isnull().any()]"
   ]
  },
  {
   "cell_type": "markdown",
   "id": "4dd83666-a59a-4c83-9e0d-39bad5e3e99e",
   "metadata": {},
   "source": [
    "### <span style=\"color:green\"> Next column is last_pymnt_d (Last month payment was received)"
   ]
  },
  {
   "cell_type": "code",
   "execution_count": 35,
   "id": "344904df-da6a-4726-b280-56bedc14ccbe",
   "metadata": {},
   "outputs": [
    {
     "name": "stdout",
     "output_type": "stream",
     "text": [
      "<class 'pandas.core.series.Series'>\n",
      "Index: 37212 entries, 1 to 39716\n",
      "Series name: last_pymnt_d\n",
      "Non-Null Count  Dtype \n",
      "--------------  ----- \n",
      "37152 non-null  object\n",
      "dtypes: object(1)\n",
      "memory usage: 581.4+ KB\n"
     ]
    }
   ],
   "source": [
    "df['last_pymnt_d'].info()"
   ]
  },
  {
   "cell_type": "code",
   "execution_count": 36,
   "id": "220cc3cc-2a8c-4718-bd8a-d8c7723219cb",
   "metadata": {},
   "outputs": [
    {
     "data": {
      "text/plain": [
       "array(['Apr-13', 'Jan-15', 'May-16', 'Nov-12', 'Jun-13', 'Sep-13',\n",
       "       'Jul-12', 'Oct-13', 'May-13', 'Feb-15', 'Aug-15', 'Oct-12',\n",
       "       'Sep-12', nan, 'Dec-12', 'Dec-14', 'Aug-13', 'Nov-13', 'Jan-14',\n",
       "       'Apr-14', 'Aug-14', 'Oct-14', 'Aug-12', 'Jul-14', 'Jul-13',\n",
       "       'Jan-16', 'Apr-15', 'Feb-14', 'Sep-14', 'Jun-12', 'Feb-13',\n",
       "       'Mar-13', 'May-14', 'Mar-15', 'Jan-13', 'Dec-13', 'Jun-14',\n",
       "       'Feb-12', 'Mar-14', 'Apr-12', 'Sep-15', 'Nov-15', 'Mar-16',\n",
       "       'Feb-16', 'Jan-12', 'Oct-15', 'Nov-14', 'Mar-12', 'May-12',\n",
       "       'Apr-16', 'Dec-15', 'Jun-15', 'May-15', 'Jul-15', 'Dec-11',\n",
       "       'Nov-11', 'Oct-11', 'Sep-11', 'Aug-11', 'Jul-11', 'Jun-11',\n",
       "       'May-11', 'Apr-11', 'Mar-11', 'Feb-11', 'Jan-11', 'Dec-10',\n",
       "       'Nov-10', 'Oct-10', 'Sep-10', 'Aug-10', 'Jul-10', 'Jun-10',\n",
       "       'May-10', 'Apr-10', 'Mar-10', 'Feb-10', 'Jan-10', 'Dec-09',\n",
       "       'Nov-09', 'Oct-09', 'Sep-09', 'Aug-09', 'Jul-09', 'Jun-09',\n",
       "       'May-09', 'Apr-09', 'Mar-09', 'Feb-09', 'Jan-09', 'Dec-08',\n",
       "       'Oct-08', 'Aug-08', 'Jul-08', 'Sep-08', 'Jun-08', 'May-08',\n",
       "       'Nov-08', 'Apr-08', 'Mar-08', 'Feb-08', 'Jan-08'], dtype=object)"
      ]
     },
     "execution_count": 36,
     "metadata": {},
     "output_type": "execute_result"
    }
   ],
   "source": [
    "df['last_pymnt_d'].unique()"
   ]
  },
  {
   "cell_type": "markdown",
   "id": "8b319b91-94bd-41a2-bdb7-ffc7f089f678",
   "metadata": {},
   "source": [
    "### <span style=\"color:green\"> Like the last column, there are a very less amount of missing data and we can delete the rows without losing much of information."
   ]
  },
  {
   "cell_type": "code",
   "execution_count": 37,
   "id": "e17a96aa-513b-4894-b1e0-d0a5836947e2",
   "metadata": {},
   "outputs": [],
   "source": [
    "df.drop(df[df['last_pymnt_d'].isnull()].index, inplace=True)"
   ]
  },
  {
   "cell_type": "code",
   "execution_count": 38,
   "id": "a9be61d4-2930-490c-976f-4bd4154b6b7d",
   "metadata": {},
   "outputs": [
    {
     "name": "stdout",
     "output_type": "stream",
     "text": [
      "<class 'pandas.core.frame.DataFrame'>\n",
      "Index: 37152 entries, 1 to 39716\n",
      "Data columns (total 52 columns):\n",
      " #   Column                      Non-Null Count  Dtype  \n",
      "---  ------                      --------------  -----  \n",
      " 0   id                          37152 non-null  int64  \n",
      " 1   member_id                   37152 non-null  int64  \n",
      " 2   loan_amnt                   37152 non-null  int64  \n",
      " 3   funded_amnt                 37152 non-null  int64  \n",
      " 4   funded_amnt_inv             37152 non-null  float64\n",
      " 5   term                        37152 non-null  object \n",
      " 6   int_rate                    37152 non-null  object \n",
      " 7   installment                 37152 non-null  float64\n",
      " 8   grade                       37152 non-null  object \n",
      " 9   sub_grade                   37152 non-null  object \n",
      " 10  emp_title                   37152 non-null  object \n",
      " 11  emp_length                  37152 non-null  object \n",
      " 12  home_ownership              37152 non-null  object \n",
      " 13  annual_inc                  37152 non-null  float64\n",
      " 14  verification_status         37152 non-null  object \n",
      " 15  issue_d                     37152 non-null  object \n",
      " 16  loan_status                 37152 non-null  object \n",
      " 17  pymnt_plan                  37152 non-null  object \n",
      " 18  url                         37152 non-null  object \n",
      " 19  purpose                     37152 non-null  object \n",
      " 20  zip_code                    37152 non-null  object \n",
      " 21  addr_state                  37152 non-null  object \n",
      " 22  dti                         37152 non-null  float64\n",
      " 23  delinq_2yrs                 37152 non-null  int64  \n",
      " 24  earliest_cr_line            37152 non-null  object \n",
      " 25  inq_last_6mths              37152 non-null  int64  \n",
      " 26  open_acc                    37152 non-null  int64  \n",
      " 27  pub_rec                     37152 non-null  int64  \n",
      " 28  revol_bal                   37152 non-null  int64  \n",
      " 29  revol_util                  37152 non-null  object \n",
      " 30  total_acc                   37152 non-null  int64  \n",
      " 31  initial_list_status         37152 non-null  object \n",
      " 32  out_prncp                   37152 non-null  float64\n",
      " 33  out_prncp_inv               37152 non-null  float64\n",
      " 34  total_pymnt                 37152 non-null  float64\n",
      " 35  total_pymnt_inv             37152 non-null  float64\n",
      " 36  total_rec_prncp             37152 non-null  float64\n",
      " 37  total_rec_int               37152 non-null  float64\n",
      " 38  total_rec_late_fee          37152 non-null  float64\n",
      " 39  recoveries                  37152 non-null  float64\n",
      " 40  collection_recovery_fee     37152 non-null  float64\n",
      " 41  last_pymnt_d                37152 non-null  object \n",
      " 42  last_pymnt_amnt             37152 non-null  float64\n",
      " 43  last_credit_pull_d          37152 non-null  object \n",
      " 44  collections_12_mths_ex_med  37105 non-null  float64\n",
      " 45  policy_code                 37152 non-null  int64  \n",
      " 46  application_type            37152 non-null  object \n",
      " 47  acc_now_delinq              37152 non-null  int64  \n",
      " 48  chargeoff_within_12_mths    37105 non-null  float64\n",
      " 49  delinq_amnt                 37152 non-null  int64  \n",
      " 50  pub_rec_bankruptcies        36498 non-null  float64\n",
      " 51  tax_liens                   37120 non-null  float64\n",
      "dtypes: float64(18), int64(13), object(21)\n",
      "memory usage: 15.0+ MB\n"
     ]
    }
   ],
   "source": [
    "df.info()"
   ]
  },
  {
   "cell_type": "code",
   "execution_count": 39,
   "id": "6fa3dd0c-1e9f-44b3-acd8-035a8f632c45",
   "metadata": {},
   "outputs": [
    {
     "data": {
      "text/plain": [
       "Index(['collections_12_mths_ex_med', 'chargeoff_within_12_mths',\n",
       "       'pub_rec_bankruptcies', 'tax_liens'],\n",
       "      dtype='object')"
      ]
     },
     "execution_count": 39,
     "metadata": {},
     "output_type": "execute_result"
    }
   ],
   "source": [
    "df.columns[df.isnull().any()]"
   ]
  },
  {
   "cell_type": "markdown",
   "id": "ac85cecd-b925-467e-b303-85aa57c24838",
   "metadata": {},
   "source": [
    "### <span style=\"color:green\"> Next Feature: collections_12_mths_ex_med (Number of collections in 12 months excluding medical collections)"
   ]
  },
  {
   "cell_type": "code",
   "execution_count": 40,
   "id": "9378b957-edd7-4358-8c52-c9081787778d",
   "metadata": {},
   "outputs": [
    {
     "name": "stdout",
     "output_type": "stream",
     "text": [
      "<class 'pandas.core.series.Series'>\n",
      "Index: 37152 entries, 1 to 39716\n",
      "Series name: collections_12_mths_ex_med\n",
      "Non-Null Count  Dtype  \n",
      "--------------  -----  \n",
      "37105 non-null  float64\n",
      "dtypes: float64(1)\n",
      "memory usage: 580.5 KB\n"
     ]
    }
   ],
   "source": [
    "df['collections_12_mths_ex_med'].info()"
   ]
  },
  {
   "cell_type": "code",
   "execution_count": 41,
   "id": "a3030b5c-790d-4bb9-a2a4-73bf3f9c7543",
   "metadata": {},
   "outputs": [
    {
     "data": {
      "text/plain": [
       "array([ 0., nan])"
      ]
     },
     "execution_count": 41,
     "metadata": {},
     "output_type": "execute_result"
    }
   ],
   "source": [
    "df['collections_12_mths_ex_med'].unique()"
   ]
  },
  {
   "cell_type": "code",
   "execution_count": 42,
   "id": "5b7b4665-b8e0-46e8-9a1a-d588a42fdfe2",
   "metadata": {},
   "outputs": [
    {
     "data": {
      "text/plain": [
       "1     0.0\n",
       "3     0.0\n",
       "4     0.0\n",
       "5     0.0\n",
       "6     0.0\n",
       "7     0.0\n",
       "9     0.0\n",
       "10    0.0\n",
       "11    0.0\n",
       "12    0.0\n",
       "Name: collections_12_mths_ex_med, dtype: float64"
      ]
     },
     "execution_count": 42,
     "metadata": {},
     "output_type": "execute_result"
    }
   ],
   "source": [
    "df['collections_12_mths_ex_med'].head(10)"
   ]
  },
  {
   "cell_type": "markdown",
   "id": "bb5cc857-7173-43e3-8a02-3e3c28757b8b",
   "metadata": {},
   "source": [
    "### <span style=\"color:green\"> This Column contains all 0's and few Null values. We can easily delete this column"
   ]
  },
  {
   "cell_type": "code",
   "execution_count": 43,
   "id": "ba3a8352-0d10-44b8-a98c-a4815d636548",
   "metadata": {},
   "outputs": [],
   "source": [
    "df = df.drop('collections_12_mths_ex_med', axis=1)"
   ]
  },
  {
   "cell_type": "code",
   "execution_count": 44,
   "id": "28d1a57e-edc8-486e-b446-622f7c5ed5cf",
   "metadata": {},
   "outputs": [
    {
     "name": "stdout",
     "output_type": "stream",
     "text": [
      "<class 'pandas.core.frame.DataFrame'>\n",
      "Index: 37152 entries, 1 to 39716\n",
      "Data columns (total 51 columns):\n",
      " #   Column                    Non-Null Count  Dtype  \n",
      "---  ------                    --------------  -----  \n",
      " 0   id                        37152 non-null  int64  \n",
      " 1   member_id                 37152 non-null  int64  \n",
      " 2   loan_amnt                 37152 non-null  int64  \n",
      " 3   funded_amnt               37152 non-null  int64  \n",
      " 4   funded_amnt_inv           37152 non-null  float64\n",
      " 5   term                      37152 non-null  object \n",
      " 6   int_rate                  37152 non-null  object \n",
      " 7   installment               37152 non-null  float64\n",
      " 8   grade                     37152 non-null  object \n",
      " 9   sub_grade                 37152 non-null  object \n",
      " 10  emp_title                 37152 non-null  object \n",
      " 11  emp_length                37152 non-null  object \n",
      " 12  home_ownership            37152 non-null  object \n",
      " 13  annual_inc                37152 non-null  float64\n",
      " 14  verification_status       37152 non-null  object \n",
      " 15  issue_d                   37152 non-null  object \n",
      " 16  loan_status               37152 non-null  object \n",
      " 17  pymnt_plan                37152 non-null  object \n",
      " 18  url                       37152 non-null  object \n",
      " 19  purpose                   37152 non-null  object \n",
      " 20  zip_code                  37152 non-null  object \n",
      " 21  addr_state                37152 non-null  object \n",
      " 22  dti                       37152 non-null  float64\n",
      " 23  delinq_2yrs               37152 non-null  int64  \n",
      " 24  earliest_cr_line          37152 non-null  object \n",
      " 25  inq_last_6mths            37152 non-null  int64  \n",
      " 26  open_acc                  37152 non-null  int64  \n",
      " 27  pub_rec                   37152 non-null  int64  \n",
      " 28  revol_bal                 37152 non-null  int64  \n",
      " 29  revol_util                37152 non-null  object \n",
      " 30  total_acc                 37152 non-null  int64  \n",
      " 31  initial_list_status       37152 non-null  object \n",
      " 32  out_prncp                 37152 non-null  float64\n",
      " 33  out_prncp_inv             37152 non-null  float64\n",
      " 34  total_pymnt               37152 non-null  float64\n",
      " 35  total_pymnt_inv           37152 non-null  float64\n",
      " 36  total_rec_prncp           37152 non-null  float64\n",
      " 37  total_rec_int             37152 non-null  float64\n",
      " 38  total_rec_late_fee        37152 non-null  float64\n",
      " 39  recoveries                37152 non-null  float64\n",
      " 40  collection_recovery_fee   37152 non-null  float64\n",
      " 41  last_pymnt_d              37152 non-null  object \n",
      " 42  last_pymnt_amnt           37152 non-null  float64\n",
      " 43  last_credit_pull_d        37152 non-null  object \n",
      " 44  policy_code               37152 non-null  int64  \n",
      " 45  application_type          37152 non-null  object \n",
      " 46  acc_now_delinq            37152 non-null  int64  \n",
      " 47  chargeoff_within_12_mths  37105 non-null  float64\n",
      " 48  delinq_amnt               37152 non-null  int64  \n",
      " 49  pub_rec_bankruptcies      36498 non-null  float64\n",
      " 50  tax_liens                 37120 non-null  float64\n",
      "dtypes: float64(17), int64(13), object(21)\n",
      "memory usage: 14.7+ MB\n"
     ]
    }
   ],
   "source": [
    "df.info()"
   ]
  },
  {
   "cell_type": "code",
   "execution_count": 45,
   "id": "a2f3cb79-b0b8-4cf3-a94e-fca934743ab8",
   "metadata": {},
   "outputs": [
    {
     "data": {
      "text/plain": [
       "Index(['chargeoff_within_12_mths', 'pub_rec_bankruptcies', 'tax_liens'], dtype='object')"
      ]
     },
     "execution_count": 45,
     "metadata": {},
     "output_type": "execute_result"
    }
   ],
   "source": [
    "df.columns[df.isnull().any()]"
   ]
  },
  {
   "cell_type": "markdown",
   "id": "4e5d6506-a921-4ab8-8947-38ec2782b267",
   "metadata": {},
   "source": [
    "### <span style=\"color:green\"> Next, let's examine column chargeoff_within_12_mths (Number of charge-offs within 12 months)"
   ]
  },
  {
   "cell_type": "code",
   "execution_count": 46,
   "id": "6e212e61-156e-4955-b60a-55568712bf3e",
   "metadata": {},
   "outputs": [
    {
     "name": "stdout",
     "output_type": "stream",
     "text": [
      "<class 'pandas.core.series.Series'>\n",
      "Index: 37152 entries, 1 to 39716\n",
      "Series name: chargeoff_within_12_mths\n",
      "Non-Null Count  Dtype  \n",
      "--------------  -----  \n",
      "37105 non-null  float64\n",
      "dtypes: float64(1)\n",
      "memory usage: 580.5 KB\n"
     ]
    }
   ],
   "source": [
    "df['chargeoff_within_12_mths'].info()"
   ]
  },
  {
   "cell_type": "code",
   "execution_count": 47,
   "id": "3b3b98de-6173-466f-b882-0c18084c25fe",
   "metadata": {},
   "outputs": [
    {
     "data": {
      "text/plain": [
       "array([ 0., nan])"
      ]
     },
     "execution_count": 47,
     "metadata": {},
     "output_type": "execute_result"
    }
   ],
   "source": [
    "df['chargeoff_within_12_mths'].unique()"
   ]
  },
  {
   "cell_type": "markdown",
   "id": "90a8da59-af1d-46d4-afde-9be9dd3797f9",
   "metadata": {},
   "source": [
    "### <span style=\"color:green\"> Like the previous columns, this column also is having all 0's in it apart from few Null values. Column can thus be deleted."
   ]
  },
  {
   "cell_type": "code",
   "execution_count": 48,
   "id": "36aabd34-57ad-4d02-b98f-58cef154d619",
   "metadata": {},
   "outputs": [],
   "source": [
    "df = df.drop('chargeoff_within_12_mths', axis=1)"
   ]
  },
  {
   "cell_type": "code",
   "execution_count": 49,
   "id": "bf4c4f42-529f-4582-ab91-4c50fd16e643",
   "metadata": {},
   "outputs": [
    {
     "name": "stdout",
     "output_type": "stream",
     "text": [
      "<class 'pandas.core.frame.DataFrame'>\n",
      "Index: 37152 entries, 1 to 39716\n",
      "Data columns (total 50 columns):\n",
      " #   Column                   Non-Null Count  Dtype  \n",
      "---  ------                   --------------  -----  \n",
      " 0   id                       37152 non-null  int64  \n",
      " 1   member_id                37152 non-null  int64  \n",
      " 2   loan_amnt                37152 non-null  int64  \n",
      " 3   funded_amnt              37152 non-null  int64  \n",
      " 4   funded_amnt_inv          37152 non-null  float64\n",
      " 5   term                     37152 non-null  object \n",
      " 6   int_rate                 37152 non-null  object \n",
      " 7   installment              37152 non-null  float64\n",
      " 8   grade                    37152 non-null  object \n",
      " 9   sub_grade                37152 non-null  object \n",
      " 10  emp_title                37152 non-null  object \n",
      " 11  emp_length               37152 non-null  object \n",
      " 12  home_ownership           37152 non-null  object \n",
      " 13  annual_inc               37152 non-null  float64\n",
      " 14  verification_status      37152 non-null  object \n",
      " 15  issue_d                  37152 non-null  object \n",
      " 16  loan_status              37152 non-null  object \n",
      " 17  pymnt_plan               37152 non-null  object \n",
      " 18  url                      37152 non-null  object \n",
      " 19  purpose                  37152 non-null  object \n",
      " 20  zip_code                 37152 non-null  object \n",
      " 21  addr_state               37152 non-null  object \n",
      " 22  dti                      37152 non-null  float64\n",
      " 23  delinq_2yrs              37152 non-null  int64  \n",
      " 24  earliest_cr_line         37152 non-null  object \n",
      " 25  inq_last_6mths           37152 non-null  int64  \n",
      " 26  open_acc                 37152 non-null  int64  \n",
      " 27  pub_rec                  37152 non-null  int64  \n",
      " 28  revol_bal                37152 non-null  int64  \n",
      " 29  revol_util               37152 non-null  object \n",
      " 30  total_acc                37152 non-null  int64  \n",
      " 31  initial_list_status      37152 non-null  object \n",
      " 32  out_prncp                37152 non-null  float64\n",
      " 33  out_prncp_inv            37152 non-null  float64\n",
      " 34  total_pymnt              37152 non-null  float64\n",
      " 35  total_pymnt_inv          37152 non-null  float64\n",
      " 36  total_rec_prncp          37152 non-null  float64\n",
      " 37  total_rec_int            37152 non-null  float64\n",
      " 38  total_rec_late_fee       37152 non-null  float64\n",
      " 39  recoveries               37152 non-null  float64\n",
      " 40  collection_recovery_fee  37152 non-null  float64\n",
      " 41  last_pymnt_d             37152 non-null  object \n",
      " 42  last_pymnt_amnt          37152 non-null  float64\n",
      " 43  last_credit_pull_d       37152 non-null  object \n",
      " 44  policy_code              37152 non-null  int64  \n",
      " 45  application_type         37152 non-null  object \n",
      " 46  acc_now_delinq           37152 non-null  int64  \n",
      " 47  delinq_amnt              37152 non-null  int64  \n",
      " 48  pub_rec_bankruptcies     36498 non-null  float64\n",
      " 49  tax_liens                37120 non-null  float64\n",
      "dtypes: float64(16), int64(13), object(21)\n",
      "memory usage: 14.5+ MB\n"
     ]
    }
   ],
   "source": [
    "df.info()"
   ]
  },
  {
   "cell_type": "code",
   "execution_count": 50,
   "id": "ec12b380-9cb0-46e6-821b-a94d200f2a57",
   "metadata": {},
   "outputs": [
    {
     "data": {
      "text/plain": [
       "Index(['pub_rec_bankruptcies', 'tax_liens'], dtype='object')"
      ]
     },
     "execution_count": 50,
     "metadata": {},
     "output_type": "execute_result"
    }
   ],
   "source": [
    "df.columns[df.isnull().any()]"
   ]
  },
  {
   "cell_type": "markdown",
   "id": "824a712e-f357-4562-9426-ff93ab8c0d2b",
   "metadata": {},
   "source": [
    "### <span style=\"color:green\"> Let's examine the column pub_rec_bankruptcies (Number of public record bankruptcies) next"
   ]
  },
  {
   "cell_type": "code",
   "execution_count": 51,
   "id": "05a973da-4451-41c9-b431-6fb2e2da695f",
   "metadata": {},
   "outputs": [
    {
     "name": "stdout",
     "output_type": "stream",
     "text": [
      "<class 'pandas.core.series.Series'>\n",
      "Index: 37152 entries, 1 to 39716\n",
      "Series name: pub_rec_bankruptcies\n",
      "Non-Null Count  Dtype  \n",
      "--------------  -----  \n",
      "36498 non-null  float64\n",
      "dtypes: float64(1)\n",
      "memory usage: 580.5 KB\n"
     ]
    }
   ],
   "source": [
    "df['pub_rec_bankruptcies'].info()"
   ]
  },
  {
   "cell_type": "code",
   "execution_count": 52,
   "id": "4e854c52-2b22-4f56-b215-41831f0f95ae",
   "metadata": {},
   "outputs": [
    {
     "data": {
      "text/plain": [
       "array([ 0.,  1.,  2., nan])"
      ]
     },
     "execution_count": 52,
     "metadata": {},
     "output_type": "execute_result"
    }
   ],
   "source": [
    "df['pub_rec_bankruptcies'].unique()"
   ]
  },
  {
   "cell_type": "code",
   "execution_count": 53,
   "id": "f0df0b6e-84ae-4064-a8ef-384959228ade",
   "metadata": {},
   "outputs": [
    {
     "data": {
      "text/plain": [
       "3"
      ]
     },
     "execution_count": 53,
     "metadata": {},
     "output_type": "execute_result"
    }
   ],
   "source": [
    "df['pub_rec_bankruptcies'].nunique()"
   ]
  },
  {
   "cell_type": "markdown",
   "id": "4a1490f8-826a-4c99-9bc5-c6d6fc125fc8",
   "metadata": {},
   "source": [
    "### <span style=\"color:green\"> For this column, we can replace the missing values with the Mode"
   ]
  },
  {
   "cell_type": "code",
   "execution_count": 54,
   "id": "c1e579fd-9285-4e54-a97c-4d90a7492162",
   "metadata": {},
   "outputs": [],
   "source": [
    "df['pub_rec_bankruptcies'].fillna(df['pub_rec_bankruptcies'].mode()[0],inplace=True)"
   ]
  },
  {
   "cell_type": "code",
   "execution_count": 55,
   "id": "54df1184-1350-461f-b145-1ebbb98f7920",
   "metadata": {},
   "outputs": [
    {
     "data": {
      "text/plain": [
       "Index(['tax_liens'], dtype='object')"
      ]
     },
     "execution_count": 55,
     "metadata": {},
     "output_type": "execute_result"
    }
   ],
   "source": [
    "df.columns[df.isnull().any()]"
   ]
  },
  {
   "cell_type": "markdown",
   "id": "da6fbb30-ad46-4a9e-8ce6-9811740049b5",
   "metadata": {},
   "source": [
    "### <span style=\"color:green\"> Only remaining feature with Null values now is tax_liens (Number of tax liens)"
   ]
  },
  {
   "cell_type": "code",
   "execution_count": 56,
   "id": "839f59aa-6324-4990-ae42-c7502c49e554",
   "metadata": {},
   "outputs": [
    {
     "name": "stdout",
     "output_type": "stream",
     "text": [
      "<class 'pandas.core.series.Series'>\n",
      "Index: 37152 entries, 1 to 39716\n",
      "Series name: tax_liens\n",
      "Non-Null Count  Dtype  \n",
      "--------------  -----  \n",
      "37120 non-null  float64\n",
      "dtypes: float64(1)\n",
      "memory usage: 580.5 KB\n"
     ]
    }
   ],
   "source": [
    "df['tax_liens'].info()"
   ]
  },
  {
   "cell_type": "code",
   "execution_count": 57,
   "id": "bdee44c0-5756-4d71-9dcd-8b524057760d",
   "metadata": {},
   "outputs": [
    {
     "data": {
      "text/plain": [
       "array([ 0., nan])"
      ]
     },
     "execution_count": 57,
     "metadata": {},
     "output_type": "execute_result"
    }
   ],
   "source": [
    "df['tax_liens'].unique()"
   ]
  },
  {
   "cell_type": "markdown",
   "id": "614dcfb4-1372-4c53-8b9d-283f06043263",
   "metadata": {},
   "source": [
    "### <span style=\"color:green\"> This column contains only 0's and few Null values. Can be deleted."
   ]
  },
  {
   "cell_type": "code",
   "execution_count": 58,
   "id": "6f377ea6-dc86-4934-a982-f6037a6443b8",
   "metadata": {},
   "outputs": [],
   "source": [
    "df = df.drop('tax_liens', axis=1)"
   ]
  },
  {
   "cell_type": "code",
   "execution_count": 59,
   "id": "2601f68b-f483-4109-82c0-ada66dcc39b0",
   "metadata": {},
   "outputs": [
    {
     "name": "stdout",
     "output_type": "stream",
     "text": [
      "<class 'pandas.core.frame.DataFrame'>\n",
      "Index: 37152 entries, 1 to 39716\n",
      "Data columns (total 49 columns):\n",
      " #   Column                   Non-Null Count  Dtype  \n",
      "---  ------                   --------------  -----  \n",
      " 0   id                       37152 non-null  int64  \n",
      " 1   member_id                37152 non-null  int64  \n",
      " 2   loan_amnt                37152 non-null  int64  \n",
      " 3   funded_amnt              37152 non-null  int64  \n",
      " 4   funded_amnt_inv          37152 non-null  float64\n",
      " 5   term                     37152 non-null  object \n",
      " 6   int_rate                 37152 non-null  object \n",
      " 7   installment              37152 non-null  float64\n",
      " 8   grade                    37152 non-null  object \n",
      " 9   sub_grade                37152 non-null  object \n",
      " 10  emp_title                37152 non-null  object \n",
      " 11  emp_length               37152 non-null  object \n",
      " 12  home_ownership           37152 non-null  object \n",
      " 13  annual_inc               37152 non-null  float64\n",
      " 14  verification_status      37152 non-null  object \n",
      " 15  issue_d                  37152 non-null  object \n",
      " 16  loan_status              37152 non-null  object \n",
      " 17  pymnt_plan               37152 non-null  object \n",
      " 18  url                      37152 non-null  object \n",
      " 19  purpose                  37152 non-null  object \n",
      " 20  zip_code                 37152 non-null  object \n",
      " 21  addr_state               37152 non-null  object \n",
      " 22  dti                      37152 non-null  float64\n",
      " 23  delinq_2yrs              37152 non-null  int64  \n",
      " 24  earliest_cr_line         37152 non-null  object \n",
      " 25  inq_last_6mths           37152 non-null  int64  \n",
      " 26  open_acc                 37152 non-null  int64  \n",
      " 27  pub_rec                  37152 non-null  int64  \n",
      " 28  revol_bal                37152 non-null  int64  \n",
      " 29  revol_util               37152 non-null  object \n",
      " 30  total_acc                37152 non-null  int64  \n",
      " 31  initial_list_status      37152 non-null  object \n",
      " 32  out_prncp                37152 non-null  float64\n",
      " 33  out_prncp_inv            37152 non-null  float64\n",
      " 34  total_pymnt              37152 non-null  float64\n",
      " 35  total_pymnt_inv          37152 non-null  float64\n",
      " 36  total_rec_prncp          37152 non-null  float64\n",
      " 37  total_rec_int            37152 non-null  float64\n",
      " 38  total_rec_late_fee       37152 non-null  float64\n",
      " 39  recoveries               37152 non-null  float64\n",
      " 40  collection_recovery_fee  37152 non-null  float64\n",
      " 41  last_pymnt_d             37152 non-null  object \n",
      " 42  last_pymnt_amnt          37152 non-null  float64\n",
      " 43  last_credit_pull_d       37152 non-null  object \n",
      " 44  policy_code              37152 non-null  int64  \n",
      " 45  application_type         37152 non-null  object \n",
      " 46  acc_now_delinq           37152 non-null  int64  \n",
      " 47  delinq_amnt              37152 non-null  int64  \n",
      " 48  pub_rec_bankruptcies     37152 non-null  float64\n",
      "dtypes: float64(15), int64(13), object(21)\n",
      "memory usage: 14.2+ MB\n"
     ]
    }
   ],
   "source": [
    "df.info()"
   ]
  },
  {
   "cell_type": "markdown",
   "id": "1a19a392-5321-4153-8320-251fd81c3291",
   "metadata": {},
   "source": [
    " "
   ]
  },
  {
   "cell_type": "markdown",
   "id": "1fa6ae86-b356-4de7-9257-786316d3a844",
   "metadata": {},
   "source": [
    " "
   ]
  },
  {
   "cell_type": "markdown",
   "id": "061aae9c-d7d9-4a00-add2-2db2c5ca30ad",
   "metadata": {},
   "source": [
    "### <span style=\"color:blue\"> Now, we are left with 49 columns and 37152 rows"
   ]
  },
  {
   "cell_type": "markdown",
   "id": "07cf5fdd-5761-4c3c-818a-fef758e810fb",
   "metadata": {},
   "source": [
    "### <span style=\"color:green\"> Let's next check if we have any rows having all 0's. The rows can be deleted as well."
   ]
  },
  {
   "cell_type": "code",
   "execution_count": 60,
   "id": "f45d0811-312f-4536-8dd2-718b0dd0a90b",
   "metadata": {},
   "outputs": [
    {
     "data": {
      "text/html": [
       "<div>\n",
       "<style scoped>\n",
       "    .dataframe tbody tr th:only-of-type {\n",
       "        vertical-align: middle;\n",
       "    }\n",
       "\n",
       "    .dataframe tbody tr th {\n",
       "        vertical-align: top;\n",
       "    }\n",
       "\n",
       "    .dataframe thead th {\n",
       "        text-align: right;\n",
       "    }\n",
       "</style>\n",
       "<table border=\"1\" class=\"dataframe\">\n",
       "  <thead>\n",
       "    <tr style=\"text-align: right;\">\n",
       "      <th></th>\n",
       "      <th>id</th>\n",
       "      <th>member_id</th>\n",
       "      <th>loan_amnt</th>\n",
       "      <th>funded_amnt</th>\n",
       "      <th>funded_amnt_inv</th>\n",
       "      <th>term</th>\n",
       "      <th>int_rate</th>\n",
       "      <th>installment</th>\n",
       "      <th>grade</th>\n",
       "      <th>sub_grade</th>\n",
       "      <th>...</th>\n",
       "      <th>recoveries</th>\n",
       "      <th>collection_recovery_fee</th>\n",
       "      <th>last_pymnt_d</th>\n",
       "      <th>last_pymnt_amnt</th>\n",
       "      <th>last_credit_pull_d</th>\n",
       "      <th>policy_code</th>\n",
       "      <th>application_type</th>\n",
       "      <th>acc_now_delinq</th>\n",
       "      <th>delinq_amnt</th>\n",
       "      <th>pub_rec_bankruptcies</th>\n",
       "    </tr>\n",
       "  </thead>\n",
       "  <tbody>\n",
       "  </tbody>\n",
       "</table>\n",
       "<p>0 rows × 49 columns</p>\n",
       "</div>"
      ],
      "text/plain": [
       "Empty DataFrame\n",
       "Columns: [id, member_id, loan_amnt, funded_amnt, funded_amnt_inv, term, int_rate, installment, grade, sub_grade, emp_title, emp_length, home_ownership, annual_inc, verification_status, issue_d, loan_status, pymnt_plan, url, purpose, zip_code, addr_state, dti, delinq_2yrs, earliest_cr_line, inq_last_6mths, open_acc, pub_rec, revol_bal, revol_util, total_acc, initial_list_status, out_prncp, out_prncp_inv, total_pymnt, total_pymnt_inv, total_rec_prncp, total_rec_int, total_rec_late_fee, recoveries, collection_recovery_fee, last_pymnt_d, last_pymnt_amnt, last_credit_pull_d, policy_code, application_type, acc_now_delinq, delinq_amnt, pub_rec_bankruptcies]\n",
       "Index: []\n",
       "\n",
       "[0 rows x 49 columns]"
      ]
     },
     "execution_count": 60,
     "metadata": {},
     "output_type": "execute_result"
    }
   ],
   "source": [
    "df[(df==0).all(axis=1)]"
   ]
  },
  {
   "cell_type": "markdown",
   "id": "0cff3e2f-bf0b-4ca5-bb56-08dda626d773",
   "metadata": {},
   "source": [
    "### <span style=\"color:green\"> Well, there are no such rows."
   ]
  },
  {
   "cell_type": "markdown",
   "id": "739eb23e-ece3-4e18-b4f2-712c2ef289d3",
   "metadata": {},
   "source": [
    "### <span style=\"color:green\"> Let's now check if the features need any data type modifications"
   ]
  },
  {
   "cell_type": "code",
   "execution_count": 61,
   "id": "fb8125c6-35a3-40fb-94d3-a5fd73fe2e27",
   "metadata": {},
   "outputs": [
    {
     "data": {
      "text/plain": [
       "array([' 60 months', ' 36 months'], dtype=object)"
      ]
     },
     "execution_count": 61,
     "metadata": {},
     "output_type": "execute_result"
    }
   ],
   "source": [
    "df['term'].unique()"
   ]
  },
  {
   "cell_type": "markdown",
   "id": "008d30d9-d601-4645-ab59-9c2b672cba79",
   "metadata": {},
   "source": [
    "### <span style=\"color:green\">  We will remove 'months' and make it interger"
   ]
  },
  {
   "cell_type": "code",
   "execution_count": 62,
   "id": "518c0b11-d677-4379-a3be-112674bab66c",
   "metadata": {},
   "outputs": [],
   "source": [
    "def remove_char(x):\n",
    "    return int(x.strip().split(' ')[0])"
   ]
  },
  {
   "cell_type": "code",
   "execution_count": 63,
   "id": "8f96c756-146a-4143-9fd1-aecf97caac8d",
   "metadata": {},
   "outputs": [],
   "source": [
    "df['term'] = df['term'].apply(remove_char)"
   ]
  },
  {
   "cell_type": "code",
   "execution_count": 64,
   "id": "77cd44ed-9251-4877-bfc7-f145079f41a5",
   "metadata": {},
   "outputs": [
    {
     "data": {
      "text/plain": [
       "array([60, 36], dtype=int64)"
      ]
     },
     "execution_count": 64,
     "metadata": {},
     "output_type": "execute_result"
    }
   ],
   "source": [
    "df['term'].unique()"
   ]
  },
  {
   "cell_type": "code",
   "execution_count": 65,
   "id": "3ccc1536-a3e2-4c3b-ab58-a2336ad61f9b",
   "metadata": {},
   "outputs": [
    {
     "name": "stdout",
     "output_type": "stream",
     "text": [
      "<class 'pandas.core.series.Series'>\n",
      "Index: 37152 entries, 1 to 39716\n",
      "Series name: term\n",
      "Non-Null Count  Dtype\n",
      "--------------  -----\n",
      "37152 non-null  int64\n",
      "dtypes: int64(1)\n",
      "memory usage: 580.5 KB\n"
     ]
    }
   ],
   "source": [
    "df['term'].info()"
   ]
  },
  {
   "cell_type": "code",
   "execution_count": 66,
   "id": "0afc64a0-03aa-40d4-a48e-944a12aa952f",
   "metadata": {},
   "outputs": [
    {
     "data": {
      "text/plain": [
       "array(['15.27%', '13.49%', '12.69%', '7.90%', '15.96%', '18.64%',\n",
       "       '14.65%', '9.91%', '10.65%', '16.29%', '6.03%', '11.71%', '12.42%',\n",
       "       '16.77%', '8.90%', '7.51%', '6.62%', '19.91%', '17.27%', '14.27%',\n",
       "       '21.28%', '17.58%', '21.67%', '19.42%', '22.06%', '20.89%',\n",
       "       '18.25%', '20.30%', '23.91%', '19.03%', '23.52%', '23.13%',\n",
       "       '22.74%', '22.35%', '24.11%', '6.00%', '22.11%', '7.49%', '11.99%',\n",
       "       '5.99%', '10.99%', '9.99%', '18.79%', '11.49%', '15.99%', '16.49%',\n",
       "       '6.99%', '12.99%', '15.23%', '14.79%', '8.49%', '5.42%', '17.49%',\n",
       "       '10.59%', '15.62%', '21.36%', '19.29%', '13.99%', '18.39%',\n",
       "       '16.89%', '17.99%', '20.62%', '20.99%', '22.85%', '19.69%',\n",
       "       '20.25%', '23.22%', '21.74%', '22.48%', '23.59%', '12.62%',\n",
       "       '18.07%', '11.63%', '7.91%', '7.42%', '11.14%', '20.20%', '12.12%',\n",
       "       '19.39%', '16.11%', '17.54%', '16.59%', '17.19%', '12.87%',\n",
       "       '20.69%', '9.67%', '21.82%', '19.79%', '18.49%', '13.84%',\n",
       "       '22.94%', '24.40%', '21.48%', '14.82%', '17.88%', '20.11%',\n",
       "       '16.02%', '17.51%', '13.06%', '14.91%', '15.28%', '17.14%',\n",
       "       '13.43%', '11.11%', '10.37%', '14.17%', '16.40%', '15.65%',\n",
       "       '7.66%', '10.00%', '10.74%', '7.29%', '5.79%', '6.92%', '9.63%',\n",
       "       '14.54%', '12.68%', '18.62%', '19.36%', '13.80%', '18.99%',\n",
       "       '21.59%', '20.85%', '21.22%', '19.74%', '20.48%', '6.91%',\n",
       "       '12.23%', '12.61%', '10.36%', '6.17%', '6.54%', '9.25%', '16.69%',\n",
       "       '15.95%', '8.88%', '13.35%', '9.62%', '16.32%', '12.98%', '14.83%',\n",
       "       '13.72%', '14.09%', '14.46%', '20.03%', '17.80%', '15.20%',\n",
       "       '15.57%', '18.54%', '19.66%', '17.06%', '18.17%', '17.43%',\n",
       "       '20.40%', '20.77%', '18.91%', '21.14%', '17.44%', '13.23%',\n",
       "       '7.88%', '11.12%', '13.61%', '10.38%', '17.56%', '17.93%',\n",
       "       '15.58%', '13.98%', '14.84%', '15.21%', '6.76%', '6.39%', '11.86%',\n",
       "       '7.14%', '14.35%', '16.82%', '10.75%', '14.72%', '16.45%',\n",
       "       '20.53%', '19.41%', '20.16%', '21.27%', '18.30%', '18.67%',\n",
       "       '19.04%', '20.90%', '21.64%', '12.73%', '10.25%', '13.11%',\n",
       "       '10.62%', '13.48%', '14.59%', '16.07%', '15.70%', '9.88%',\n",
       "       '11.36%', '15.33%', '13.85%', '14.96%', '14.22%', '7.74%',\n",
       "       '13.22%', '8.59%', '17.04%', '14.61%', '8.94%', '12.18%', '11.83%',\n",
       "       '11.48%', '16.35%', '13.92%', '15.31%', '14.26%', '12.53%',\n",
       "       '13.57%', '19.13%', '16.70%', '16.00%', '18.09%', '17.39%',\n",
       "       '18.43%', '7.40%', '17.74%', '7.05%', '20.86%', '19.47%', '18.78%',\n",
       "       '21.21%', '19.82%', '20.17%', '13.16%', '13.47%', '8.00%',\n",
       "       '12.21%', '16.63%', '9.32%', '12.84%', '11.26%', '15.68%',\n",
       "       '15.37%', '10.95%', '11.89%', '14.11%', '13.79%', '7.68%',\n",
       "       '11.58%', '7.37%', '16.95%', '15.05%', '18.53%', '14.74%',\n",
       "       '14.42%', '18.21%', '17.26%', '18.84%', '17.90%', '19.16%',\n",
       "       '13.67%', '9.38%', '12.72%', '13.36%', '11.46%', '10.51%', '9.07%',\n",
       "       '11.78%', '12.41%', '13.04%', '10.83%', '12.09%', '17.46%',\n",
       "       '14.30%', '17.15%', '10.20%', '15.88%', '14.93%', '16.20%',\n",
       "       '18.72%', '15.25%', '14.62%', '8.32%', '14.12%', '10.96%',\n",
       "       '10.33%', '10.01%', '12.86%', '11.28%', '11.59%', '8.63%',\n",
       "       '12.54%', '12.22%', '15.38%', '16.96%', '11.91%', '13.17%',\n",
       "       '9.70%', '16.33%', '14.75%', '15.07%', '16.01%', '10.71%',\n",
       "       '10.64%', '9.76%', '11.34%', '10.39%', '13.87%', '11.03%',\n",
       "       '11.66%', '13.24%', '10.08%', '9.45%', '13.55%', '12.29%',\n",
       "       '11.97%', '12.92%', '14.50%', '14.18%', '15.45%', '15.13%',\n",
       "       '16.08%', '15.76%', '17.03%', '17.34%', '16.71%', '9.83%',\n",
       "       '13.62%', '10.46%', '9.51%', '9.20%', '13.30%', '10.78%', '7.75%',\n",
       "       '8.38%', '12.36%', '12.67%', '11.72%', '13.93%', '8.07%', '7.43%',\n",
       "       '12.04%', '14.25%', '14.88%', '11.41%', '11.09%', '10.14%',\n",
       "       '16.15%', '15.83%', '7.12%', '18.36%', '9.64%', '9.96%', '11.22%',\n",
       "       '9.01%', '9.33%', '11.54%', '12.17%', '12.80%', '14.38%', '13.75%',\n",
       "       '14.70%', '12.49%', '14.07%', '10.91%', '13.12%', '10.28%',\n",
       "       '8.70%', '14.67%', '15.01%'], dtype=object)"
      ]
     },
     "execution_count": 66,
     "metadata": {},
     "output_type": "execute_result"
    }
   ],
   "source": [
    "df['int_rate'].unique()"
   ]
  },
  {
   "cell_type": "markdown",
   "id": "390a0ca5-1484-4817-baae-cd4782f3d312",
   "metadata": {},
   "source": [
    "### <span style=\"color:green\"> We can remove % and make it float"
   ]
  },
  {
   "cell_type": "code",
   "execution_count": 67,
   "id": "c7a63455-b02b-44c2-a4f3-d61ada9bb253",
   "metadata": {},
   "outputs": [],
   "source": [
    "df['int_rate'] = df['int_rate'].apply(lambda x: float(x.rstrip('%')))"
   ]
  },
  {
   "cell_type": "code",
   "execution_count": 68,
   "id": "7bbdc491-d74c-4673-927a-be8badb79219",
   "metadata": {},
   "outputs": [
    {
     "data": {
      "text/plain": [
       "array([15.27, 13.49, 12.69,  7.9 , 15.96, 18.64, 14.65,  9.91, 10.65,\n",
       "       16.29,  6.03, 11.71, 12.42, 16.77,  8.9 ,  7.51,  6.62, 19.91,\n",
       "       17.27, 14.27, 21.28, 17.58, 21.67, 19.42, 22.06, 20.89, 18.25,\n",
       "       20.3 , 23.91, 19.03, 23.52, 23.13, 22.74, 22.35, 24.11,  6.  ,\n",
       "       22.11,  7.49, 11.99,  5.99, 10.99,  9.99, 18.79, 11.49, 15.99,\n",
       "       16.49,  6.99, 12.99, 15.23, 14.79,  8.49,  5.42, 17.49, 10.59,\n",
       "       15.62, 21.36, 19.29, 13.99, 18.39, 16.89, 17.99, 20.62, 20.99,\n",
       "       22.85, 19.69, 20.25, 23.22, 21.74, 22.48, 23.59, 12.62, 18.07,\n",
       "       11.63,  7.91,  7.42, 11.14, 20.2 , 12.12, 19.39, 16.11, 17.54,\n",
       "       16.59, 17.19, 12.87, 20.69,  9.67, 21.82, 19.79, 18.49, 13.84,\n",
       "       22.94, 24.4 , 21.48, 14.82, 17.88, 20.11, 16.02, 17.51, 13.06,\n",
       "       14.91, 15.28, 17.14, 13.43, 11.11, 10.37, 14.17, 16.4 , 15.65,\n",
       "        7.66, 10.  , 10.74,  7.29,  5.79,  6.92,  9.63, 14.54, 12.68,\n",
       "       18.62, 19.36, 13.8 , 18.99, 21.59, 20.85, 21.22, 19.74, 20.48,\n",
       "        6.91, 12.23, 12.61, 10.36,  6.17,  6.54,  9.25, 16.69, 15.95,\n",
       "        8.88, 13.35,  9.62, 16.32, 12.98, 14.83, 13.72, 14.09, 14.46,\n",
       "       20.03, 17.8 , 15.2 , 15.57, 18.54, 19.66, 17.06, 18.17, 17.43,\n",
       "       20.4 , 20.77, 18.91, 21.14, 17.44, 13.23,  7.88, 11.12, 13.61,\n",
       "       10.38, 17.56, 17.93, 15.58, 13.98, 14.84, 15.21,  6.76,  6.39,\n",
       "       11.86,  7.14, 14.35, 16.82, 10.75, 14.72, 16.45, 20.53, 19.41,\n",
       "       20.16, 21.27, 18.3 , 18.67, 19.04, 20.9 , 21.64, 12.73, 10.25,\n",
       "       13.11, 10.62, 13.48, 14.59, 16.07, 15.7 ,  9.88, 11.36, 15.33,\n",
       "       13.85, 14.96, 14.22,  7.74, 13.22,  8.59, 17.04, 14.61,  8.94,\n",
       "       12.18, 11.83, 11.48, 16.35, 13.92, 15.31, 14.26, 12.53, 13.57,\n",
       "       19.13, 16.7 , 16.  , 18.09, 17.39, 18.43,  7.4 , 17.74,  7.05,\n",
       "       20.86, 19.47, 18.78, 21.21, 19.82, 20.17, 13.16, 13.47,  8.  ,\n",
       "       12.21, 16.63,  9.32, 12.84, 11.26, 15.68, 15.37, 10.95, 11.89,\n",
       "       14.11, 13.79,  7.68, 11.58,  7.37, 16.95, 15.05, 18.53, 14.74,\n",
       "       14.42, 18.21, 17.26, 18.84, 17.9 , 19.16, 13.67,  9.38, 12.72,\n",
       "       13.36, 11.46, 10.51,  9.07, 11.78, 12.41, 13.04, 10.83, 12.09,\n",
       "       17.46, 14.3 , 17.15, 10.2 , 15.88, 14.93, 16.2 , 18.72, 15.25,\n",
       "       14.62,  8.32, 14.12, 10.96, 10.33, 10.01, 12.86, 11.28, 11.59,\n",
       "        8.63, 12.54, 12.22, 15.38, 16.96, 11.91, 13.17,  9.7 , 16.33,\n",
       "       14.75, 15.07, 16.01, 10.71, 10.64,  9.76, 11.34, 10.39, 13.87,\n",
       "       11.03, 11.66, 13.24, 10.08,  9.45, 13.55, 12.29, 11.97, 12.92,\n",
       "       14.5 , 14.18, 15.45, 15.13, 16.08, 15.76, 17.03, 17.34, 16.71,\n",
       "        9.83, 13.62, 10.46,  9.51,  9.2 , 13.3 , 10.78,  7.75,  8.38,\n",
       "       12.36, 12.67, 11.72, 13.93,  8.07,  7.43, 12.04, 14.25, 14.88,\n",
       "       11.41, 11.09, 10.14, 16.15, 15.83,  7.12, 18.36,  9.64,  9.96,\n",
       "       11.22,  9.01,  9.33, 11.54, 12.17, 12.8 , 14.38, 13.75, 14.7 ,\n",
       "       12.49, 14.07, 10.91, 13.12, 10.28,  8.7 , 14.67, 15.01])"
      ]
     },
     "execution_count": 68,
     "metadata": {},
     "output_type": "execute_result"
    }
   ],
   "source": [
    "df['int_rate'].unique()"
   ]
  },
  {
   "cell_type": "code",
   "execution_count": 69,
   "id": "e8aa3f9a-2131-43c3-8f65-525772e1c7f8",
   "metadata": {},
   "outputs": [
    {
     "name": "stdout",
     "output_type": "stream",
     "text": [
      "<class 'pandas.core.series.Series'>\n",
      "Index: 37152 entries, 1 to 39716\n",
      "Series name: int_rate\n",
      "Non-Null Count  Dtype  \n",
      "--------------  -----  \n",
      "37152 non-null  float64\n",
      "dtypes: float64(1)\n",
      "memory usage: 580.5 KB\n"
     ]
    }
   ],
   "source": [
    "df['int_rate'].info()"
   ]
  },
  {
   "cell_type": "markdown",
   "id": "13885b3f-f5e6-4896-aa84-64e9912b2772",
   "metadata": {},
   "source": [
    "### <span style=\"color:green\"> Let's check some other variables one after the other"
   ]
  },
  {
   "cell_type": "code",
   "execution_count": 70,
   "id": "2d6ff34c-dace-4419-8150-de5b99f3b347",
   "metadata": {},
   "outputs": [
    {
     "name": "stdout",
     "output_type": "stream",
     "text": [
      "<class 'pandas.core.series.Series'>\n",
      "Index: 37152 entries, 1 to 39716\n",
      "Series name: grade\n",
      "Non-Null Count  Dtype \n",
      "--------------  ----- \n",
      "37152 non-null  object\n",
      "dtypes: object(1)\n",
      "memory usage: 580.5+ KB\n"
     ]
    }
   ],
   "source": [
    "df['grade'].info()"
   ]
  },
  {
   "cell_type": "code",
   "execution_count": 71,
   "id": "a6d4ca56-c226-4dc4-a736-c38cc0fb6056",
   "metadata": {},
   "outputs": [
    {
     "data": {
      "text/plain": [
       "array(['C', 'B', 'A', 'E', 'D', 'F', 'G'], dtype=object)"
      ]
     },
     "execution_count": 71,
     "metadata": {},
     "output_type": "execute_result"
    }
   ],
   "source": [
    "df['grade'].unique()"
   ]
  },
  {
   "cell_type": "code",
   "execution_count": 72,
   "id": "c0272799-2c58-4236-92a6-26c8d7fc7921",
   "metadata": {},
   "outputs": [
    {
     "data": {
      "text/plain": [
       "array(['C4', 'C1', 'B5', 'A4', 'C5', 'E1', 'C3', 'B1', 'B2', 'D1', 'A1',\n",
       "       'B3', 'B4', 'D2', 'A5', 'A3', 'A2', 'E4', 'D3', 'C2', 'F2', 'D4',\n",
       "       'F3', 'E3', 'F4', 'F1', 'D5', 'E5', 'G4', 'E2', 'G3', 'G2', 'G1',\n",
       "       'F5', 'G5'], dtype=object)"
      ]
     },
     "execution_count": 72,
     "metadata": {},
     "output_type": "execute_result"
    }
   ],
   "source": [
    "df['sub_grade'].unique()"
   ]
  },
  {
   "cell_type": "code",
   "execution_count": 73,
   "id": "8db6c694-1f7d-4a60-ba2f-f408b38cf433",
   "metadata": {},
   "outputs": [
    {
     "data": {
      "text/plain": [
       "array(['Ryder', 'AIR RESOURCES BOARD', 'University Medical Group', ...,\n",
       "       'FiSite Research', 'Squarewave Solutions, Ltd.',\n",
       "       'Evergreen Center'], dtype=object)"
      ]
     },
     "execution_count": 73,
     "metadata": {},
     "output_type": "execute_result"
    }
   ],
   "source": [
    "df['emp_title'].unique()"
   ]
  },
  {
   "cell_type": "code",
   "execution_count": 74,
   "id": "ddd7e9f6-9200-4be0-91ad-5d8dacf78687",
   "metadata": {},
   "outputs": [
    {
     "data": {
      "text/plain": [
       "28734"
      ]
     },
     "execution_count": 74,
     "metadata": {},
     "output_type": "execute_result"
    }
   ],
   "source": [
    "df['emp_title'].nunique()"
   ]
  },
  {
   "cell_type": "code",
   "execution_count": 75,
   "id": "f4db6f67-e932-4a06-841d-f50258449ccf",
   "metadata": {},
   "outputs": [
    {
     "data": {
      "text/plain": [
       "array(['< 1 year', '10+ years', '1 year', '3 years', '8 years', '9 years',\n",
       "       '5 years', '4 years', '6 years', '2 years', '7 years'],\n",
       "      dtype=object)"
      ]
     },
     "execution_count": 75,
     "metadata": {},
     "output_type": "execute_result"
    }
   ],
   "source": [
    "df['emp_length'].unique()"
   ]
  },
  {
   "cell_type": "code",
   "execution_count": 76,
   "id": "94efa67c-5cb8-4650-9828-2f69ed82a5c2",
   "metadata": {},
   "outputs": [
    {
     "data": {
      "text/plain": [
       "array(['RENT', 'OWN', 'MORTGAGE', 'OTHER', 'NONE'], dtype=object)"
      ]
     },
     "execution_count": 76,
     "metadata": {},
     "output_type": "execute_result"
    }
   ],
   "source": [
    "df['home_ownership'].unique()"
   ]
  },
  {
   "cell_type": "code",
   "execution_count": 77,
   "id": "e5d23753-bd17-4a8f-a125-00271908cda4",
   "metadata": {},
   "outputs": [
    {
     "data": {
      "text/plain": [
       "array(['Source Verified', 'Not Verified', 'Verified'], dtype=object)"
      ]
     },
     "execution_count": 77,
     "metadata": {},
     "output_type": "execute_result"
    }
   ],
   "source": [
    "df['verification_status'].unique()"
   ]
  },
  {
   "cell_type": "code",
   "execution_count": 78,
   "id": "e3bfea5f-4792-4f27-b5fb-cb9fb8a8e8ae",
   "metadata": {},
   "outputs": [
    {
     "data": {
      "text/plain": [
       "array(['Dec-11', 'Nov-11', 'Oct-11', 'Sep-11', 'Aug-11', 'Jul-11',\n",
       "       'Jun-11', 'May-11', 'Apr-11', 'Mar-11', 'Feb-11', 'Jan-11',\n",
       "       'Dec-10', 'Nov-10', 'Oct-10', 'Sep-10', 'Aug-10', 'Jul-10',\n",
       "       'Jun-10', 'May-10', 'Apr-10', 'Mar-10', 'Feb-10', 'Jan-10',\n",
       "       'Dec-09', 'Nov-09', 'Oct-09', 'Sep-09', 'Aug-09', 'Jul-09',\n",
       "       'Jun-09', 'May-09', 'Apr-09', 'Mar-09', 'Feb-09', 'Jan-09',\n",
       "       'Dec-08', 'Nov-08', 'Oct-08', 'Sep-08', 'Aug-08', 'Jul-08',\n",
       "       'Jun-08', 'May-08', 'Apr-08', 'Mar-08', 'Feb-08', 'Jan-08',\n",
       "       'Dec-07', 'Nov-07', 'Oct-07', 'Sep-07', 'Aug-07', 'Jul-07',\n",
       "       'Jun-07'], dtype=object)"
      ]
     },
     "execution_count": 78,
     "metadata": {},
     "output_type": "execute_result"
    }
   ],
   "source": [
    "df['issue_d'].unique()"
   ]
  },
  {
   "cell_type": "markdown",
   "id": "b86b098d-441d-4f07-ab98-6de1d03e9c77",
   "metadata": {},
   "source": [
    "### <span style=\"color:green\"> We can do 2 things for this column. Change the column name to \"issued\" and separate month/year"
   ]
  },
  {
   "cell_type": "code",
   "execution_count": 79,
   "id": "aa1f53e9-b492-4800-8a0e-8d8542f11943",
   "metadata": {},
   "outputs": [],
   "source": [
    "df.rename(columns={'issue_d':'issued'}, inplace=True)"
   ]
  },
  {
   "cell_type": "code",
   "execution_count": 80,
   "id": "a33ca5ee-3c06-4f66-98ec-d5c049243896",
   "metadata": {},
   "outputs": [],
   "source": [
    "df['issued_month'] = df['issued'].apply(lambda x: x.split('-')[0])\n",
    "df['issued_year'] = df['issued'].apply(lambda x: x.split('-')[1])\n",
    "df['issued_year'] = df['issued_year'].apply(lambda x: '20'+ x)"
   ]
  },
  {
   "cell_type": "code",
   "execution_count": 81,
   "id": "4e2a8c1c-21f6-49d9-bd49-1a54503d9d4f",
   "metadata": {},
   "outputs": [
    {
     "data": {
      "text/plain": [
       "1    Dec\n",
       "3    Dec\n",
       "4    Dec\n",
       "5    Dec\n",
       "6    Dec\n",
       "Name: issued_month, dtype: object"
      ]
     },
     "execution_count": 81,
     "metadata": {},
     "output_type": "execute_result"
    }
   ],
   "source": [
    "df['issued_month'].head()"
   ]
  },
  {
   "cell_type": "code",
   "execution_count": 82,
   "id": "884045a2-be3e-44cf-afa4-e935ac945e43",
   "metadata": {},
   "outputs": [
    {
     "data": {
      "text/plain": [
       "1    2011\n",
       "3    2011\n",
       "4    2011\n",
       "5    2011\n",
       "6    2011\n",
       "Name: issued_year, dtype: object"
      ]
     },
     "execution_count": 82,
     "metadata": {},
     "output_type": "execute_result"
    }
   ],
   "source": [
    "df['issued_year'].head()"
   ]
  },
  {
   "cell_type": "code",
   "execution_count": 83,
   "id": "bad71029-724c-4cd4-bee5-602cfc98428e",
   "metadata": {},
   "outputs": [
    {
     "data": {
      "text/plain": [
       "array(['Charged Off', 'Fully Paid', 'Current'], dtype=object)"
      ]
     },
     "execution_count": 83,
     "metadata": {},
     "output_type": "execute_result"
    }
   ],
   "source": [
    "df['loan_status'].unique()"
   ]
  },
  {
   "cell_type": "code",
   "execution_count": 84,
   "id": "06446d5e-1294-45a1-845a-c6ca4f16577c",
   "metadata": {},
   "outputs": [
    {
     "data": {
      "text/plain": [
       "array(['n'], dtype=object)"
      ]
     },
     "execution_count": 84,
     "metadata": {},
     "output_type": "execute_result"
    }
   ],
   "source": [
    "df['pymnt_plan'].unique()"
   ]
  },
  {
   "cell_type": "markdown",
   "id": "cd44cac0-02f0-4833-a9b0-935fa36c3dd2",
   "metadata": {},
   "source": [
    "### <span style=\"color:red\"> The column 'pymnt_plan' has a singular value. It's of no use for our analysis. We can drop it."
   ]
  },
  {
   "cell_type": "code",
   "execution_count": 85,
   "id": "6ac7ca61-7122-46e5-a93d-9c9ca50b0b6f",
   "metadata": {},
   "outputs": [],
   "source": [
    "df = df.drop('pymnt_plan', axis=1)"
   ]
  },
  {
   "cell_type": "code",
   "execution_count": 86,
   "id": "ba517b6b-3172-4217-98d4-462529616e84",
   "metadata": {},
   "outputs": [
    {
     "name": "stdout",
     "output_type": "stream",
     "text": [
      "<class 'pandas.core.frame.DataFrame'>\n",
      "Index: 37152 entries, 1 to 39716\n",
      "Data columns (total 50 columns):\n",
      " #   Column                   Non-Null Count  Dtype  \n",
      "---  ------                   --------------  -----  \n",
      " 0   id                       37152 non-null  int64  \n",
      " 1   member_id                37152 non-null  int64  \n",
      " 2   loan_amnt                37152 non-null  int64  \n",
      " 3   funded_amnt              37152 non-null  int64  \n",
      " 4   funded_amnt_inv          37152 non-null  float64\n",
      " 5   term                     37152 non-null  int64  \n",
      " 6   int_rate                 37152 non-null  float64\n",
      " 7   installment              37152 non-null  float64\n",
      " 8   grade                    37152 non-null  object \n",
      " 9   sub_grade                37152 non-null  object \n",
      " 10  emp_title                37152 non-null  object \n",
      " 11  emp_length               37152 non-null  object \n",
      " 12  home_ownership           37152 non-null  object \n",
      " 13  annual_inc               37152 non-null  float64\n",
      " 14  verification_status      37152 non-null  object \n",
      " 15  issued                   37152 non-null  object \n",
      " 16  loan_status              37152 non-null  object \n",
      " 17  url                      37152 non-null  object \n",
      " 18  purpose                  37152 non-null  object \n",
      " 19  zip_code                 37152 non-null  object \n",
      " 20  addr_state               37152 non-null  object \n",
      " 21  dti                      37152 non-null  float64\n",
      " 22  delinq_2yrs              37152 non-null  int64  \n",
      " 23  earliest_cr_line         37152 non-null  object \n",
      " 24  inq_last_6mths           37152 non-null  int64  \n",
      " 25  open_acc                 37152 non-null  int64  \n",
      " 26  pub_rec                  37152 non-null  int64  \n",
      " 27  revol_bal                37152 non-null  int64  \n",
      " 28  revol_util               37152 non-null  object \n",
      " 29  total_acc                37152 non-null  int64  \n",
      " 30  initial_list_status      37152 non-null  object \n",
      " 31  out_prncp                37152 non-null  float64\n",
      " 32  out_prncp_inv            37152 non-null  float64\n",
      " 33  total_pymnt              37152 non-null  float64\n",
      " 34  total_pymnt_inv          37152 non-null  float64\n",
      " 35  total_rec_prncp          37152 non-null  float64\n",
      " 36  total_rec_int            37152 non-null  float64\n",
      " 37  total_rec_late_fee       37152 non-null  float64\n",
      " 38  recoveries               37152 non-null  float64\n",
      " 39  collection_recovery_fee  37152 non-null  float64\n",
      " 40  last_pymnt_d             37152 non-null  object \n",
      " 41  last_pymnt_amnt          37152 non-null  float64\n",
      " 42  last_credit_pull_d       37152 non-null  object \n",
      " 43  policy_code              37152 non-null  int64  \n",
      " 44  application_type         37152 non-null  object \n",
      " 45  acc_now_delinq           37152 non-null  int64  \n",
      " 46  delinq_amnt              37152 non-null  int64  \n",
      " 47  pub_rec_bankruptcies     37152 non-null  float64\n",
      " 48  issued_month             37152 non-null  object \n",
      " 49  issued_year              37152 non-null  object \n",
      "dtypes: float64(16), int64(14), object(20)\n",
      "memory usage: 14.5+ MB\n"
     ]
    }
   ],
   "source": [
    "df.info()"
   ]
  },
  {
   "cell_type": "code",
   "execution_count": 87,
   "id": "045fecca-5804-4a63-8776-4509e4ce3dce",
   "metadata": {},
   "outputs": [
    {
     "data": {
      "text/plain": [
       "array(['https://lendingclub.com/browse/loanDetail.action?loan_id=1077430',\n",
       "       'https://lendingclub.com/browse/loanDetail.action?loan_id=1076863',\n",
       "       'https://lendingclub.com/browse/loanDetail.action?loan_id=1075358',\n",
       "       ...,\n",
       "       'https://lendingclub.com/browse/loanDetail.action?loan_id=92187',\n",
       "       'https://lendingclub.com/browse/loanDetail.action?loan_id=90665',\n",
       "       'https://lendingclub.com/browse/loanDetail.action?loan_id=87023'],\n",
       "      dtype=object)"
      ]
     },
     "execution_count": 87,
     "metadata": {},
     "output_type": "execute_result"
    }
   ],
   "source": [
    "df['url'].unique()"
   ]
  },
  {
   "cell_type": "code",
   "execution_count": 88,
   "id": "9335d1a6-802e-4bf7-9b8d-71ec925390b1",
   "metadata": {},
   "outputs": [
    {
     "data": {
      "text/plain": [
       "array(['car', 'other', 'wedding', 'debt_consolidation', 'credit_card',\n",
       "       'home_improvement', 'major_purchase', 'medical', 'moving',\n",
       "       'small_business', 'vacation', 'house', 'renewable_energy',\n",
       "       'educational'], dtype=object)"
      ]
     },
     "execution_count": 88,
     "metadata": {},
     "output_type": "execute_result"
    }
   ],
   "source": [
    "df['purpose'].unique()"
   ]
  },
  {
   "cell_type": "code",
   "execution_count": 89,
   "id": "2fd1402e-c984-4f2a-a3a6-2561a45d0425",
   "metadata": {},
   "outputs": [
    {
     "data": {
      "text/plain": [
       "1     309xx\n",
       "3     917xx\n",
       "4     972xx\n",
       "5     852xx\n",
       "6     280xx\n",
       "7     900xx\n",
       "9     774xx\n",
       "10    853xx\n",
       "11    913xx\n",
       "12    245xx\n",
       "Name: zip_code, dtype: object"
      ]
     },
     "execution_count": 89,
     "metadata": {},
     "output_type": "execute_result"
    }
   ],
   "source": [
    "df['zip_code'].head(10)"
   ]
  },
  {
   "cell_type": "code",
   "execution_count": 90,
   "id": "38df9976-615c-487b-a6c9-e0bbef461f99",
   "metadata": {},
   "outputs": [
    {
     "data": {
      "text/plain": [
       "array(['GA', 'CA', 'OR', 'AZ', 'NC', 'TX', 'VA', 'IL', 'MO', 'CT', 'UT',\n",
       "       'FL', 'PA', 'MN', 'NJ', 'KY', 'OH', 'SC', 'RI', 'LA', 'MA', 'NY',\n",
       "       'WA', 'WI', 'AL', 'CO', 'KS', 'NV', 'AK', 'MD', 'WV', 'VT', 'MI',\n",
       "       'DC', 'NH', 'AR', 'NM', 'MT', 'HI', 'WY', 'OK', 'SD', 'DE', 'MS',\n",
       "       'TN', 'IA', 'NE', 'ID', 'IN', 'ME'], dtype=object)"
      ]
     },
     "execution_count": 90,
     "metadata": {},
     "output_type": "execute_result"
    }
   ],
   "source": [
    "df['addr_state'].unique()"
   ]
  },
  {
   "cell_type": "code",
   "execution_count": 91,
   "id": "74a79d09-1b75-4b90-92a7-96b7b218eec6",
   "metadata": {},
   "outputs": [
    {
     "data": {
      "text/plain": [
       "1     Apr-99\n",
       "3     Feb-96\n",
       "4     Jan-96\n",
       "5     Nov-04\n",
       "6     Jul-05\n",
       "7     Jan-07\n",
       "9     Sep-04\n",
       "10    Jan-98\n",
       "11    Oct-89\n",
       "12    Apr-04\n",
       "Name: earliest_cr_line, dtype: object"
      ]
     },
     "execution_count": 91,
     "metadata": {},
     "output_type": "execute_result"
    }
   ],
   "source": [
    "df['earliest_cr_line'].head(10)"
   ]
  },
  {
   "cell_type": "markdown",
   "id": "8340d4dc-9da9-4995-85ae-ec0bd705cc5f",
   "metadata": {},
   "source": [
    "### <span style=\"color:green\"> We can separate month/year for this column as well. Also, we will rewrite the year for readability."
   ]
  },
  {
   "cell_type": "code",
   "execution_count": 92,
   "id": "9f1a6129-8452-4b00-bf50-5ba335c26ca2",
   "metadata": {},
   "outputs": [],
   "source": [
    "df['earliest_cr_line_month'] = df['earliest_cr_line'].apply(lambda x: x.split('-')[0])\n",
    "df['earliest_cr_line_year'] = df['earliest_cr_line'].apply(lambda x: x.split('-')[1])"
   ]
  },
  {
   "cell_type": "code",
   "execution_count": 93,
   "id": "2da08fd2-716b-4895-9e41-09a6413bffdb",
   "metadata": {},
   "outputs": [
    {
     "data": {
      "text/plain": [
       "1    Apr\n",
       "3    Feb\n",
       "4    Jan\n",
       "5    Nov\n",
       "6    Jul\n",
       "Name: earliest_cr_line_month, dtype: object"
      ]
     },
     "execution_count": 93,
     "metadata": {},
     "output_type": "execute_result"
    }
   ],
   "source": [
    "df['earliest_cr_line_month'].head()"
   ]
  },
  {
   "cell_type": "code",
   "execution_count": 94,
   "id": "dfc10500-6f76-43e2-80e6-aa2ae4c0f5a0",
   "metadata": {},
   "outputs": [
    {
     "data": {
      "text/plain": [
       "array(['99', '96', '04', '05', '07', '98', '89', '03', '91', '93', '01',\n",
       "       '97', '83', '85', '02', '84', '06', '81', '00', '94', '95', '92',\n",
       "       '86', '90', '88', '80', '08', '73', '79', '87', '82', '78', '71',\n",
       "       '72', '70', '69', '75', '76', '77', '68', '74', '67', '65', '63',\n",
       "       '66', '62', '56', '46', '50', '64', '54'], dtype=object)"
      ]
     },
     "execution_count": 94,
     "metadata": {},
     "output_type": "execute_result"
    }
   ],
   "source": [
    "df['earliest_cr_line_year'].unique()"
   ]
  },
  {
   "cell_type": "code",
   "execution_count": 95,
   "id": "d84ed20f-22c0-42d8-bc47-606a5c52a459",
   "metadata": {},
   "outputs": [],
   "source": [
    "ts = ['00','01','02','03','04','05','06','07','08','09','10','11','12','13','14','15','16','17','18','19','20','21','22','23','24']"
   ]
  },
  {
   "cell_type": "code",
   "execution_count": 96,
   "id": "9be35ce7-43e2-44ac-b184-fc95a879aa4a",
   "metadata": {},
   "outputs": [],
   "source": [
    "df['earliest_cr_line_year'] = df['earliest_cr_line_year'].apply(lambda x: '20'+ x if x in ts else '19' + x)"
   ]
  },
  {
   "cell_type": "code",
   "execution_count": 97,
   "id": "cfd366c8-31f4-415b-ac16-b2472bde2483",
   "metadata": {},
   "outputs": [
    {
     "data": {
      "text/plain": [
       "array(['1999', '1996', '2004', '2005', '2007', '1998', '1989', '2003',\n",
       "       '1991', '1993', '2001', '1997', '1983', '1985', '2002', '1984',\n",
       "       '2006', '1981', '2000', '1994', '1995', '1992', '1986', '1990',\n",
       "       '1988', '1980', '2008', '1973', '1979', '1987', '1982', '1978',\n",
       "       '1971', '1972', '1970', '1969', '1975', '1976', '1977', '1968',\n",
       "       '1974', '1967', '1965', '1963', '1966', '1962', '1956', '1946',\n",
       "       '1950', '1964', '1954'], dtype=object)"
      ]
     },
     "execution_count": 97,
     "metadata": {},
     "output_type": "execute_result"
    }
   ],
   "source": [
    "df['earliest_cr_line_year'].unique()"
   ]
  },
  {
   "cell_type": "code",
   "execution_count": 98,
   "id": "7809c973-bc44-477b-9110-e6b883588818",
   "metadata": {},
   "outputs": [
    {
     "data": {
      "text/plain": [
       "1     9.40%\n",
       "3       21%\n",
       "4    53.90%\n",
       "5    28.30%\n",
       "6    85.60%\n",
       "Name: revol_util, dtype: object"
      ]
     },
     "execution_count": 98,
     "metadata": {},
     "output_type": "execute_result"
    }
   ],
   "source": [
    "df['revol_util'].head()"
   ]
  },
  {
   "cell_type": "markdown",
   "id": "2f119833-3833-409d-be55-bb5d9b38d8d0",
   "metadata": {},
   "source": [
    "### <span style=\"color:green\"> Let's remove %age from this column"
   ]
  },
  {
   "cell_type": "code",
   "execution_count": 99,
   "id": "4d027d39-e1fe-4c91-a932-3829180db612",
   "metadata": {},
   "outputs": [],
   "source": [
    "df['revol_util'] = df['revol_util'].apply(lambda x: float(x.rstrip('%')))"
   ]
  },
  {
   "cell_type": "code",
   "execution_count": 100,
   "id": "3a3912e2-790a-41f6-b19a-734672c3b3c9",
   "metadata": {},
   "outputs": [
    {
     "data": {
      "text/plain": [
       "1     9.4\n",
       "3    21.0\n",
       "4    53.9\n",
       "5    28.3\n",
       "6    85.6\n",
       "Name: revol_util, dtype: float64"
      ]
     },
     "execution_count": 100,
     "metadata": {},
     "output_type": "execute_result"
    }
   ],
   "source": [
    "df['revol_util'].head()"
   ]
  },
  {
   "cell_type": "code",
   "execution_count": 101,
   "id": "68b0c0b6-8a36-4145-bbc1-98f8af1d3ecb",
   "metadata": {},
   "outputs": [
    {
     "data": {
      "text/plain": [
       "array(['f'], dtype=object)"
      ]
     },
     "execution_count": 101,
     "metadata": {},
     "output_type": "execute_result"
    }
   ],
   "source": [
    "df['initial_list_status'].unique()"
   ]
  },
  {
   "cell_type": "markdown",
   "id": "19940621-6111-4244-9bc2-b74be266f545",
   "metadata": {},
   "source": [
    "### <span style=\"color:green\"> This column has a single value in it and thus, not useful for analysis. We can drop the column."
   ]
  },
  {
   "cell_type": "code",
   "execution_count": 102,
   "id": "363e62e7-a3d2-4d34-8a1e-35239fa8fe7d",
   "metadata": {},
   "outputs": [],
   "source": [
    "df = df.drop('initial_list_status', axis=1)"
   ]
  },
  {
   "cell_type": "code",
   "execution_count": 103,
   "id": "27d82734-9905-47c1-b792-6ec7dcffa4d4",
   "metadata": {},
   "outputs": [
    {
     "name": "stdout",
     "output_type": "stream",
     "text": [
      "<class 'pandas.core.frame.DataFrame'>\n",
      "Index: 37152 entries, 1 to 39716\n",
      "Data columns (total 51 columns):\n",
      " #   Column                   Non-Null Count  Dtype  \n",
      "---  ------                   --------------  -----  \n",
      " 0   id                       37152 non-null  int64  \n",
      " 1   member_id                37152 non-null  int64  \n",
      " 2   loan_amnt                37152 non-null  int64  \n",
      " 3   funded_amnt              37152 non-null  int64  \n",
      " 4   funded_amnt_inv          37152 non-null  float64\n",
      " 5   term                     37152 non-null  int64  \n",
      " 6   int_rate                 37152 non-null  float64\n",
      " 7   installment              37152 non-null  float64\n",
      " 8   grade                    37152 non-null  object \n",
      " 9   sub_grade                37152 non-null  object \n",
      " 10  emp_title                37152 non-null  object \n",
      " 11  emp_length               37152 non-null  object \n",
      " 12  home_ownership           37152 non-null  object \n",
      " 13  annual_inc               37152 non-null  float64\n",
      " 14  verification_status      37152 non-null  object \n",
      " 15  issued                   37152 non-null  object \n",
      " 16  loan_status              37152 non-null  object \n",
      " 17  url                      37152 non-null  object \n",
      " 18  purpose                  37152 non-null  object \n",
      " 19  zip_code                 37152 non-null  object \n",
      " 20  addr_state               37152 non-null  object \n",
      " 21  dti                      37152 non-null  float64\n",
      " 22  delinq_2yrs              37152 non-null  int64  \n",
      " 23  earliest_cr_line         37152 non-null  object \n",
      " 24  inq_last_6mths           37152 non-null  int64  \n",
      " 25  open_acc                 37152 non-null  int64  \n",
      " 26  pub_rec                  37152 non-null  int64  \n",
      " 27  revol_bal                37152 non-null  int64  \n",
      " 28  revol_util               37152 non-null  float64\n",
      " 29  total_acc                37152 non-null  int64  \n",
      " 30  out_prncp                37152 non-null  float64\n",
      " 31  out_prncp_inv            37152 non-null  float64\n",
      " 32  total_pymnt              37152 non-null  float64\n",
      " 33  total_pymnt_inv          37152 non-null  float64\n",
      " 34  total_rec_prncp          37152 non-null  float64\n",
      " 35  total_rec_int            37152 non-null  float64\n",
      " 36  total_rec_late_fee       37152 non-null  float64\n",
      " 37  recoveries               37152 non-null  float64\n",
      " 38  collection_recovery_fee  37152 non-null  float64\n",
      " 39  last_pymnt_d             37152 non-null  object \n",
      " 40  last_pymnt_amnt          37152 non-null  float64\n",
      " 41  last_credit_pull_d       37152 non-null  object \n",
      " 42  policy_code              37152 non-null  int64  \n",
      " 43  application_type         37152 non-null  object \n",
      " 44  acc_now_delinq           37152 non-null  int64  \n",
      " 45  delinq_amnt              37152 non-null  int64  \n",
      " 46  pub_rec_bankruptcies     37152 non-null  float64\n",
      " 47  issued_month             37152 non-null  object \n",
      " 48  issued_year              37152 non-null  object \n",
      " 49  earliest_cr_line_month   37152 non-null  object \n",
      " 50  earliest_cr_line_year    37152 non-null  object \n",
      "dtypes: float64(17), int64(14), object(20)\n",
      "memory usage: 14.7+ MB\n"
     ]
    }
   ],
   "source": [
    "df.info()"
   ]
  },
  {
   "cell_type": "code",
   "execution_count": 104,
   "id": "d9cc0220-1ebc-47b3-b574-6c7733930a24",
   "metadata": {},
   "outputs": [
    {
     "data": {
      "text/plain": [
       "1    Apr-13\n",
       "3    Jan-15\n",
       "4    May-16\n",
       "5    Jan-15\n",
       "6    May-16\n",
       "Name: last_pymnt_d, dtype: object"
      ]
     },
     "execution_count": 104,
     "metadata": {},
     "output_type": "execute_result"
    }
   ],
   "source": [
    "df['last_pymnt_d'].head()"
   ]
  },
  {
   "cell_type": "markdown",
   "id": "41e0d073-92ab-47a9-be73-f30a058c5626",
   "metadata": {},
   "source": [
    "### <span style=\"color:green\"> We can separate month/year for this column. Also, we will rewrite the year for readability."
   ]
  },
  {
   "cell_type": "code",
   "execution_count": 105,
   "id": "83919ed6-a361-44d3-9dcc-5ffa5b6e5cde",
   "metadata": {},
   "outputs": [],
   "source": [
    "df['last_pymnt_d_month'] = df['last_pymnt_d'].apply(lambda x: x.split('-')[0])\n",
    "df['last_pymnt_d_year'] = df['last_pymnt_d'].apply(lambda x: x.split('-')[1])"
   ]
  },
  {
   "cell_type": "code",
   "execution_count": 106,
   "id": "e4ed18f1-202b-479d-bd22-ffeadc9993df",
   "metadata": {},
   "outputs": [
    {
     "data": {
      "text/plain": [
       "1    Apr\n",
       "3    Jan\n",
       "4    May\n",
       "5    Jan\n",
       "6    May\n",
       "Name: last_pymnt_d_month, dtype: object"
      ]
     },
     "execution_count": 106,
     "metadata": {},
     "output_type": "execute_result"
    }
   ],
   "source": [
    "df['last_pymnt_d_month'].head()"
   ]
  },
  {
   "cell_type": "code",
   "execution_count": 107,
   "id": "cd994548-2be9-49e1-af7f-2b7e6c59c910",
   "metadata": {},
   "outputs": [
    {
     "data": {
      "text/plain": [
       "array(['13', '15', '16', '12', '14', '11', '10', '09', '08'], dtype=object)"
      ]
     },
     "execution_count": 107,
     "metadata": {},
     "output_type": "execute_result"
    }
   ],
   "source": [
    "df['last_pymnt_d_year'].unique()"
   ]
  },
  {
   "cell_type": "code",
   "execution_count": 108,
   "id": "2791874c-6f51-4180-9a03-cced05e5d5e1",
   "metadata": {},
   "outputs": [],
   "source": [
    "df['last_pymnt_d_year'] = df['last_pymnt_d_year'].apply(lambda x: '20'+ x)"
   ]
  },
  {
   "cell_type": "code",
   "execution_count": 109,
   "id": "86f03e12-e7b3-40cf-b378-7bbcab1544a4",
   "metadata": {},
   "outputs": [
    {
     "data": {
      "text/plain": [
       "array(['2013', '2015', '2016', '2012', '2014', '2011', '2010', '2009',\n",
       "       '2008'], dtype=object)"
      ]
     },
     "execution_count": 109,
     "metadata": {},
     "output_type": "execute_result"
    }
   ],
   "source": [
    "df['last_pymnt_d_year'].unique()"
   ]
  },
  {
   "cell_type": "code",
   "execution_count": 110,
   "id": "f498b8b4-a0c8-47f3-9db6-2fe64765022d",
   "metadata": {},
   "outputs": [
    {
     "data": {
      "text/plain": [
       "1        Sep-13\n",
       "3        Apr-16\n",
       "4        May-16\n",
       "5        Jan-16\n",
       "6        May-16\n",
       "          ...  \n",
       "39710    Jun-07\n",
       "39711    Nov-14\n",
       "39712    Jun-10\n",
       "39713    Jul-10\n",
       "39716    Jun-10\n",
       "Name: last_credit_pull_d, Length: 37152, dtype: object"
      ]
     },
     "execution_count": 110,
     "metadata": {},
     "output_type": "execute_result"
    }
   ],
   "source": [
    "df['last_credit_pull_d']"
   ]
  },
  {
   "cell_type": "markdown",
   "id": "a33357d3-3eba-450c-bc1b-ab9715371ead",
   "metadata": {},
   "source": [
    "### <span style=\"color:green\"> We can separate month/year for this column. Also, we will rewrite the year for readability."
   ]
  },
  {
   "cell_type": "code",
   "execution_count": 111,
   "id": "a71b16a2-f39e-41c3-a708-28bf7a60593c",
   "metadata": {},
   "outputs": [],
   "source": [
    "df['last_credit_pull_d_month'] = df['last_credit_pull_d'].apply(lambda x: x.split('-')[0])\n",
    "df['last_credit_pull_d_year'] = df['last_credit_pull_d'].apply(lambda x: x.split('-')[1])"
   ]
  },
  {
   "cell_type": "code",
   "execution_count": 112,
   "id": "b7dfb6b4-a434-4901-a200-e9fcea9133f3",
   "metadata": {},
   "outputs": [
    {
     "data": {
      "text/plain": [
       "1    Sep\n",
       "3    Apr\n",
       "4    May\n",
       "5    Jan\n",
       "6    May\n",
       "Name: last_credit_pull_d_month, dtype: object"
      ]
     },
     "execution_count": 112,
     "metadata": {},
     "output_type": "execute_result"
    }
   ],
   "source": [
    "df['last_credit_pull_d_month'].head()"
   ]
  },
  {
   "cell_type": "code",
   "execution_count": 113,
   "id": "82d88d24-179e-45fa-a892-47bea1d37d2b",
   "metadata": {},
   "outputs": [
    {
     "data": {
      "text/plain": [
       "array(['13', '16', '14', '15', '12', '11', '10', '09', '08', '07'],\n",
       "      dtype=object)"
      ]
     },
     "execution_count": 113,
     "metadata": {},
     "output_type": "execute_result"
    }
   ],
   "source": [
    "df['last_credit_pull_d_year'].unique()"
   ]
  },
  {
   "cell_type": "code",
   "execution_count": 114,
   "id": "18818be9-ec6b-4bbe-bf6c-653f832b321c",
   "metadata": {},
   "outputs": [],
   "source": [
    "df['last_credit_pull_d_year'] = df['last_credit_pull_d_year'].apply(lambda x: '20'+ x)"
   ]
  },
  {
   "cell_type": "code",
   "execution_count": 115,
   "id": "75eb0c0d-3d42-4e78-b987-36c2a0cf8a96",
   "metadata": {},
   "outputs": [
    {
     "data": {
      "text/plain": [
       "array(['2013', '2016', '2014', '2015', '2012', '2011', '2010', '2009',\n",
       "       '2008', '2007'], dtype=object)"
      ]
     },
     "execution_count": 115,
     "metadata": {},
     "output_type": "execute_result"
    }
   ],
   "source": [
    "df['last_credit_pull_d_year'].unique()"
   ]
  },
  {
   "cell_type": "code",
   "execution_count": 116,
   "id": "16efdbfe-907d-422e-8b51-87a75212ded4",
   "metadata": {},
   "outputs": [
    {
     "data": {
      "text/plain": [
       "1    INDIVIDUAL\n",
       "3    INDIVIDUAL\n",
       "4    INDIVIDUAL\n",
       "5    INDIVIDUAL\n",
       "6    INDIVIDUAL\n",
       "Name: application_type, dtype: object"
      ]
     },
     "execution_count": 116,
     "metadata": {},
     "output_type": "execute_result"
    }
   ],
   "source": [
    "df['application_type'].head()"
   ]
  },
  {
   "cell_type": "code",
   "execution_count": 117,
   "id": "267fcdfc-a2bb-4a98-aa56-d7f4ed9a46ea",
   "metadata": {},
   "outputs": [
    {
     "data": {
      "text/plain": [
       "array(['INDIVIDUAL'], dtype=object)"
      ]
     },
     "execution_count": 117,
     "metadata": {},
     "output_type": "execute_result"
    }
   ],
   "source": [
    "df['application_type'].unique()"
   ]
  },
  {
   "cell_type": "markdown",
   "id": "58d74377-56a7-451b-aa13-6a8d98bc210b",
   "metadata": {},
   "source": [
    "### <span style=\"color:green\"> This column has a single value in it and thus can be dropped."
   ]
  },
  {
   "cell_type": "code",
   "execution_count": 118,
   "id": "62d024d7-aa94-4c9a-8213-06ae6fe37233",
   "metadata": {},
   "outputs": [],
   "source": [
    "df = df.drop('application_type',axis=1)"
   ]
  },
  {
   "cell_type": "code",
   "execution_count": 119,
   "id": "d63ffec4-8d14-4995-a70d-8c350255926f",
   "metadata": {},
   "outputs": [
    {
     "name": "stdout",
     "output_type": "stream",
     "text": [
      "<class 'pandas.core.frame.DataFrame'>\n",
      "Index: 37152 entries, 1 to 39716\n",
      "Data columns (total 54 columns):\n",
      " #   Column                    Non-Null Count  Dtype  \n",
      "---  ------                    --------------  -----  \n",
      " 0   id                        37152 non-null  int64  \n",
      " 1   member_id                 37152 non-null  int64  \n",
      " 2   loan_amnt                 37152 non-null  int64  \n",
      " 3   funded_amnt               37152 non-null  int64  \n",
      " 4   funded_amnt_inv           37152 non-null  float64\n",
      " 5   term                      37152 non-null  int64  \n",
      " 6   int_rate                  37152 non-null  float64\n",
      " 7   installment               37152 non-null  float64\n",
      " 8   grade                     37152 non-null  object \n",
      " 9   sub_grade                 37152 non-null  object \n",
      " 10  emp_title                 37152 non-null  object \n",
      " 11  emp_length                37152 non-null  object \n",
      " 12  home_ownership            37152 non-null  object \n",
      " 13  annual_inc                37152 non-null  float64\n",
      " 14  verification_status       37152 non-null  object \n",
      " 15  issued                    37152 non-null  object \n",
      " 16  loan_status               37152 non-null  object \n",
      " 17  url                       37152 non-null  object \n",
      " 18  purpose                   37152 non-null  object \n",
      " 19  zip_code                  37152 non-null  object \n",
      " 20  addr_state                37152 non-null  object \n",
      " 21  dti                       37152 non-null  float64\n",
      " 22  delinq_2yrs               37152 non-null  int64  \n",
      " 23  earliest_cr_line          37152 non-null  object \n",
      " 24  inq_last_6mths            37152 non-null  int64  \n",
      " 25  open_acc                  37152 non-null  int64  \n",
      " 26  pub_rec                   37152 non-null  int64  \n",
      " 27  revol_bal                 37152 non-null  int64  \n",
      " 28  revol_util                37152 non-null  float64\n",
      " 29  total_acc                 37152 non-null  int64  \n",
      " 30  out_prncp                 37152 non-null  float64\n",
      " 31  out_prncp_inv             37152 non-null  float64\n",
      " 32  total_pymnt               37152 non-null  float64\n",
      " 33  total_pymnt_inv           37152 non-null  float64\n",
      " 34  total_rec_prncp           37152 non-null  float64\n",
      " 35  total_rec_int             37152 non-null  float64\n",
      " 36  total_rec_late_fee        37152 non-null  float64\n",
      " 37  recoveries                37152 non-null  float64\n",
      " 38  collection_recovery_fee   37152 non-null  float64\n",
      " 39  last_pymnt_d              37152 non-null  object \n",
      " 40  last_pymnt_amnt           37152 non-null  float64\n",
      " 41  last_credit_pull_d        37152 non-null  object \n",
      " 42  policy_code               37152 non-null  int64  \n",
      " 43  acc_now_delinq            37152 non-null  int64  \n",
      " 44  delinq_amnt               37152 non-null  int64  \n",
      " 45  pub_rec_bankruptcies      37152 non-null  float64\n",
      " 46  issued_month              37152 non-null  object \n",
      " 47  issued_year               37152 non-null  object \n",
      " 48  earliest_cr_line_month    37152 non-null  object \n",
      " 49  earliest_cr_line_year     37152 non-null  object \n",
      " 50  last_pymnt_d_month        37152 non-null  object \n",
      " 51  last_pymnt_d_year         37152 non-null  object \n",
      " 52  last_credit_pull_d_month  37152 non-null  object \n",
      " 53  last_credit_pull_d_year   37152 non-null  object \n",
      "dtypes: float64(17), int64(14), object(23)\n",
      "memory usage: 15.6+ MB\n"
     ]
    }
   ],
   "source": [
    "df.info()"
   ]
  },
  {
   "cell_type": "markdown",
   "id": "72c3f5d4-85d5-4e16-b792-83ea09dab0ed",
   "metadata": {},
   "source": [
    " "
   ]
  },
  {
   "cell_type": "markdown",
   "id": "a4c5139a-0570-4484-9374-b1f31fcddfe1",
   "metadata": {},
   "source": [
    "### <span style=\"color:red\"> We have taken care of Null/Missing values"
   ]
  },
  {
   "cell_type": "markdown",
   "id": "18f363d5-7eab-4493-85dc-25d85f639575",
   "metadata": {},
   "source": [
    "### <span style=\"color:red\"> Also, we have taken care of data types & splitted few columns to make new ones which will be beneficial for the analysis"
   ]
  },
  {
   "cell_type": "markdown",
   "id": "4645144e-b3ff-4f5e-9b22-1b9f3cdc866b",
   "metadata": {},
   "source": [
    "## <span style=\"color:blue\"> Next, we have to analyze the features"
   ]
  },
  {
   "cell_type": "markdown",
   "id": "8f94019e-5405-48e8-8f12-f9e61b9a6c97",
   "metadata": {},
   "source": [
    "### <span style=\"color:green\"> Univariate Analysis"
   ]
  },
  {
   "cell_type": "markdown",
   "id": "000102ef-5718-4b6c-aac8-b6a0f3ab5a02",
   "metadata": {},
   "source": [
    "### <span style=\"color:green\"> Before anything else, to make things easier, let's split the dataset into 2 (one for numeric and other for categorical variables)"
   ]
  },
  {
   "cell_type": "code",
   "execution_count": 125,
   "id": "3a9d921c-b2d9-4645-80ff-e31feaa53331",
   "metadata": {},
   "outputs": [],
   "source": [
    "dfn = df.select_dtypes(include=[np.number])\n",
    "dfc = df.select_dtypes(exclude=[np.number])"
   ]
  },
  {
   "cell_type": "code",
   "execution_count": 126,
   "id": "6611867e-3b10-4754-84f8-be10b460a921",
   "metadata": {},
   "outputs": [
    {
     "name": "stdout",
     "output_type": "stream",
     "text": [
      "<class 'pandas.core.frame.DataFrame'>\n",
      "Index: 37152 entries, 1 to 39716\n",
      "Data columns (total 31 columns):\n",
      " #   Column                   Non-Null Count  Dtype  \n",
      "---  ------                   --------------  -----  \n",
      " 0   id                       37152 non-null  int64  \n",
      " 1   member_id                37152 non-null  int64  \n",
      " 2   loan_amnt                37152 non-null  int64  \n",
      " 3   funded_amnt              37152 non-null  int64  \n",
      " 4   funded_amnt_inv          37152 non-null  float64\n",
      " 5   term                     37152 non-null  int64  \n",
      " 6   int_rate                 37152 non-null  float64\n",
      " 7   installment              37152 non-null  float64\n",
      " 8   annual_inc               37152 non-null  float64\n",
      " 9   dti                      37152 non-null  float64\n",
      " 10  delinq_2yrs              37152 non-null  int64  \n",
      " 11  inq_last_6mths           37152 non-null  int64  \n",
      " 12  open_acc                 37152 non-null  int64  \n",
      " 13  pub_rec                  37152 non-null  int64  \n",
      " 14  revol_bal                37152 non-null  int64  \n",
      " 15  revol_util               37152 non-null  float64\n",
      " 16  total_acc                37152 non-null  int64  \n",
      " 17  out_prncp                37152 non-null  float64\n",
      " 18  out_prncp_inv            37152 non-null  float64\n",
      " 19  total_pymnt              37152 non-null  float64\n",
      " 20  total_pymnt_inv          37152 non-null  float64\n",
      " 21  total_rec_prncp          37152 non-null  float64\n",
      " 22  total_rec_int            37152 non-null  float64\n",
      " 23  total_rec_late_fee       37152 non-null  float64\n",
      " 24  recoveries               37152 non-null  float64\n",
      " 25  collection_recovery_fee  37152 non-null  float64\n",
      " 26  last_pymnt_amnt          37152 non-null  float64\n",
      " 27  policy_code              37152 non-null  int64  \n",
      " 28  acc_now_delinq           37152 non-null  int64  \n",
      " 29  delinq_amnt              37152 non-null  int64  \n",
      " 30  pub_rec_bankruptcies     37152 non-null  float64\n",
      "dtypes: float64(17), int64(14)\n",
      "memory usage: 9.1 MB\n"
     ]
    }
   ],
   "source": [
    "dfn.info()"
   ]
  },
  {
   "cell_type": "code",
   "execution_count": 127,
   "id": "4ee5afc4-65d8-41a0-a476-c097dcc71d19",
   "metadata": {},
   "outputs": [
    {
     "name": "stdout",
     "output_type": "stream",
     "text": [
      "<class 'pandas.core.frame.DataFrame'>\n",
      "Index: 37152 entries, 1 to 39716\n",
      "Data columns (total 23 columns):\n",
      " #   Column                    Non-Null Count  Dtype \n",
      "---  ------                    --------------  ----- \n",
      " 0   grade                     37152 non-null  object\n",
      " 1   sub_grade                 37152 non-null  object\n",
      " 2   emp_title                 37152 non-null  object\n",
      " 3   emp_length                37152 non-null  object\n",
      " 4   home_ownership            37152 non-null  object\n",
      " 5   verification_status       37152 non-null  object\n",
      " 6   issued                    37152 non-null  object\n",
      " 7   loan_status               37152 non-null  object\n",
      " 8   url                       37152 non-null  object\n",
      " 9   purpose                   37152 non-null  object\n",
      " 10  zip_code                  37152 non-null  object\n",
      " 11  addr_state                37152 non-null  object\n",
      " 12  earliest_cr_line          37152 non-null  object\n",
      " 13  last_pymnt_d              37152 non-null  object\n",
      " 14  last_credit_pull_d        37152 non-null  object\n",
      " 15  issued_month              37152 non-null  object\n",
      " 16  issued_year               37152 non-null  object\n",
      " 17  earliest_cr_line_month    37152 non-null  object\n",
      " 18  earliest_cr_line_year     37152 non-null  object\n",
      " 19  last_pymnt_d_month        37152 non-null  object\n",
      " 20  last_pymnt_d_year         37152 non-null  object\n",
      " 21  last_credit_pull_d_month  37152 non-null  object\n",
      " 22  last_credit_pull_d_year   37152 non-null  object\n",
      "dtypes: object(23)\n",
      "memory usage: 6.8+ MB\n"
     ]
    }
   ],
   "source": [
    "dfc.info()"
   ]
  },
  {
   "cell_type": "markdown",
   "id": "c0e3cbc2-12b9-4707-b4b5-7cfa08d0894a",
   "metadata": {},
   "source": [
    "### <span style=\"color:green\"> Univariate Analysis for Numeric Variables"
   ]
  },
  {
   "cell_type": "code",
   "execution_count": 133,
   "id": "4ab71d66-157b-4fe6-86ec-152b4918dbea",
   "metadata": {},
   "outputs": [
    {
     "data": {
      "text/html": [
       "<div>\n",
       "<style scoped>\n",
       "    .dataframe tbody tr th:only-of-type {\n",
       "        vertical-align: middle;\n",
       "    }\n",
       "\n",
       "    .dataframe tbody tr th {\n",
       "        vertical-align: top;\n",
       "    }\n",
       "\n",
       "    .dataframe thead th {\n",
       "        text-align: right;\n",
       "    }\n",
       "</style>\n",
       "<table border=\"1\" class=\"dataframe\">\n",
       "  <thead>\n",
       "    <tr style=\"text-align: right;\">\n",
       "      <th></th>\n",
       "      <th>id</th>\n",
       "      <th>member_id</th>\n",
       "      <th>loan_amnt</th>\n",
       "      <th>funded_amnt</th>\n",
       "      <th>funded_amnt_inv</th>\n",
       "      <th>term</th>\n",
       "      <th>int_rate</th>\n",
       "      <th>installment</th>\n",
       "      <th>annual_inc</th>\n",
       "      <th>dti</th>\n",
       "      <th>delinq_2yrs</th>\n",
       "      <th>inq_last_6mths</th>\n",
       "      <th>open_acc</th>\n",
       "      <th>pub_rec</th>\n",
       "      <th>revol_bal</th>\n",
       "      <th>revol_util</th>\n",
       "      <th>total_acc</th>\n",
       "      <th>out_prncp</th>\n",
       "      <th>out_prncp_inv</th>\n",
       "      <th>total_pymnt</th>\n",
       "      <th>total_pymnt_inv</th>\n",
       "      <th>total_rec_prncp</th>\n",
       "      <th>total_rec_int</th>\n",
       "      <th>total_rec_late_fee</th>\n",
       "      <th>recoveries</th>\n",
       "      <th>collection_recovery_fee</th>\n",
       "      <th>last_pymnt_amnt</th>\n",
       "      <th>policy_code</th>\n",
       "      <th>acc_now_delinq</th>\n",
       "      <th>delinq_amnt</th>\n",
       "      <th>pub_rec_bankruptcies</th>\n",
       "    </tr>\n",
       "  </thead>\n",
       "  <tbody>\n",
       "    <tr>\n",
       "      <th>count</th>\n",
       "      <td>3.715200e+04</td>\n",
       "      <td>3.715200e+04</td>\n",
       "      <td>37152.000000</td>\n",
       "      <td>37152.000000</td>\n",
       "      <td>37152.000000</td>\n",
       "      <td>37152.000000</td>\n",
       "      <td>37152.000000</td>\n",
       "      <td>37152.000000</td>\n",
       "      <td>3.715200e+04</td>\n",
       "      <td>37152.000000</td>\n",
       "      <td>37152.000000</td>\n",
       "      <td>37152.000000</td>\n",
       "      <td>37152.000000</td>\n",
       "      <td>37152.000000</td>\n",
       "      <td>37152.000000</td>\n",
       "      <td>37152.000000</td>\n",
       "      <td>37152.000000</td>\n",
       "      <td>37152.000000</td>\n",
       "      <td>37152.000000</td>\n",
       "      <td>37152.000000</td>\n",
       "      <td>37152.000000</td>\n",
       "      <td>37152.000000</td>\n",
       "      <td>37152.000000</td>\n",
       "      <td>37152.000000</td>\n",
       "      <td>37152.000000</td>\n",
       "      <td>37152.000000</td>\n",
       "      <td>37152.000000</td>\n",
       "      <td>37152.0</td>\n",
       "      <td>37152.0</td>\n",
       "      <td>37152.0</td>\n",
       "      <td>37152.000000</td>\n",
       "    </tr>\n",
       "    <tr>\n",
       "      <th>mean</th>\n",
       "      <td>6.824772e+05</td>\n",
       "      <td>8.495549e+05</td>\n",
       "      <td>11282.064223</td>\n",
       "      <td>11009.697325</td>\n",
       "      <td>10451.558383</td>\n",
       "      <td>42.505168</td>\n",
       "      <td>12.048491</td>\n",
       "      <td>326.070027</td>\n",
       "      <td>6.926637e+04</td>\n",
       "      <td>13.398852</td>\n",
       "      <td>0.147152</td>\n",
       "      <td>0.867813</td>\n",
       "      <td>9.350991</td>\n",
       "      <td>0.053456</td>\n",
       "      <td>13462.501157</td>\n",
       "      <td>49.155173</td>\n",
       "      <td>22.187931</td>\n",
       "      <td>51.533802</td>\n",
       "      <td>51.286307</td>\n",
       "      <td>12269.822920</td>\n",
       "      <td>11671.431092</td>\n",
       "      <td>9886.635191</td>\n",
       "      <td>2289.116639</td>\n",
       "      <td>1.339479</td>\n",
       "      <td>92.731692</td>\n",
       "      <td>11.760063</td>\n",
       "      <td>2720.281175</td>\n",
       "      <td>1.0</td>\n",
       "      <td>0.0</td>\n",
       "      <td>0.0</td>\n",
       "      <td>0.040752</td>\n",
       "    </tr>\n",
       "    <tr>\n",
       "      <th>std</th>\n",
       "      <td>2.107507e+05</td>\n",
       "      <td>2.659951e+05</td>\n",
       "      <td>7418.376794</td>\n",
       "      <td>7153.710011</td>\n",
       "      <td>7098.130897</td>\n",
       "      <td>10.668172</td>\n",
       "      <td>3.715893</td>\n",
       "      <td>207.433510</td>\n",
       "      <td>6.419245e+04</td>\n",
       "      <td>6.653181</td>\n",
       "      <td>0.493791</td>\n",
       "      <td>1.066746</td>\n",
       "      <td>4.392437</td>\n",
       "      <td>0.234551</td>\n",
       "      <td>15745.913092</td>\n",
       "      <td>28.217778</td>\n",
       "      <td>11.382767</td>\n",
       "      <td>376.559089</td>\n",
       "      <td>375.166631</td>\n",
       "      <td>9018.293898</td>\n",
       "      <td>8922.109714</td>\n",
       "      <td>7035.561347</td>\n",
       "      <td>2612.539243</td>\n",
       "      <td>7.233942</td>\n",
       "      <td>680.518659</td>\n",
       "      <td>140.925102</td>\n",
       "      <td>4454.529812</td>\n",
       "      <td>0.0</td>\n",
       "      <td>0.0</td>\n",
       "      <td>0.0</td>\n",
       "      <td>0.198667</td>\n",
       "    </tr>\n",
       "    <tr>\n",
       "      <th>min</th>\n",
       "      <td>5.574200e+04</td>\n",
       "      <td>7.069900e+04</td>\n",
       "      <td>500.000000</td>\n",
       "      <td>500.000000</td>\n",
       "      <td>0.000000</td>\n",
       "      <td>36.000000</td>\n",
       "      <td>5.420000</td>\n",
       "      <td>16.080000</td>\n",
       "      <td>4.000000e+03</td>\n",
       "      <td>0.000000</td>\n",
       "      <td>0.000000</td>\n",
       "      <td>0.000000</td>\n",
       "      <td>2.000000</td>\n",
       "      <td>0.000000</td>\n",
       "      <td>0.000000</td>\n",
       "      <td>0.000000</td>\n",
       "      <td>2.000000</td>\n",
       "      <td>0.000000</td>\n",
       "      <td>0.000000</td>\n",
       "      <td>33.730000</td>\n",
       "      <td>0.000000</td>\n",
       "      <td>0.000000</td>\n",
       "      <td>6.220000</td>\n",
       "      <td>0.000000</td>\n",
       "      <td>0.000000</td>\n",
       "      <td>0.000000</td>\n",
       "      <td>0.000000</td>\n",
       "      <td>1.0</td>\n",
       "      <td>0.0</td>\n",
       "      <td>0.0</td>\n",
       "      <td>0.000000</td>\n",
       "    </tr>\n",
       "    <tr>\n",
       "      <th>25%</th>\n",
       "      <td>5.161545e+05</td>\n",
       "      <td>6.666318e+05</td>\n",
       "      <td>5600.000000</td>\n",
       "      <td>5500.000000</td>\n",
       "      <td>5000.000000</td>\n",
       "      <td>36.000000</td>\n",
       "      <td>9.320000</td>\n",
       "      <td>168.670000</td>\n",
       "      <td>4.160000e+04</td>\n",
       "      <td>8.310000</td>\n",
       "      <td>0.000000</td>\n",
       "      <td>0.000000</td>\n",
       "      <td>6.000000</td>\n",
       "      <td>0.000000</td>\n",
       "      <td>3810.000000</td>\n",
       "      <td>26.000000</td>\n",
       "      <td>14.000000</td>\n",
       "      <td>0.000000</td>\n",
       "      <td>0.000000</td>\n",
       "      <td>5656.389458</td>\n",
       "      <td>5228.572500</td>\n",
       "      <td>4800.000000</td>\n",
       "      <td>676.950000</td>\n",
       "      <td>0.000000</td>\n",
       "      <td>0.000000</td>\n",
       "      <td>0.000000</td>\n",
       "      <td>224.740000</td>\n",
       "      <td>1.0</td>\n",
       "      <td>0.0</td>\n",
       "      <td>0.0</td>\n",
       "      <td>0.000000</td>\n",
       "    </tr>\n",
       "    <tr>\n",
       "      <th>50%</th>\n",
       "      <td>6.643465e+05</td>\n",
       "      <td>8.491980e+05</td>\n",
       "      <td>10000.000000</td>\n",
       "      <td>10000.000000</td>\n",
       "      <td>9000.000000</td>\n",
       "      <td>36.000000</td>\n",
       "      <td>11.860000</td>\n",
       "      <td>283.280000</td>\n",
       "      <td>6.000000e+04</td>\n",
       "      <td>13.500000</td>\n",
       "      <td>0.000000</td>\n",
       "      <td>1.000000</td>\n",
       "      <td>9.000000</td>\n",
       "      <td>0.000000</td>\n",
       "      <td>9005.000000</td>\n",
       "      <td>49.700000</td>\n",
       "      <td>21.000000</td>\n",
       "      <td>0.000000</td>\n",
       "      <td>0.000000</td>\n",
       "      <td>10074.357015</td>\n",
       "      <td>9428.225000</td>\n",
       "      <td>8026.770000</td>\n",
       "      <td>1375.905000</td>\n",
       "      <td>0.000000</td>\n",
       "      <td>0.000000</td>\n",
       "      <td>0.000000</td>\n",
       "      <td>564.360000</td>\n",
       "      <td>1.0</td>\n",
       "      <td>0.0</td>\n",
       "      <td>0.0</td>\n",
       "      <td>0.000000</td>\n",
       "    </tr>\n",
       "    <tr>\n",
       "      <th>75%</th>\n",
       "      <td>8.372630e+05</td>\n",
       "      <td>1.047008e+06</td>\n",
       "      <td>15000.000000</td>\n",
       "      <td>15000.000000</td>\n",
       "      <td>14400.000000</td>\n",
       "      <td>60.000000</td>\n",
       "      <td>14.590000</td>\n",
       "      <td>432.122500</td>\n",
       "      <td>8.300000e+04</td>\n",
       "      <td>18.650000</td>\n",
       "      <td>0.000000</td>\n",
       "      <td>1.000000</td>\n",
       "      <td>12.000000</td>\n",
       "      <td>0.000000</td>\n",
       "      <td>17215.000000</td>\n",
       "      <td>72.600000</td>\n",
       "      <td>29.000000</td>\n",
       "      <td>0.000000</td>\n",
       "      <td>0.000000</td>\n",
       "      <td>16651.622270</td>\n",
       "      <td>15928.490000</td>\n",
       "      <td>13908.970000</td>\n",
       "      <td>2866.592500</td>\n",
       "      <td>0.000000</td>\n",
       "      <td>0.000000</td>\n",
       "      <td>0.000000</td>\n",
       "      <td>3412.667500</td>\n",
       "      <td>1.0</td>\n",
       "      <td>0.0</td>\n",
       "      <td>0.0</td>\n",
       "      <td>0.000000</td>\n",
       "    </tr>\n",
       "    <tr>\n",
       "      <th>max</th>\n",
       "      <td>1.077430e+06</td>\n",
       "      <td>1.314167e+06</td>\n",
       "      <td>35000.000000</td>\n",
       "      <td>35000.000000</td>\n",
       "      <td>35000.000000</td>\n",
       "      <td>60.000000</td>\n",
       "      <td>24.400000</td>\n",
       "      <td>1305.190000</td>\n",
       "      <td>6.000000e+06</td>\n",
       "      <td>29.990000</td>\n",
       "      <td>11.000000</td>\n",
       "      <td>8.000000</td>\n",
       "      <td>44.000000</td>\n",
       "      <td>4.000000</td>\n",
       "      <td>149588.000000</td>\n",
       "      <td>99.900000</td>\n",
       "      <td>90.000000</td>\n",
       "      <td>6311.470000</td>\n",
       "      <td>6307.370000</td>\n",
       "      <td>58563.679930</td>\n",
       "      <td>58563.680000</td>\n",
       "      <td>35000.020000</td>\n",
       "      <td>23563.680000</td>\n",
       "      <td>180.200000</td>\n",
       "      <td>29623.350000</td>\n",
       "      <td>7002.190000</td>\n",
       "      <td>36115.200000</td>\n",
       "      <td>1.0</td>\n",
       "      <td>0.0</td>\n",
       "      <td>0.0</td>\n",
       "      <td>2.000000</td>\n",
       "    </tr>\n",
       "  </tbody>\n",
       "</table>\n",
       "</div>"
      ],
      "text/plain": [
       "                 id     member_id     loan_amnt   funded_amnt  \\\n",
       "count  3.715200e+04  3.715200e+04  37152.000000  37152.000000   \n",
       "mean   6.824772e+05  8.495549e+05  11282.064223  11009.697325   \n",
       "std    2.107507e+05  2.659951e+05   7418.376794   7153.710011   \n",
       "min    5.574200e+04  7.069900e+04    500.000000    500.000000   \n",
       "25%    5.161545e+05  6.666318e+05   5600.000000   5500.000000   \n",
       "50%    6.643465e+05  8.491980e+05  10000.000000  10000.000000   \n",
       "75%    8.372630e+05  1.047008e+06  15000.000000  15000.000000   \n",
       "max    1.077430e+06  1.314167e+06  35000.000000  35000.000000   \n",
       "\n",
       "       funded_amnt_inv          term      int_rate   installment  \\\n",
       "count     37152.000000  37152.000000  37152.000000  37152.000000   \n",
       "mean      10451.558383     42.505168     12.048491    326.070027   \n",
       "std        7098.130897     10.668172      3.715893    207.433510   \n",
       "min           0.000000     36.000000      5.420000     16.080000   \n",
       "25%        5000.000000     36.000000      9.320000    168.670000   \n",
       "50%        9000.000000     36.000000     11.860000    283.280000   \n",
       "75%       14400.000000     60.000000     14.590000    432.122500   \n",
       "max       35000.000000     60.000000     24.400000   1305.190000   \n",
       "\n",
       "         annual_inc           dti   delinq_2yrs  inq_last_6mths      open_acc  \\\n",
       "count  3.715200e+04  37152.000000  37152.000000    37152.000000  37152.000000   \n",
       "mean   6.926637e+04     13.398852      0.147152        0.867813      9.350991   \n",
       "std    6.419245e+04      6.653181      0.493791        1.066746      4.392437   \n",
       "min    4.000000e+03      0.000000      0.000000        0.000000      2.000000   \n",
       "25%    4.160000e+04      8.310000      0.000000        0.000000      6.000000   \n",
       "50%    6.000000e+04     13.500000      0.000000        1.000000      9.000000   \n",
       "75%    8.300000e+04     18.650000      0.000000        1.000000     12.000000   \n",
       "max    6.000000e+06     29.990000     11.000000        8.000000     44.000000   \n",
       "\n",
       "            pub_rec      revol_bal    revol_util     total_acc     out_prncp  \\\n",
       "count  37152.000000   37152.000000  37152.000000  37152.000000  37152.000000   \n",
       "mean       0.053456   13462.501157     49.155173     22.187931     51.533802   \n",
       "std        0.234551   15745.913092     28.217778     11.382767    376.559089   \n",
       "min        0.000000       0.000000      0.000000      2.000000      0.000000   \n",
       "25%        0.000000    3810.000000     26.000000     14.000000      0.000000   \n",
       "50%        0.000000    9005.000000     49.700000     21.000000      0.000000   \n",
       "75%        0.000000   17215.000000     72.600000     29.000000      0.000000   \n",
       "max        4.000000  149588.000000     99.900000     90.000000   6311.470000   \n",
       "\n",
       "       out_prncp_inv   total_pymnt  total_pymnt_inv  total_rec_prncp  \\\n",
       "count   37152.000000  37152.000000     37152.000000     37152.000000   \n",
       "mean       51.286307  12269.822920     11671.431092      9886.635191   \n",
       "std       375.166631   9018.293898      8922.109714      7035.561347   \n",
       "min         0.000000     33.730000         0.000000         0.000000   \n",
       "25%         0.000000   5656.389458      5228.572500      4800.000000   \n",
       "50%         0.000000  10074.357015      9428.225000      8026.770000   \n",
       "75%         0.000000  16651.622270     15928.490000     13908.970000   \n",
       "max      6307.370000  58563.679930     58563.680000     35000.020000   \n",
       "\n",
       "       total_rec_int  total_rec_late_fee    recoveries  \\\n",
       "count   37152.000000        37152.000000  37152.000000   \n",
       "mean     2289.116639            1.339479     92.731692   \n",
       "std      2612.539243            7.233942    680.518659   \n",
       "min         6.220000            0.000000      0.000000   \n",
       "25%       676.950000            0.000000      0.000000   \n",
       "50%      1375.905000            0.000000      0.000000   \n",
       "75%      2866.592500            0.000000      0.000000   \n",
       "max     23563.680000          180.200000  29623.350000   \n",
       "\n",
       "       collection_recovery_fee  last_pymnt_amnt  policy_code  acc_now_delinq  \\\n",
       "count             37152.000000     37152.000000      37152.0         37152.0   \n",
       "mean                 11.760063      2720.281175          1.0             0.0   \n",
       "std                 140.925102      4454.529812          0.0             0.0   \n",
       "min                   0.000000         0.000000          1.0             0.0   \n",
       "25%                   0.000000       224.740000          1.0             0.0   \n",
       "50%                   0.000000       564.360000          1.0             0.0   \n",
       "75%                   0.000000      3412.667500          1.0             0.0   \n",
       "max                7002.190000     36115.200000          1.0             0.0   \n",
       "\n",
       "       delinq_amnt  pub_rec_bankruptcies  \n",
       "count      37152.0          37152.000000  \n",
       "mean           0.0              0.040752  \n",
       "std            0.0              0.198667  \n",
       "min            0.0              0.000000  \n",
       "25%            0.0              0.000000  \n",
       "50%            0.0              0.000000  \n",
       "75%            0.0              0.000000  \n",
       "max            0.0              2.000000  "
      ]
     },
     "execution_count": 133,
     "metadata": {},
     "output_type": "execute_result"
    }
   ],
   "source": [
    "pd.options.display.max_columns = 50\n",
    "dfn.describe(include = 'all')"
   ]
  },
  {
   "cell_type": "code",
   "execution_count": 141,
   "id": "8d8a0d1d-818d-42aa-a4e4-819fa63af9d3",
   "metadata": {},
   "outputs": [
    {
     "data": {
      "text/plain": [
       "<Axes: ylabel='loan_amnt'>"
      ]
     },
     "execution_count": 141,
     "metadata": {},
     "output_type": "execute_result"
    },
    {
     "data": {
      "image/png": "[encoded data removed]",
      "text/plain": [
       "<Figure size 640x480 with 1 Axes>"
      ]
     },
     "metadata": {},
     "output_type": "display_data"
    }
   ],
   "source": [
    "sns.boxplot(data=dfn, y= 'loan_amnt', color='green')"
   ]
  },
  {
   "cell_type": "code",
   "execution_count": 142,
   "id": "06e61a34-544b-498c-a308-b8342b97e86c",
   "metadata": {},
   "outputs": [
    {
     "data": {
      "text/plain": [
       "<Axes: ylabel='funded_amnt'>"
      ]
     },
     "execution_count": 142,
     "metadata": {},
     "output_type": "execute_result"
    },
    {
     "data": {
      "image/png": "[encoded data removed]",
      "text/plain": [
       "<Figure size 640x480 with 1 Axes>"
      ]
     },
     "metadata": {},
     "output_type": "display_data"
    }
   ],
   "source": [
    "sns.boxplot(data=dfn, y= 'funded_amnt', color='blue')"
   ]
  },
  {
   "cell_type": "code",
   "execution_count": 143,
   "id": "2d6239fe-54b2-4c59-8fc9-b4c12bd882eb",
   "metadata": {},
   "outputs": [
    {
     "data": {
      "text/plain": [
       "<Axes: ylabel='term'>"
      ]
     },
     "execution_count": 143,
     "metadata": {},
     "output_type": "execute_result"
    },
    {
     "data": {
      "image/png": "[encoded data removed]",
      "text/plain": [
       "<Figure size 640x480 with 1 Axes>"
      ]
     },
     "metadata": {},
     "output_type": "display_data"
    }
   ],
   "source": [
    "sns.boxplot(data=dfn, y= 'term', color='green')"
   ]
  },
  {
   "cell_type": "code",
   "execution_count": 144,
   "id": "eee4376b-c954-4132-8875-0781188d4f8c",
   "metadata": {},
   "outputs": [
    {
     "data": {
      "text/plain": [
       "array([60, 36], dtype=int64)"
      ]
     },
     "execution_count": 144,
     "metadata": {},
     "output_type": "execute_result"
    }
   ],
   "source": [
    "df['term'].unique()"
   ]
  },
  {
   "cell_type": "markdown",
   "id": "4804da55-3b8a-46b5-be6d-68f9cd759525",
   "metadata": {},
   "source": [
    "### <span style=\"color:green\"> Variable \"term\" is more of a categorical variable."
   ]
  },
  {
   "cell_type": "code",
   "execution_count": 147,
   "id": "e4ee95ff-d997-4277-a69e-d0a84b0b9acc",
   "metadata": {},
   "outputs": [],
   "source": [
    "df['term']=df['term'].astype('object')"
   ]
  },
  {
   "cell_type": "code",
   "execution_count": 148,
   "id": "ed04ad2d-07a0-4bef-bf3f-f4e0f8a4c990",
   "metadata": {},
   "outputs": [
    {
     "name": "stdout",
     "output_type": "stream",
     "text": [
      "<class 'pandas.core.series.Series'>\n",
      "Index: 37152 entries, 1 to 39716\n",
      "Series name: term\n",
      "Non-Null Count  Dtype \n",
      "--------------  ----- \n",
      "37152 non-null  object\n",
      "dtypes: object(1)\n",
      "memory usage: 1.6+ MB\n"
     ]
    }
   ],
   "source": [
    "df['term'].info()"
   ]
  },
  {
   "cell_type": "code",
   "execution_count": 149,
   "id": "ddd4aed0-716f-47f0-b382-2b4de5c25911",
   "metadata": {},
   "outputs": [],
   "source": [
    "dfn = df.select_dtypes(include=[np.number])\n",
    "dfc = df.select_dtypes(exclude=[np.number])"
   ]
  },
  {
   "cell_type": "code",
   "execution_count": 150,
   "id": "a32af177-bf06-4c4f-9954-8e8f8e863080",
   "metadata": {},
   "outputs": [
    {
     "name": "stdout",
     "output_type": "stream",
     "text": [
      "<class 'pandas.core.frame.DataFrame'>\n",
      "Index: 37152 entries, 1 to 39716\n",
      "Data columns (total 30 columns):\n",
      " #   Column                   Non-Null Count  Dtype  \n",
      "---  ------                   --------------  -----  \n",
      " 0   id                       37152 non-null  int64  \n",
      " 1   member_id                37152 non-null  int64  \n",
      " 2   loan_amnt                37152 non-null  int64  \n",
      " 3   funded_amnt              37152 non-null  int64  \n",
      " 4   funded_amnt_inv          37152 non-null  float64\n",
      " 5   int_rate                 37152 non-null  float64\n",
      " 6   installment              37152 non-null  float64\n",
      " 7   annual_inc               37152 non-null  float64\n",
      " 8   dti                      37152 non-null  float64\n",
      " 9   delinq_2yrs              37152 non-null  int64  \n",
      " 10  inq_last_6mths           37152 non-null  int64  \n",
      " 11  open_acc                 37152 non-null  int64  \n",
      " 12  pub_rec                  37152 non-null  int64  \n",
      " 13  revol_bal                37152 non-null  int64  \n",
      " 14  revol_util               37152 non-null  float64\n",
      " 15  total_acc                37152 non-null  int64  \n",
      " 16  out_prncp                37152 non-null  float64\n",
      " 17  out_prncp_inv            37152 non-null  float64\n",
      " 18  total_pymnt              37152 non-null  float64\n",
      " 19  total_pymnt_inv          37152 non-null  float64\n",
      " 20  total_rec_prncp          37152 non-null  float64\n",
      " 21  total_rec_int            37152 non-null  float64\n",
      " 22  total_rec_late_fee       37152 non-null  float64\n",
      " 23  recoveries               37152 non-null  float64\n",
      " 24  collection_recovery_fee  37152 non-null  float64\n",
      " 25  last_pymnt_amnt          37152 non-null  float64\n",
      " 26  policy_code              37152 non-null  int64  \n",
      " 27  acc_now_delinq           37152 non-null  int64  \n",
      " 28  delinq_amnt              37152 non-null  int64  \n",
      " 29  pub_rec_bankruptcies     37152 non-null  float64\n",
      "dtypes: float64(17), int64(13)\n",
      "memory usage: 9.8 MB\n"
     ]
    }
   ],
   "source": [
    "dfn.info()"
   ]
  },
  {
   "cell_type": "code",
   "execution_count": 151,
   "id": "62ae0500-3849-41f2-a250-51e4120e3480",
   "metadata": {},
   "outputs": [
    {
     "data": {
      "text/plain": [
       "<Axes: ylabel='int_rate'>"
      ]
     },
     "execution_count": 151,
     "metadata": {},
     "output_type": "execute_result"
    },
    {
     "data": {
      "image/png": "[encoded data removed]",
      "text/plain": [
       "<Figure size 640x480 with 1 Axes>"
      ]
     },
     "metadata": {},
     "output_type": "display_data"
    }
   ],
   "source": [
    "sns.boxplot(data=dfn, y= 'int_rate', color='pink')"
   ]
  },
  {
   "cell_type": "code",
   "execution_count": 153,
   "id": "be92cc70-8518-433f-824e-e7f683034164",
   "metadata": {},
   "outputs": [
    {
     "data": {
      "text/plain": [
       "<Axes: ylabel='annual_inc'>"
      ]
     },
     "execution_count": 153,
     "metadata": {},
     "output_type": "execute_result"
    },
    {
     "data": {
      "image/png": "[encoded data removed]",
      "text/plain": [
       "<Figure size 640x480 with 1 Axes>"
      ]
     },
     "metadata": {},
     "output_type": "display_data"
    }
   ],
   "source": [
    "sns.boxplot(data=dfn, y= 'annual_inc', color='blue')"
   ]
  },
  {
   "cell_type": "markdown",
   "id": "6e5a7dc7-d851-4153-b713-873fc4f15688",
   "metadata": {},
   "source": [
    "### <span style=\"color:green\"> Outliers are present in variable \"annual_inc\". We will apply IQR method to find them."
   ]
  },
  {
   "cell_type": "code",
   "execution_count": 158,
   "id": "dbf50ef6-0440-45cc-87f8-13d028624adb",
   "metadata": {},
   "outputs": [
    {
     "name": "stdout",
     "output_type": "stream",
     "text": [
      "41600.0\n",
      "83000.0\n",
      "41400.0\n"
     ]
    }
   ],
   "source": [
    "    t25 =  df['annual_inc'].quantile(0.25)\n",
    "    t75 =  df['annual_inc'].quantile(0.75)\n",
    "    iqr = t75 - t25\n",
    "    \n",
    "    print(t25)\n",
    "    print(t75)\n",
    "    print(iqr)"
   ]
  },
  {
   "cell_type": "code",
   "execution_count": 159,
   "id": "a2da2a2b-b88a-410f-95fe-8887ae49b3df",
   "metadata": {},
   "outputs": [
    {
     "name": "stdout",
     "output_type": "stream",
     "text": [
      "-20500.0\n",
      "145100.0\n"
     ]
    }
   ],
   "source": [
    "lr = t25 - (1.5 * iqr) # Lower Range\n",
    "ur = t75 + (1.5 * iqr) # Upper range\n",
    "\n",
    "print(lr)\n",
    "print(ur)"
   ]
  },
  {
   "cell_type": "code",
   "execution_count": 161,
   "id": "82f5a4b9-1a60-45bc-86ec-69c08dfba09e",
   "metadata": {},
   "outputs": [
    {
     "data": {
      "text/plain": [
       "1665"
      ]
     },
     "execution_count": 161,
     "metadata": {},
     "output_type": "execute_result"
    }
   ],
   "source": [
    "df[df['annual_inc'] > ur]['annual_inc'].count()"
   ]
  },
  {
   "cell_type": "code",
   "execution_count": 162,
   "id": "479ab502-0994-4469-80a8-b14379f936c5",
   "metadata": {},
   "outputs": [
    {
     "data": {
      "text/plain": [
       "0"
      ]
     },
     "execution_count": 162,
     "metadata": {},
     "output_type": "execute_result"
    }
   ],
   "source": [
    "df[df['annual_inc'] < lr]['annual_inc'].count()"
   ]
  },
  {
   "cell_type": "markdown",
   "id": "81b1352e-6d3f-41d1-b533-230753f54602",
   "metadata": {},
   "source": [
    "### <span style=\"color:green\"> We will delete the outliers for this column"
   ]
  },
  {
   "cell_type": "code",
   "execution_count": 164,
   "id": "94619523-0a57-4568-a3f6-3e83d173aabf",
   "metadata": {},
   "outputs": [],
   "source": [
    "df = df[df['annual_inc'] < ur]"
   ]
  },
  {
   "cell_type": "code",
   "execution_count": 165,
   "id": "f8874074-e07c-44d9-937b-132d6af9f5d2",
   "metadata": {},
   "outputs": [
    {
     "name": "stdout",
     "output_type": "stream",
     "text": [
      "<class 'pandas.core.frame.DataFrame'>\n",
      "Index: 35487 entries, 1 to 39716\n",
      "Data columns (total 54 columns):\n",
      " #   Column                    Non-Null Count  Dtype  \n",
      "---  ------                    --------------  -----  \n",
      " 0   id                        35487 non-null  int64  \n",
      " 1   member_id                 35487 non-null  int64  \n",
      " 2   loan_amnt                 35487 non-null  int64  \n",
      " 3   funded_amnt               35487 non-null  int64  \n",
      " 4   funded_amnt_inv           35487 non-null  float64\n",
      " 5   term                      35487 non-null  object \n",
      " 6   int_rate                  35487 non-null  float64\n",
      " 7   installment               35487 non-null  float64\n",
      " 8   grade                     35487 non-null  object \n",
      " 9   sub_grade                 35487 non-null  object \n",
      " 10  emp_title                 35487 non-null  object \n",
      " 11  emp_length                35487 non-null  object \n",
      " 12  home_ownership            35487 non-null  object \n",
      " 13  annual_inc                35487 non-null  float64\n",
      " 14  verification_status       35487 non-null  object \n",
      " 15  issued                    35487 non-null  object \n",
      " 16  loan_status               35487 non-null  object \n",
      " 17  url                       35487 non-null  object \n",
      " 18  purpose                   35487 non-null  object \n",
      " 19  zip_code                  35487 non-null  object \n",
      " 20  addr_state                35487 non-null  object \n",
      " 21  dti                       35487 non-null  float64\n",
      " 22  delinq_2yrs               35487 non-null  int64  \n",
      " 23  earliest_cr_line          35487 non-null  object \n",
      " 24  inq_last_6mths            35487 non-null  int64  \n",
      " 25  open_acc                  35487 non-null  int64  \n",
      " 26  pub_rec                   35487 non-null  int64  \n",
      " 27  revol_bal                 35487 non-null  int64  \n",
      " 28  revol_util                35487 non-null  float64\n",
      " 29  total_acc                 35487 non-null  int64  \n",
      " 30  out_prncp                 35487 non-null  float64\n",
      " 31  out_prncp_inv             35487 non-null  float64\n",
      " 32  total_pymnt               35487 non-null  float64\n",
      " 33  total_pymnt_inv           35487 non-null  float64\n",
      " 34  total_rec_prncp           35487 non-null  float64\n",
      " 35  total_rec_int             35487 non-null  float64\n",
      " 36  total_rec_late_fee        35487 non-null  float64\n",
      " 37  recoveries                35487 non-null  float64\n",
      " 38  collection_recovery_fee   35487 non-null  float64\n",
      " 39  last_pymnt_d              35487 non-null  object \n",
      " 40  last_pymnt_amnt           35487 non-null  float64\n",
      " 41  last_credit_pull_d        35487 non-null  object \n",
      " 42  policy_code               35487 non-null  int64  \n",
      " 43  acc_now_delinq            35487 non-null  int64  \n",
      " 44  delinq_amnt               35487 non-null  int64  \n",
      " 45  pub_rec_bankruptcies      35487 non-null  float64\n",
      " 46  issued_month              35487 non-null  object \n",
      " 47  issued_year               35487 non-null  object \n",
      " 48  earliest_cr_line_month    35487 non-null  object \n",
      " 49  earliest_cr_line_year     35487 non-null  object \n",
      " 50  last_pymnt_d_month        35487 non-null  object \n",
      " 51  last_pymnt_d_year         35487 non-null  object \n",
      " 52  last_credit_pull_d_month  35487 non-null  object \n",
      " 53  last_credit_pull_d_year   35487 non-null  object \n",
      "dtypes: float64(17), int64(13), object(24)\n",
      "memory usage: 14.9+ MB\n"
     ]
    }
   ],
   "source": [
    "df.info()"
   ]
  },
  {
   "cell_type": "code",
   "execution_count": 167,
   "id": "842562e2-4758-44e1-8f8e-b9e8de1433e3",
   "metadata": {},
   "outputs": [],
   "source": [
    "dfn = df.select_dtypes(include=[np.number])\n",
    "dfc = df.select_dtypes(exclude=[np.number])"
   ]
  },
  {
   "cell_type": "code",
   "execution_count": 168,
   "id": "c8c607a6-f504-491f-8ec3-3db1aac83fcc",
   "metadata": {},
   "outputs": [
    {
     "data": {
      "text/plain": [
       "<Axes: ylabel='annual_inc'>"
      ]
     },
     "execution_count": 168,
     "metadata": {},
     "output_type": "execute_result"
    },
    {
     "data": {
      "image/png": "[encoded data removed]",
      "text/plain": [
       "<Figure size 640x480 with 1 Axes>"
      ]
     },
     "metadata": {},
     "output_type": "display_data"
    }
   ],
   "source": [
    "sns.boxplot(data=dfn, y= 'annual_inc', color='blue')"
   ]
  },
  {
   "cell_type": "markdown",
   "id": "19ce5e71-c51e-487e-a211-239b674c1994",
   "metadata": {},
   "source": [
    "### <span style=\"color:green\">  This looks ok now"
   ]
  },
  {
   "cell_type": "code",
   "execution_count": 169,
   "id": "f008dc4f-7e0b-448d-a17c-15160567af70",
   "metadata": {},
   "outputs": [
    {
     "data": {
      "text/plain": [
       "<Axes: ylabel='installment'>"
      ]
     },
     "execution_count": 169,
     "metadata": {},
     "output_type": "execute_result"
    },
    {
     "data": {
      "image/png": "[encoded data removed]",
      "text/plain": [
       "<Figure size 640x480 with 1 Axes>"
      ]
     },
     "metadata": {},
     "output_type": "display_data"
    }
   ],
   "source": [
    "sns.boxplot(data=dfn, y= 'installment', color='green')"
   ]
  },
  {
   "cell_type": "code",
   "execution_count": 170,
   "id": "d515cace-3770-4f4a-b967-f403cff1328b",
   "metadata": {},
   "outputs": [
    {
     "data": {
      "text/plain": [
       "<Axes: ylabel='dti'>"
      ]
     },
     "execution_count": 170,
     "metadata": {},
     "output_type": "execute_result"
    },
    {
     "data": {
      "image/png": "[encoded data removed]",
      "text/plain": [
       "<Figure size 640x480 with 1 Axes>"
      ]
     },
     "metadata": {},
     "output_type": "display_data"
    }
   ],
   "source": [
    "sns.boxplot(data=dfn, y= 'dti', color='pink')"
   ]
  },
  {
   "cell_type": "code",
   "execution_count": 171,
   "id": "021606ca-dfc0-4866-b955-71004a0a4570",
   "metadata": {},
   "outputs": [
    {
     "data": {
      "text/plain": [
       "<Axes: ylabel='delinq_2yrs'>"
      ]
     },
     "execution_count": 171,
     "metadata": {},
     "output_type": "execute_result"
    },
    {
     "data": {
      "image/png": "[encoded data removed]",
      "text/plain": [
       "<Figure size 640x480 with 1 Axes>"
      ]
     },
     "metadata": {},
     "output_type": "display_data"
    }
   ],
   "source": [
    "sns.boxplot(data=dfn, y= 'delinq_2yrs', color='blue')"
   ]
  },
  {
   "cell_type": "markdown",
   "id": "2c2dd9b3-e53e-4dae-8492-fcb6cbe6e184",
   "metadata": {},
   "source": [
    "### <span style=\"color:green\">  The column 'delinq_2yrs' has a lot of outliers too. We will treat it the same way."
   ]
  },
  {
   "cell_type": "markdown",
   "id": "a504988d-3581-40ab-a17a-a2c6ab470112",
   "metadata": {},
   "source": [
    "### <span style=\"color:green\">  This is getting frequent. Let's define functions for the same now."
   ]
  },
  {
   "cell_type": "code",
   "execution_count": 199,
   "id": "33cb46e5-a953-45de-8df8-114e574281ca",
   "metadata": {},
   "outputs": [],
   "source": [
    "def find_iqr(df,col):\n",
    "    try:\n",
    "        t25 =  df[col].quantile(0.25)\n",
    "        t75 =  df[col].quantile(0.75)\n",
    "        iqr = t75 - t25\n",
    "        \n",
    "        print(f'25th Percentile of {col} is {t25}')\n",
    "        print(f'75th Percentile of {col} is {t75}')\n",
    "        print(f'IQR of {col} is {iqr}')\n",
    "        \n",
    "        \n",
    "        lr = t25 - (1.5 * iqr) # Lower Range\n",
    "        ur = t75 + (1.5 * iqr) # Upper range\n",
    "        \n",
    "        print(f'Lower Range for {col} {lr}')\n",
    "        print(f'Upper Range for {col} {ur}')\n",
    "        \n",
    "        return [True, lr, ur]\n",
    "    except Exception as e:\n",
    "        print(f'Some Error {e}')\n",
    "        return False\n"
   ]
  },
  {
   "cell_type": "code",
   "execution_count": 201,
   "id": "12163dab-46ef-481b-86b2-d95e411393ac",
   "metadata": {},
   "outputs": [
    {
     "name": "stdout",
     "output_type": "stream",
     "text": [
      "25th Percentile of delinq_2yrs is 0.0\n",
      "75th Percentile of delinq_2yrs is 0.0\n",
      "IQR of delinq_2yrs is 0.0\n",
      "Lower Range for delinq_2yrs 0.0\n",
      "Upper Range for delinq_2yrs 0.0\n"
     ]
    }
   ],
   "source": [
    "l = find_iqr(df,'delinq_2yrs')"
   ]
  },
  {
   "cell_type": "code",
   "execution_count": 202,
   "id": "a44448f4-5ec0-431e-b8eb-d081bece1190",
   "metadata": {},
   "outputs": [
    {
     "data": {
      "text/plain": [
       "[True, 0.0, 0.0]"
      ]
     },
     "execution_count": 202,
     "metadata": {},
     "output_type": "execute_result"
    }
   ],
   "source": [
    "l"
   ]
  },
  {
   "cell_type": "code",
   "execution_count": 178,
   "id": "035711b9-1635-4ec1-8515-5e4da03d9300",
   "metadata": {},
   "outputs": [
    {
     "data": {
      "text/plain": [
       "count    35487.000000\n",
       "mean         0.145462\n",
       "std          0.491806\n",
       "min          0.000000\n",
       "25%          0.000000\n",
       "50%          0.000000\n",
       "75%          0.000000\n",
       "max         11.000000\n",
       "Name: delinq_2yrs, dtype: float64"
      ]
     },
     "execution_count": 178,
     "metadata": {},
     "output_type": "execute_result"
    }
   ],
   "source": [
    "df['delinq_2yrs'].describe()"
   ]
  },
  {
   "cell_type": "code",
   "execution_count": 179,
   "id": "7a7fcc85-e842-470a-acb4-e0c883b98bed",
   "metadata": {},
   "outputs": [
    {
     "data": {
      "text/plain": [
       "array([ 0,  2,  3,  1,  4,  6,  5,  8,  7,  9, 11], dtype=int64)"
      ]
     },
     "execution_count": 179,
     "metadata": {},
     "output_type": "execute_result"
    }
   ],
   "source": [
    "df['delinq_2yrs'].unique()"
   ]
  },
  {
   "cell_type": "markdown",
   "id": "46aac3f2-1e02-4058-8133-e59c8e97d500",
   "metadata": {},
   "source": [
    "### <span style=\"color:green\">  This is more of a categorical variable. Let's change the dtype"
   ]
  },
  {
   "cell_type": "code",
   "execution_count": 181,
   "id": "5fbb55bb-e81e-4131-bd9e-8912bd90d1b1",
   "metadata": {},
   "outputs": [],
   "source": [
    "df['delinq_2yrs'] = df['delinq_2yrs'].astype('object')"
   ]
  },
  {
   "cell_type": "code",
   "execution_count": 182,
   "id": "bdd036b5-4ebb-4113-b7f2-d5cca318f691",
   "metadata": {},
   "outputs": [],
   "source": [
    "dfn = df.select_dtypes(include=[np.number])\n",
    "dfc = df.select_dtypes(exclude=[np.number])"
   ]
  },
  {
   "cell_type": "code",
   "execution_count": 184,
   "id": "47d9ddbd-a2fd-4308-856c-b2bde09401e8",
   "metadata": {},
   "outputs": [
    {
     "data": {
      "text/html": [
       "<div>\n",
       "<style scoped>\n",
       "    .dataframe tbody tr th:only-of-type {\n",
       "        vertical-align: middle;\n",
       "    }\n",
       "\n",
       "    .dataframe tbody tr th {\n",
       "        vertical-align: top;\n",
       "    }\n",
       "\n",
       "    .dataframe thead th {\n",
       "        text-align: right;\n",
       "    }\n",
       "</style>\n",
       "<table border=\"1\" class=\"dataframe\">\n",
       "  <thead>\n",
       "    <tr style=\"text-align: right;\">\n",
       "      <th></th>\n",
       "      <th>id</th>\n",
       "      <th>member_id</th>\n",
       "      <th>loan_amnt</th>\n",
       "      <th>funded_amnt</th>\n",
       "      <th>funded_amnt_inv</th>\n",
       "      <th>int_rate</th>\n",
       "      <th>installment</th>\n",
       "      <th>annual_inc</th>\n",
       "      <th>dti</th>\n",
       "      <th>inq_last_6mths</th>\n",
       "      <th>open_acc</th>\n",
       "      <th>pub_rec</th>\n",
       "      <th>revol_bal</th>\n",
       "      <th>revol_util</th>\n",
       "      <th>total_acc</th>\n",
       "      <th>out_prncp</th>\n",
       "      <th>out_prncp_inv</th>\n",
       "      <th>total_pymnt</th>\n",
       "      <th>total_pymnt_inv</th>\n",
       "      <th>total_rec_prncp</th>\n",
       "      <th>total_rec_int</th>\n",
       "      <th>total_rec_late_fee</th>\n",
       "      <th>recoveries</th>\n",
       "      <th>collection_recovery_fee</th>\n",
       "      <th>last_pymnt_amnt</th>\n",
       "      <th>policy_code</th>\n",
       "      <th>acc_now_delinq</th>\n",
       "      <th>delinq_amnt</th>\n",
       "      <th>pub_rec_bankruptcies</th>\n",
       "    </tr>\n",
       "  </thead>\n",
       "  <tbody>\n",
       "    <tr>\n",
       "      <th>count</th>\n",
       "      <td>3.548700e+04</td>\n",
       "      <td>3.548700e+04</td>\n",
       "      <td>35487.000000</td>\n",
       "      <td>35487.000000</td>\n",
       "      <td>35487.000000</td>\n",
       "      <td>35487.000000</td>\n",
       "      <td>35487.000000</td>\n",
       "      <td>35487.000000</td>\n",
       "      <td>35487.000000</td>\n",
       "      <td>35487.000000</td>\n",
       "      <td>35487.000000</td>\n",
       "      <td>35487.000000</td>\n",
       "      <td>35487.000000</td>\n",
       "      <td>35487.000000</td>\n",
       "      <td>35487.000000</td>\n",
       "      <td>35487.000000</td>\n",
       "      <td>35487.000000</td>\n",
       "      <td>35487.000000</td>\n",
       "      <td>35487.000000</td>\n",
       "      <td>35487.000000</td>\n",
       "      <td>35487.000000</td>\n",
       "      <td>35487.000000</td>\n",
       "      <td>35487.000000</td>\n",
       "      <td>35487.000000</td>\n",
       "      <td>35487.000000</td>\n",
       "      <td>35487.0</td>\n",
       "      <td>35487.0</td>\n",
       "      <td>35487.0</td>\n",
       "      <td>35487.000000</td>\n",
       "    </tr>\n",
       "    <tr>\n",
       "      <th>mean</th>\n",
       "      <td>6.819981e+05</td>\n",
       "      <td>8.490261e+05</td>\n",
       "      <td>10956.692592</td>\n",
       "      <td>10700.578381</td>\n",
       "      <td>10159.846992</td>\n",
       "      <td>12.001569</td>\n",
       "      <td>316.853678</td>\n",
       "      <td>61915.610897</td>\n",
       "      <td>13.560413</td>\n",
       "      <td>0.860794</td>\n",
       "      <td>9.250402</td>\n",
       "      <td>0.054583</td>\n",
       "      <td>12558.704962</td>\n",
       "      <td>49.069229</td>\n",
       "      <td>21.810748</td>\n",
       "      <td>48.880743</td>\n",
       "      <td>48.642948</td>\n",
       "      <td>11886.001404</td>\n",
       "      <td>11307.832389</td>\n",
       "      <td>9590.258744</td>\n",
       "      <td>2204.613478</td>\n",
       "      <td>1.315239</td>\n",
       "      <td>89.814024</td>\n",
       "      <td>11.144419</td>\n",
       "      <td>2624.916552</td>\n",
       "      <td>1.0</td>\n",
       "      <td>0.0</td>\n",
       "      <td>0.0</td>\n",
       "      <td>0.041649</td>\n",
       "    </tr>\n",
       "    <tr>\n",
       "      <th>std</th>\n",
       "      <td>2.107274e+05</td>\n",
       "      <td>2.659365e+05</td>\n",
       "      <td>7160.075633</td>\n",
       "      <td>6906.381040</td>\n",
       "      <td>6849.039620</td>\n",
       "      <td>3.689475</td>\n",
       "      <td>199.626068</td>\n",
       "      <td>27973.969123</td>\n",
       "      <td>6.641329</td>\n",
       "      <td>1.060402</td>\n",
       "      <td>4.346413</td>\n",
       "      <td>0.236527</td>\n",
       "      <td>13792.251157</td>\n",
       "      <td>28.151912</td>\n",
       "      <td>11.209400</td>\n",
       "      <td>362.019843</td>\n",
       "      <td>360.668453</td>\n",
       "      <td>8667.977381</td>\n",
       "      <td>8573.302502</td>\n",
       "      <td>6774.613561</td>\n",
       "      <td>2502.212507</td>\n",
       "      <td>7.129077</td>\n",
       "      <td>660.640863</td>\n",
       "      <td>134.343059</td>\n",
       "      <td>4298.429672</td>\n",
       "      <td>0.0</td>\n",
       "      <td>0.0</td>\n",
       "      <td>0.0</td>\n",
       "      <td>0.200633</td>\n",
       "    </tr>\n",
       "    <tr>\n",
       "      <th>min</th>\n",
       "      <td>5.574200e+04</td>\n",
       "      <td>7.472400e+04</td>\n",
       "      <td>500.000000</td>\n",
       "      <td>500.000000</td>\n",
       "      <td>0.000000</td>\n",
       "      <td>5.420000</td>\n",
       "      <td>16.080000</td>\n",
       "      <td>4000.000000</td>\n",
       "      <td>0.000000</td>\n",
       "      <td>0.000000</td>\n",
       "      <td>2.000000</td>\n",
       "      <td>0.000000</td>\n",
       "      <td>0.000000</td>\n",
       "      <td>0.000000</td>\n",
       "      <td>2.000000</td>\n",
       "      <td>0.000000</td>\n",
       "      <td>0.000000</td>\n",
       "      <td>33.730000</td>\n",
       "      <td>0.000000</td>\n",
       "      <td>0.000000</td>\n",
       "      <td>6.220000</td>\n",
       "      <td>0.000000</td>\n",
       "      <td>0.000000</td>\n",
       "      <td>0.000000</td>\n",
       "      <td>0.010000</td>\n",
       "      <td>1.0</td>\n",
       "      <td>0.0</td>\n",
       "      <td>0.0</td>\n",
       "      <td>0.000000</td>\n",
       "    </tr>\n",
       "    <tr>\n",
       "      <th>25%</th>\n",
       "      <td>5.160580e+05</td>\n",
       "      <td>6.665330e+05</td>\n",
       "      <td>5400.000000</td>\n",
       "      <td>5300.000000</td>\n",
       "      <td>5000.000000</td>\n",
       "      <td>9.250000</td>\n",
       "      <td>165.880000</td>\n",
       "      <td>40000.000000</td>\n",
       "      <td>8.500000</td>\n",
       "      <td>0.000000</td>\n",
       "      <td>6.000000</td>\n",
       "      <td>0.000000</td>\n",
       "      <td>3711.000000</td>\n",
       "      <td>26.000000</td>\n",
       "      <td>13.000000</td>\n",
       "      <td>0.000000</td>\n",
       "      <td>0.000000</td>\n",
       "      <td>5581.772363</td>\n",
       "      <td>5128.765000</td>\n",
       "      <td>4620.770000</td>\n",
       "      <td>662.910000</td>\n",
       "      <td>0.000000</td>\n",
       "      <td>0.000000</td>\n",
       "      <td>0.000000</td>\n",
       "      <td>219.880000</td>\n",
       "      <td>1.0</td>\n",
       "      <td>0.0</td>\n",
       "      <td>0.0</td>\n",
       "      <td>0.000000</td>\n",
       "    </tr>\n",
       "    <tr>\n",
       "      <th>50%</th>\n",
       "      <td>6.629560e+05</td>\n",
       "      <td>8.475490e+05</td>\n",
       "      <td>9750.000000</td>\n",
       "      <td>9600.000000</td>\n",
       "      <td>8800.000000</td>\n",
       "      <td>11.860000</td>\n",
       "      <td>276.910000</td>\n",
       "      <td>57160.000000</td>\n",
       "      <td>13.710000</td>\n",
       "      <td>1.000000</td>\n",
       "      <td>9.000000</td>\n",
       "      <td>0.000000</td>\n",
       "      <td>8773.000000</td>\n",
       "      <td>49.600000</td>\n",
       "      <td>20.000000</td>\n",
       "      <td>0.000000</td>\n",
       "      <td>0.000000</td>\n",
       "      <td>9771.918186</td>\n",
       "      <td>9177.260000</td>\n",
       "      <td>8000.000000</td>\n",
       "      <td>1335.790000</td>\n",
       "      <td>0.000000</td>\n",
       "      <td>0.000000</td>\n",
       "      <td>0.000000</td>\n",
       "      <td>544.230000</td>\n",
       "      <td>1.0</td>\n",
       "      <td>0.0</td>\n",
       "      <td>0.0</td>\n",
       "      <td>0.000000</td>\n",
       "    </tr>\n",
       "    <tr>\n",
       "      <th>75%</th>\n",
       "      <td>8.365180e+05</td>\n",
       "      <td>1.045805e+06</td>\n",
       "      <td>15000.000000</td>\n",
       "      <td>15000.000000</td>\n",
       "      <td>14000.000000</td>\n",
       "      <td>14.460000</td>\n",
       "      <td>415.740000</td>\n",
       "      <td>79000.000000</td>\n",
       "      <td>18.820000</td>\n",
       "      <td>1.000000</td>\n",
       "      <td>12.000000</td>\n",
       "      <td>0.000000</td>\n",
       "      <td>16514.000000</td>\n",
       "      <td>72.400000</td>\n",
       "      <td>28.000000</td>\n",
       "      <td>0.000000</td>\n",
       "      <td>0.000000</td>\n",
       "      <td>16146.841055</td>\n",
       "      <td>15399.795000</td>\n",
       "      <td>13000.000000</td>\n",
       "      <td>2762.130000</td>\n",
       "      <td>0.000000</td>\n",
       "      <td>0.000000</td>\n",
       "      <td>0.000000</td>\n",
       "      <td>3296.695000</td>\n",
       "      <td>1.0</td>\n",
       "      <td>0.0</td>\n",
       "      <td>0.0</td>\n",
       "      <td>0.000000</td>\n",
       "    </tr>\n",
       "    <tr>\n",
       "      <th>max</th>\n",
       "      <td>1.077430e+06</td>\n",
       "      <td>1.314167e+06</td>\n",
       "      <td>35000.000000</td>\n",
       "      <td>35000.000000</td>\n",
       "      <td>35000.000000</td>\n",
       "      <td>24.400000</td>\n",
       "      <td>1305.190000</td>\n",
       "      <td>145008.000000</td>\n",
       "      <td>29.990000</td>\n",
       "      <td>8.000000</td>\n",
       "      <td>44.000000</td>\n",
       "      <td>4.000000</td>\n",
       "      <td>149000.000000</td>\n",
       "      <td>99.900000</td>\n",
       "      <td>90.000000</td>\n",
       "      <td>6311.470000</td>\n",
       "      <td>6307.370000</td>\n",
       "      <td>58563.679930</td>\n",
       "      <td>58563.680000</td>\n",
       "      <td>35000.020000</td>\n",
       "      <td>23563.680000</td>\n",
       "      <td>180.200000</td>\n",
       "      <td>29623.350000</td>\n",
       "      <td>7002.190000</td>\n",
       "      <td>36115.200000</td>\n",
       "      <td>1.0</td>\n",
       "      <td>0.0</td>\n",
       "      <td>0.0</td>\n",
       "      <td>2.000000</td>\n",
       "    </tr>\n",
       "  </tbody>\n",
       "</table>\n",
       "</div>"
      ],
      "text/plain": [
       "                 id     member_id     loan_amnt   funded_amnt  \\\n",
       "count  3.548700e+04  3.548700e+04  35487.000000  35487.000000   \n",
       "mean   6.819981e+05  8.490261e+05  10956.692592  10700.578381   \n",
       "std    2.107274e+05  2.659365e+05   7160.075633   6906.381040   \n",
       "min    5.574200e+04  7.472400e+04    500.000000    500.000000   \n",
       "25%    5.160580e+05  6.665330e+05   5400.000000   5300.000000   \n",
       "50%    6.629560e+05  8.475490e+05   9750.000000   9600.000000   \n",
       "75%    8.365180e+05  1.045805e+06  15000.000000  15000.000000   \n",
       "max    1.077430e+06  1.314167e+06  35000.000000  35000.000000   \n",
       "\n",
       "       funded_amnt_inv      int_rate   installment     annual_inc  \\\n",
       "count     35487.000000  35487.000000  35487.000000   35487.000000   \n",
       "mean      10159.846992     12.001569    316.853678   61915.610897   \n",
       "std        6849.039620      3.689475    199.626068   27973.969123   \n",
       "min           0.000000      5.420000     16.080000    4000.000000   \n",
       "25%        5000.000000      9.250000    165.880000   40000.000000   \n",
       "50%        8800.000000     11.860000    276.910000   57160.000000   \n",
       "75%       14000.000000     14.460000    415.740000   79000.000000   \n",
       "max       35000.000000     24.400000   1305.190000  145008.000000   \n",
       "\n",
       "                dti  inq_last_6mths      open_acc       pub_rec  \\\n",
       "count  35487.000000    35487.000000  35487.000000  35487.000000   \n",
       "mean      13.560413        0.860794      9.250402      0.054583   \n",
       "std        6.641329        1.060402      4.346413      0.236527   \n",
       "min        0.000000        0.000000      2.000000      0.000000   \n",
       "25%        8.500000        0.000000      6.000000      0.000000   \n",
       "50%       13.710000        1.000000      9.000000      0.000000   \n",
       "75%       18.820000        1.000000     12.000000      0.000000   \n",
       "max       29.990000        8.000000     44.000000      4.000000   \n",
       "\n",
       "           revol_bal    revol_util     total_acc     out_prncp  out_prncp_inv  \\\n",
       "count   35487.000000  35487.000000  35487.000000  35487.000000   35487.000000   \n",
       "mean    12558.704962     49.069229     21.810748     48.880743      48.642948   \n",
       "std     13792.251157     28.151912     11.209400    362.019843     360.668453   \n",
       "min         0.000000      0.000000      2.000000      0.000000       0.000000   \n",
       "25%      3711.000000     26.000000     13.000000      0.000000       0.000000   \n",
       "50%      8773.000000     49.600000     20.000000      0.000000       0.000000   \n",
       "75%     16514.000000     72.400000     28.000000      0.000000       0.000000   \n",
       "max    149000.000000     99.900000     90.000000   6311.470000    6307.370000   \n",
       "\n",
       "        total_pymnt  total_pymnt_inv  total_rec_prncp  total_rec_int  \\\n",
       "count  35487.000000     35487.000000     35487.000000   35487.000000   \n",
       "mean   11886.001404     11307.832389      9590.258744    2204.613478   \n",
       "std     8667.977381      8573.302502      6774.613561    2502.212507   \n",
       "min       33.730000         0.000000         0.000000       6.220000   \n",
       "25%     5581.772363      5128.765000      4620.770000     662.910000   \n",
       "50%     9771.918186      9177.260000      8000.000000    1335.790000   \n",
       "75%    16146.841055     15399.795000     13000.000000    2762.130000   \n",
       "max    58563.679930     58563.680000     35000.020000   23563.680000   \n",
       "\n",
       "       total_rec_late_fee    recoveries  collection_recovery_fee  \\\n",
       "count        35487.000000  35487.000000             35487.000000   \n",
       "mean             1.315239     89.814024                11.144419   \n",
       "std              7.129077    660.640863               134.343059   \n",
       "min              0.000000      0.000000                 0.000000   \n",
       "25%              0.000000      0.000000                 0.000000   \n",
       "50%              0.000000      0.000000                 0.000000   \n",
       "75%              0.000000      0.000000                 0.000000   \n",
       "max            180.200000  29623.350000              7002.190000   \n",
       "\n",
       "       last_pymnt_amnt  policy_code  acc_now_delinq  delinq_amnt  \\\n",
       "count     35487.000000      35487.0         35487.0      35487.0   \n",
       "mean       2624.916552          1.0             0.0          0.0   \n",
       "std        4298.429672          0.0             0.0          0.0   \n",
       "min           0.010000          1.0             0.0          0.0   \n",
       "25%         219.880000          1.0             0.0          0.0   \n",
       "50%         544.230000          1.0             0.0          0.0   \n",
       "75%        3296.695000          1.0             0.0          0.0   \n",
       "max       36115.200000          1.0             0.0          0.0   \n",
       "\n",
       "       pub_rec_bankruptcies  \n",
       "count          35487.000000  \n",
       "mean               0.041649  \n",
       "std                0.200633  \n",
       "min                0.000000  \n",
       "25%                0.000000  \n",
       "50%                0.000000  \n",
       "75%                0.000000  \n",
       "max                2.000000  "
      ]
     },
     "execution_count": 184,
     "metadata": {},
     "output_type": "execute_result"
    }
   ],
   "source": [
    "dfn.describe()"
   ]
  },
  {
   "cell_type": "markdown",
   "id": "3586d78f-8f27-45dc-aa83-7f2e9fffd86b",
   "metadata": {},
   "source": [
    "### <span style=\"color:green\">  Can see similar distribution for few other features like 'inq_last_6mths', 'pub_rec', 'out_prncp', 'out_prncp_inv', 'total_rec_late_fee', 'recoveries', 'collection_recovery_fee', 'policy_code', 'acc_now_delinq', 'delinq_amnt' and 'pub_rec_bankruptcies'"
   ]
  },
  {
   "cell_type": "code",
   "execution_count": 192,
   "id": "50445356-baae-471e-85b6-fb2ed898e170",
   "metadata": {},
   "outputs": [
    {
     "data": {
      "text/plain": [
       "array([5, 1, 0, 3, 2, 4, 6, 7, 8], dtype=int64)"
      ]
     },
     "execution_count": 192,
     "metadata": {},
     "output_type": "execute_result"
    }
   ],
   "source": [
    "dfn['inq_last_6mths'].unique()"
   ]
  },
  {
   "cell_type": "code",
   "execution_count": 193,
   "id": "02f3e57a-6862-4aec-8299-85c3fdd0c58b",
   "metadata": {},
   "outputs": [
    {
     "data": {
      "text/plain": [
       "array([0, 1, 2, 3, 4], dtype=int64)"
      ]
     },
     "execution_count": 193,
     "metadata": {},
     "output_type": "execute_result"
    }
   ],
   "source": [
    "dfn['pub_rec'].unique()"
   ]
  },
  {
   "cell_type": "code",
   "execution_count": 194,
   "id": "86d524ec-80ee-4ecf-a3c5-6b1b8dcd0f77",
   "metadata": {},
   "outputs": [
    {
     "data": {
      "text/plain": [
       "array([   0.  ,  524.06, 1849.1 , 2181.42, 2637.34, 3125.79, 1041.99,\n",
       "       3033.28, 1941.27, 2235.1 , 3009.73, 3572.17, 2168.19, 3282.  ,\n",
       "       3578.62, 4860.84, 3500.97, 3730.24, 3467.1 ,  584.28, 2733.54,\n",
       "       2851.4 ,  775.8 , 2789.32, 4305.61, 3135.62, 2399.66, 2245.8 ,\n",
       "       2410.09, 1998.59, 1512.19, 2970.39,  498.84, 2963.24, 3547.11,\n",
       "        612.96, 3916.99, 2088.78, 1262.94, 1311.75, 3293.77, 3175.31,\n",
       "       4337.79, 2977.79, 1795.27, 1608.01, 2468.75, 2366.06, 1263.01,\n",
       "       1841.1 , 1880.75, 2197.15, 1143.7 , 2139.9 , 3307.37, 3506.46,\n",
       "       2393.54,  757.34, 3247.37, 2441.54, 6071.68, 3795.57, 2069.09,\n",
       "       5376.49,  829.39, 1634.83, 1128.52, 2169.29, 4064.35, 3399.59,\n",
       "       1393.68, 2835.14, 2888.66, 4049.43, 2158.43, 1551.4 , 3816.06,\n",
       "       3242.49, 3284.78, 1990.89, 3426.68, 3373.38, 1913.37, 1202.1 ,\n",
       "       3298.03,  952.95, 2429.04, 1918.47, 3393.3 ,  815.07, 4448.53,\n",
       "       3541.14, 3247.14, 1323.48, 2988.98, 5324.04, 1828.12, 3449.06,\n",
       "       4124.43, 1717.73, 5217.87, 3357.63, 1146.07, 3299.  , 3405.66,\n",
       "       3240.26, 3442.91, 2209.39, 3059.36,  914.11, 2023.9 , 1553.11,\n",
       "       3464.73, 2433.07, 5482.19, 2752.09, 2324.29, 2656.68, 1860.06,\n",
       "       3352.78,  454.49, 3385.59,  670.86, 5325.95, 5259.43, 2572.6 ,\n",
       "       3235.86, 4829.94, 2642.15, 2180.75, 4220.51, 4849.36, 2686.69,\n",
       "       3106.49, 2081.35, 1891.19,  884.38,  382.92, 1838.01, 4156.63,\n",
       "       3713.35, 5656.77, 4293.24, 2436.27, 3505.27, 3472.32, 2495.33,\n",
       "       1109.03, 2141.38, 2641.34,  749.4 , 1994.01, 2535.55, 2216.58,\n",
       "       6034.37, 1440.65, 6027.7 , 1204.85, 3060.01, 4147.21, 2171.14,\n",
       "        965.81, 2344.27, 4685.9 , 2185.88, 3660.39, 4022.05, 2510.25,\n",
       "       4006.97, 2608.89, 4952.45, 5944.12, 3314.02, 2164.84, 1858.67,\n",
       "       3731.3 , 2437.1 , 2908.66, 6307.37, 2443.14, 4174.34, 1833.76,\n",
       "       6307.15, 2606.86, 1801.68, 2208.76, 2736.76, 2135.97,  617.24,\n",
       "        312.27, 2165.77, 3175.68, 4116.62, 3339.85, 2431.39, 4683.41,\n",
       "        718.13, 2330.15, 2663.11, 1800.69, 4734.93, 2204.81, 2812.85,\n",
       "       5286.98, 2446.98, 6219.16, 1084.82, 5221.66, 1813.46, 3096.1 ,\n",
       "       2996.86, 3267.88, 3169.12, 3793.6 , 4789.17, 3137.52, 2050.55,\n",
       "       2314.6 , 2641.55,  869.13, 2676.84, 1833.01, 4815.14, 1125.41,\n",
       "       2630.08, 3692.75, 5414.35, 1592.47, 2545.67, 3133.31, 2730.42,\n",
       "       2048.16, 3615.7 , 4480.13, 1725.34, 2504.4 ,  764.24,  486.75,\n",
       "       1037.61, 1765.69, 2943.45, 6308.37, 2365.96, 2330.42, 6219.11,\n",
       "       2076.98, 5522.58,  295.05, 3709.43,  951.5 , 1632.91, 2866.79,\n",
       "       3263.78,  811.12,  945.38, 1483.73, 3815.44, 5471.22, 2726.  ,\n",
       "       3373.62, 2699.61, 1365.81,  559.77, 1894.33, 2723.93, 3165.88,\n",
       "       4559.75, 1730.29, 2613.41, 2947.91, 2254.43, 1606.9 , 2989.89,\n",
       "       1687.55, 2816.93, 2121.57, 3577.36, 2134.72, 6311.47, 2913.27,\n",
       "       2274.79, 2012.43, 1662.84, 2893.04, 1960.53, 2092.83, 2143.94,\n",
       "       2307.68, 1682.07, 1260.47, 3188.44, 1545.01, 4740.63, 2292.97,\n",
       "       2940.22, 2016.74, 4025.41, 2200.22, 1888.87,  641.3 , 1282.5 ,\n",
       "       1677.9 ,  346.17, 1570.75, 2147.25, 3265.96, 2129.25,  388.96,\n",
       "       5255.4 ,  903.7 , 1673.94, 2020.25, 1799.71, 2565.29, 3452.49,\n",
       "       5355.29, 1692.35, 3801.78, 2148.8 ,  761.1 , 3996.43, 3394.88,\n",
       "       2724.51, 1887.07, 1608.53, 1110.37, 2542.42, 3686.62, 4559.58,\n",
       "       2047.54, 3907.53, 1731.34, 3709.62, 3176.85, 3585.29,  782.23,\n",
       "       2296.41, 1061.32, 1978.2 , 2095.61, 2852.65, 2547.26, 2900.11,\n",
       "       3324.13, 1495.08, 4058.83, 3346.88, 1795.78, 2907.99, 1835.03,\n",
       "        720.93, 1990.77, 5075.73, 2161.12, 1789.94, 1979.73, 4508.05,\n",
       "       1359.61, 1734.3 , 4270.37, 2330.13,  769.55,  849.04, 4498.59,\n",
       "        362.11, 1579.37, 1717.33, 4136.43, 3228.51, 4606.19, 1545.26,\n",
       "       2144.54, 2248.45,  781.9 , 2999.63, 3913.09, 2814.63, 4006.75,\n",
       "       1202.05, 1241.18,  123.16,  616.35,  922.37, 3825.95, 1769.65,\n",
       "        569.25, 3604.32, 1135.23, 1583.17, 2446.06, 3787.51, 1856.95,\n",
       "       1579.53, 1738.29, 4376.87, 1634.86, 2277.11, 2618.67, 1517.93,\n",
       "       2370.3 , 3666.3 , 3179.93, 1967.92, 2445.09, 3238.83,  488.46,\n",
       "       1883.68, 1924.18, 3051.01, 1888.84, 1553.34, 1892.51, 3031.4 ,\n",
       "       1996.81, 1678.4 ,  803.17, 2095.12, 1308.82, 3966.02, 2472.24,\n",
       "       3101.25, 1406.57,  479.6 , 3006.67, 2999.31, 2201.48, 3232.93,\n",
       "       1501.38, 1357.87, 3111.53, 2789.95, 1602.19, 1586.31,  702.13,\n",
       "       2491.6 , 3817.78, 1193.15, 1726.07, 1957.43, 1221.47,  304.24,\n",
       "       2145.02, 1076.98,  728.89, 3675.22,  648.56,  911.8 ,  488.94,\n",
       "       3964.24,  206.57, 2811.74, 1190.8 , 1856.26,  228.49, 1310.39,\n",
       "        631.48, 1763.31, 2327.1 ,  444.53, 4069.38, 3765.71, 2344.04,\n",
       "       2950.08, 4556.71, 3665.79, 1033.64, 2388.51, 1202.32, 4498.43,\n",
       "        314.16, 2833.43, 1478.32, 1366.39,  328.7 , 4464.46, 1764.38,\n",
       "        178.23, 2707.38, 1243.77, 1384.75,  380.55, 3103.06, 2248.85,\n",
       "        485.87, 1796.75, 1975.52, 1062.76, 1841.59,  620.78,  620.73,\n",
       "       1605.98, 1817.78, 3233.11, 2322.79, 1296.57, 2116.44, 2732.41,\n",
       "       3718.13, 1456.29, 2388.59, 3914.  ,  695.88, 1677.63, 1476.83,\n",
       "        816.86, 1463.88, 3819.  , 3404.2 , 2281.18, 3080.32, 2432.35,\n",
       "       2257.76,  457.78,  574.37,  244.05,  635.55,  775.72, 2385.1 ,\n",
       "       2730.33, 1879.87, 2795.45, 2853.89, 1403.37, 2880.41, 1184.2 ,\n",
       "       2646.12, 4316.13, 1004.7 , 1495.26, 2171.  ,  753.26, 2185.75,\n",
       "       1246.35, 1535.61, 2032.35, 1218.71,  835.37, 1356.53, 1946.  ,\n",
       "       1028.15, 1108.6 , 1034.46, 1885.17, 2557.01, 1558.84, 1743.54,\n",
       "       1707.84, 2378.11, 1267.64, 1558.19, 1577.62, 1923.74, 1925.42,\n",
       "       1111.65, 1848.89, 1345.37,  612.45,   88.39, 2190.33, 1946.09,\n",
       "       1749.58, 1208.46, 1151.9 ,  710.22, 1294.86, 2254.64, 1462.7 ,\n",
       "        475.38, 1588.84, 2197.53, 2009.59, 1492.51, 1275.29, 1030.77,\n",
       "        430.1 , 1791.55,  412.22, 1096.95, 1492.76, 1105.19, 2192.31,\n",
       "       2525.67,  734.63, 2593.13,  495.3 ,  910.53, 2606.93,  904.95,\n",
       "        942.68,  852.92, 1961.61, 1140.85,  850.38, 1129.99, 1458.91,\n",
       "        768.77, 1171.18, 1944.72, 1010.76, 2193.18, 1538.83, 1963.7 ,\n",
       "       1309.67,  545.13, 1722.75,  591.97, 1312.8 , 1622.69, 1898.05,\n",
       "       1082.13, 1169.55,  885.21, 1294.99, 1229.75,  456.16, 2051.99,\n",
       "       1766.38, 1476.66, 1052.96, 2544.61,  802.83,  521.05,  207.56,\n",
       "       2422.01, 1748.36, 1279.63, 1308.66, 1753.48, 2000.47,  579.09,\n",
       "       2235.61, 1310.  , 2354.75, 1759.75, 1997.56, 1972.6 ,  672.87,\n",
       "       1264.45, 2963.41, 1749.79, 2039.73, 1052.82, 2298.67,  479.48,\n",
       "        296.24, 1270.46, 1254.45, 1049.49, 1347.43, 2614.43, 1231.2 ,\n",
       "       1978.94, 2540.31,  796.84,  789.83, 1053.64,  965.69,  992.48,\n",
       "       1070.96, 1863.21, 1666.39, 1607.9 ,  806.13,  285.12, 2398.86,\n",
       "       1070.63, 1156.61,  241.36, 1642.7 ,  848.07, 1096.03,   93.24,\n",
       "       1296.03,  351.61, 1783.88, 1494.38,  138.32, 1179.91,  875.65,\n",
       "       2380.4 , 1035.62, 1483.83,  245.77, 2025.55,  807.29,  274.72,\n",
       "        915.04,  113.96, 1716.3 , 1938.79, 1888.98,  998.86,  672.09,\n",
       "        822.26, 1664.64, 1817.12, 1804.5 ,  174.99,  462.77, 1199.63,\n",
       "       1438.65,  827.13,  621.58,  884.68,  945.1 , 1877.41, 1295.73,\n",
       "        792.89,  454.98,   65.83,  596.8 ,  195.99, 1010.41, 1507.88,\n",
       "       1264.71, 1496.24, 1195.63,  507.94, 1075.83,  818.11, 1335.97,\n",
       "        473.52,  351.11, 1541.49, 1145.4 ,  267.27,  774.94, 1078.44,\n",
       "        682.66,  793.91, 1593.25, 1073.34,  737.78,  726.12, 1126.4 ,\n",
       "        436.18, 1606.26,  865.9 , 1391.92,  671.61,  909.53,  491.24,\n",
       "       2283.78, 1085.45,  776.72, 1126.08,  478.13,  504.48, 1733.49,\n",
       "        822.29,  630.03,  729.24,  245.97,  917.05,   27.41,  821.38,\n",
       "        475.17, 1443.34,  889.9 ,  315.5 ,  304.42, 1779.08, 1126.75,\n",
       "       1121.58,  395.74,  618.53,  719.62, 2284.54,  957.09, 1153.4 ,\n",
       "        170.7 , 1805.98,  448.58,  712.5 ,  557.72,  792.48,  899.25,\n",
       "        497.98,  731.49,  535.89, 1090.19,  591.8 , 1159.94, 1135.12,\n",
       "       1149.22,  252.09,  553.6 , 1211.32,  628.68,  609.85, 1600.36,\n",
       "       1067.23, 1052.11,  913.71,  942.36, 2609.  , 1636.19, 1074.97,\n",
       "       1178.84,  498.15,  754.54, 1138.05,  333.67, 1237.43,  604.44,\n",
       "        654.7 , 1169.12, 1115.73,  593.29,  111.26,  321.08, 1038.18,\n",
       "        519.03,  561.02,  341.66,  858.69,  814.47,  266.32,  717.09,\n",
       "        527.61,  557.53,  573.57,  782.34, 1056.84,  720.78, 1634.92,\n",
       "        651.3 ,  560.59,  963.99,  527.36,  536.55,  754.1 ,  533.9 ,\n",
       "       1075.62,  594.24, 1009.41, 1001.31,  250.67, 1332.48,  728.82,\n",
       "        544.05,  630.94,  218.05,  743.52,  830.23,  539.51,   50.46,\n",
       "        719.49,  611.76,  833.36,  740.33,  718.03, 1062.69,  513.46,\n",
       "        821.85,  698.98,  823.83,  590.78,  455.99,  711.73,  399.26,\n",
       "        208.12, 1073.38,  588.92,  720.36,  554.04,  773.07,  572.46,\n",
       "        883.41,  899.94,  800.18, 1023.3 , 1069.04,  632.06,  255.43,\n",
       "        536.32,  237.76,  459.49,  473.2 ,  462.14,   40.65,  405.53,\n",
       "        136.41,  460.51,  483.43,  640.63,  410.02,  519.97,  408.01,\n",
       "         71.09,  457.98,  112.28,   96.38,  179.04, 1797.02,  402.3 ,\n",
       "       1136.86,  370.96,  465.93,   74.41,  192.53,   94.22,  545.51,\n",
       "        352.6 ,  616.55,  477.39,  534.08,  433.11,  276.61,  108.52,\n",
       "        265.69,  673.95,  531.03,  213.25,  507.34,  272.65,  116.69,\n",
       "        372.05,  291.03,  614.82,  518.91,   72.18,  214.7 ,  239.76,\n",
       "        184.48,  462.11,  213.78,  208.63,  284.89,  220.34,  261.38,\n",
       "        313.09,  433.23,  378.24, 1353.93,  542.91,  338.44,  148.14,\n",
       "        322.04,  138.55,  187.6 ,  124.35,  326.44,  189.37,  160.84,\n",
       "        120.35,  591.6 ,   80.19,  628.59,  583.81,  111.89,  174.69,\n",
       "         72.11,  403.51,  480.45,  159.93,  392.69,  289.54,  233.69,\n",
       "        238.46,  191.47,  139.95,  459.92,  484.42,  397.92,   74.24,\n",
       "        145.09,  189.6 ,  134.56,  331.34,   88.52,   77.18,  571.73,\n",
       "        319.87,  224.09,  171.24,  407.51,   53.  ,   11.91,  264.79,\n",
       "        283.94,   57.67,   71.83,   61.52,  238.82,   10.26,   19.12,\n",
       "         13.28,   79.24])"
      ]
     },
     "execution_count": 194,
     "metadata": {},
     "output_type": "execute_result"
    }
   ],
   "source": [
    "dfn['out_prncp'].unique()"
   ]
  },
  {
   "cell_type": "code",
   "execution_count": 195,
   "id": "10237833-8012-4455-9757-b721f0687462",
   "metadata": {},
   "outputs": [
    {
     "data": {
      "text/plain": [
       "array([   0.  ,  524.06, 1844.43, 2177.03, 2632.59, 3120.68, 1041.99,\n",
       "       3033.28, 1897.5 , 2178.56, 3009.73, 3567.34, 2168.19, 3277.36,\n",
       "       3569.68, 4855.89, 3500.97, 3725.49, 3467.1 ,  584.28, 2733.54,\n",
       "       2847.01,  775.8 , 2785.39, 4301.26, 3131.63, 2395.9 , 2242.04,\n",
       "       2410.09, 1994.24, 1512.19, 2966.01,  498.84, 2963.24, 3547.11,\n",
       "        610.88, 3916.99, 2088.78, 1262.94, 1311.75, 3289.97, 3171.55,\n",
       "       4337.79, 2977.79, 1795.27, 1608.01, 2468.75, 2366.06, 1263.01,\n",
       "       1841.1 , 1880.75, 2197.15, 1143.7 , 2139.9 , 3307.37, 3502.02,\n",
       "       2393.54,  757.34, 3247.37, 2437.99, 6067.33, 3791.22, 2069.09,\n",
       "       5371.96,  829.39, 1634.83, 1128.52, 2166.81, 4064.35, 3395.31,\n",
       "       1388.76, 2835.14, 2888.66, 4044.6 , 2158.43, 1546.95, 3816.06,\n",
       "       3242.49, 3284.78, 1990.89, 3422.81, 3373.38, 1913.37, 1202.1 ,\n",
       "       3298.03,  952.95, 2429.04, 1911.33, 3393.3 ,  815.07, 4444.15,\n",
       "       3541.14, 3243.04, 1323.48, 2981.46, 5320.17, 1828.12, 3449.06,\n",
       "       4116.84, 1717.73, 5214.11, 3353.75, 1146.07, 3290.59, 3401.74,\n",
       "       3236.13, 3438.59, 2209.39, 3059.36,  914.11, 2023.9 , 1553.11,\n",
       "       3464.73, 2433.07, 5482.19, 2752.09, 2324.29, 2656.68, 1860.06,\n",
       "       3352.78,  454.49, 3385.59,  670.86, 5318.21, 5259.43, 2568.51,\n",
       "       3223.56, 4821.31, 2642.15, 2180.75, 4216.2 , 4849.36, 2686.69,\n",
       "       3102.14, 2081.35, 1891.19,  884.38,  382.92, 1800.74, 4147.88,\n",
       "       3709.04, 5652.31, 4241.9 , 2427.99, 3501.4 , 3468.12, 2491.13,\n",
       "       1104.68, 2141.38, 2641.34,  749.4 , 1994.01, 2535.55, 2216.58,\n",
       "       6034.37, 1440.65, 6027.7 , 1165.87, 3048.41, 4147.21, 2171.14,\n",
       "        965.81, 2340.01, 4682.1 , 2185.88, 3643.61, 4017.78, 2506.03,\n",
       "       4006.97, 2608.89, 4947.98, 5931.27, 3305.74, 2164.84, 1858.67,\n",
       "       3726.86, 2432.96, 2904.73, 6307.37, 2438.94, 4163.06, 1790.66,\n",
       "       6298.11, 2598.98, 1801.68, 2197.52, 2732.2 , 2131.63,  617.24,\n",
       "        312.27, 2165.77, 3171.89, 4069.45, 3335.41, 2427.28, 4678.9 ,\n",
       "        718.13, 2291.64, 2663.11, 1793.17, 4730.97, 2204.81, 2808.41,\n",
       "       5283.19, 2442.64, 6219.16, 1076.76, 5135.82, 1813.46, 3049.87,\n",
       "       2948.3 , 3263.74, 3166.25, 3785.1 , 4769.52, 3137.52, 2046.62,\n",
       "       2310.39, 2641.55,  851.74, 2676.84, 1833.01, 4777.7 , 1103.78,\n",
       "       2588.24, 3608.25, 5400.99, 1592.47, 2545.67, 3092.2 , 2692.14,\n",
       "       2044.22, 3537.47, 4438.92, 1690.01, 2504.4 ,  764.24,  486.75,\n",
       "       1037.61, 1731.07, 2903.17, 6276.75, 2322.86, 2330.42, 6183.55,\n",
       "       2051.81, 5490.96,  295.05, 3672.33,  951.5 , 1629.84, 2838.44,\n",
       "       3240.87,  778.56,  945.38, 1483.73, 3792.37, 5451.63, 2685.52,\n",
       "       3343.19, 2660.5 , 1333.69,  559.77, 1855.22, 2706.98, 3152.65,\n",
       "       4543.38, 1730.29, 2583.95, 2944.2 , 2254.43, 1606.9 , 2989.89,\n",
       "       1687.55, 2800.25, 2118.22, 3573.71, 2130.86, 6306.96, 2873.66,\n",
       "       2233.28, 1979.23, 1659.44, 2854.42, 1957.26, 2092.83, 2110.73,\n",
       "       2304.38, 1682.07, 1258.89, 3182.01, 1545.01, 4736.67, 2257.61,\n",
       "       2903.85, 2016.74, 4022.35, 2196.49, 1888.87,  609.92, 1282.5 ,\n",
       "       1674.56,  336.9 , 1570.75, 2147.25, 3265.96, 2119.21,  388.96,\n",
       "       5251.64,  903.7 , 1670.67, 2020.25, 1799.71, 2565.29, 3417.78,\n",
       "       5355.29, 1662.57, 3791.59, 2145.16,  761.1 , 3993.03, 3394.88,\n",
       "       2724.51, 1887.07, 1602.37, 1110.37, 2542.42, 3686.62, 4527.01,\n",
       "       2013.81, 3868.42, 1725.16, 3709.62, 3176.85, 3585.29,  782.23,\n",
       "       2289.14, 1061.32, 1974.48, 2095.61, 2852.65, 2547.26, 2892.82,\n",
       "       3324.13, 1488.92, 4058.83, 3307.03, 1795.78, 2907.99, 1835.03,\n",
       "        720.93, 1990.77, 5072.01, 2161.12, 1789.94, 1979.73, 4475.94,\n",
       "       1298.97, 1734.3 , 4266.62, 2294.76,  769.55,  849.04, 4466.47,\n",
       "        361.63, 1579.37, 1683.56, 4132.39, 3222.02, 4602.59, 1545.26,\n",
       "       2144.54, 2245.  ,  748.17, 2995.85, 3877.24, 2810.91, 4003.34,\n",
       "       2928.53, 1202.05, 1189.44,  123.16,  616.35,  922.37, 3825.95,\n",
       "       1742.35,  569.25, 3571.55, 1135.23, 1580.11, 2446.06, 3757.87,\n",
       "       1856.95, 1579.53, 1738.29, 4376.87, 1631.77, 2274.26, 2618.67,\n",
       "       1491.02, 2370.3 , 2277.11, 3666.3 , 3153.63, 1967.92, 2445.09,\n",
       "       3238.83,  463.53, 1883.68, 1920.96, 3047.87, 1888.84, 1526.05,\n",
       "       1879.87, 3019.96, 1996.81, 1678.4 ,  803.17, 2065.43, 1281.53,\n",
       "       3960.21, 2472.24, 3101.25, 1403.75,  453.67, 2995.89, 2995.55,\n",
       "       2198.66, 3206.02, 1501.38, 1329.6 , 3111.53, 2758.07, 1602.19,\n",
       "       1558.03,  702.13, 2463.32, 3790.49, 1168.21, 1726.07, 1951.18,\n",
       "       1221.47,  298.23, 2141.77, 1076.98,  698.81, 3639.05,  648.56,\n",
       "        911.8 ,  488.94, 3957.53,  205.1 , 2811.74, 1170.26, 1856.26,\n",
       "        228.49, 1283.1 ,  625.13, 1763.31, 2300.19,  444.53, 4069.38,\n",
       "       3736.07, 2344.04, 2950.08, 4517.59, 3658.38, 1033.64, 2388.51,\n",
       "       1202.32, 4495.17,  314.16, 2827.78, 1478.32, 1366.39,  328.7 ,\n",
       "       4429.44, 1764.38,  178.23, 2704.55, 1243.77, 1384.75,  380.55,\n",
       "       3100.47, 2221.02,  485.87, 1793.88, 1943.94, 1062.76, 1838.44,\n",
       "        620.78,  620.73, 1605.98, 1817.78, 3179.29, 2319.54, 1296.57,\n",
       "       2116.44, 2732.41, 3712.72, 1429.39, 2388.59, 3914.  ,  695.88,\n",
       "       1677.63, 1447.2 ,  816.86, 1461.01, 3791.7 , 3375.93, 2278.27,\n",
       "       3077.25, 2432.35, 2249.56,  457.78,  568.72,  244.05,  633.92,\n",
       "        749.87, 2382.01, 2724.84, 1877.03, 2789.88, 2850.98, 1374.27,\n",
       "       2877.69, 1184.2 , 2643.37, 4312.74, 1001.9 , 1466.98, 2123.9 ,\n",
       "        753.26, 2157.92, 1244.27, 1535.61, 2005.61, 1214.16,  835.37,\n",
       "       1356.53, 1946.  , 1022.19, 1088.69, 1034.46, 1880.44, 2553.81,\n",
       "       1537.68, 1741.71, 1707.84, 2376.01, 1267.64, 1558.19, 1555.74,\n",
       "       1921.26, 1920.62, 1091.33, 1844.33, 1345.37,  612.45,   88.39,\n",
       "       2190.33, 1943.77, 1745.21, 1208.46, 1151.9 ,  710.22, 1292.67,\n",
       "       2254.64, 1462.7 ,  475.38, 1588.84, 2173.46, 2009.59, 1492.51,\n",
       "       1275.29, 1030.77,  430.1 , 1789.23,  402.06, 1096.95, 1490.24,\n",
       "       1102.82, 2189.98, 2525.67,  734.63, 2590.22,  495.3 ,  908.2 ,\n",
       "       2604.48,  883.63,  940.35,  852.92, 1948.04, 1120.57,  841.07,\n",
       "       1112.59, 1458.91,  766.29, 1149.86, 1942.18, 1010.76, 2190.64,\n",
       "       1496.18, 1931.42, 1309.67,  545.13, 1722.75,  591.97, 1312.8 ,\n",
       "       1599.17, 1884.38, 1082.13, 1169.55,  882.67, 1292.71, 1208.07,\n",
       "        456.16, 2051.99, 1742.23, 1476.66, 1052.96, 2535.68,  802.83,\n",
       "        521.05,  207.56, 2422.01, 1748.36, 1279.63, 1308.66, 1753.48,\n",
       "       1998.2 ,  579.09, 2141.03, 1307.36, 2354.75, 1757.47, 1947.94,\n",
       "       1972.6 ,  672.87, 1239.76, 2936.33, 1740.86, 2026.81, 1048.35,\n",
       "       2296.13,  479.48,  274.01, 1243.6 , 1232.19, 1049.49, 1323.6 ,\n",
       "       2614.43, 1228.61, 1978.94, 2540.31,  796.84,  789.83, 1031.95,\n",
       "        941.86,  992.48, 1054.65, 1863.21, 1664.64, 1588.87,  804.39,\n",
       "        285.12, 2398.86, 1054.95, 1156.61,  241.36, 1624.59,  848.07,\n",
       "       1079.13,   93.24, 1296.03,  335.07, 1781.96, 1494.38,  138.32,\n",
       "       1163.6 ,  875.65, 2380.4 , 1035.62, 1465.39,  245.77, 2025.55,\n",
       "        807.29,  274.72,  897.32,  113.96, 1716.3 , 1933.85, 1887.01,\n",
       "        980.85,  672.09,  822.26, 1817.12, 1782.96,  174.99,  446.69,\n",
       "       1181.19, 1435.06,  827.13,  605.91,  884.68,  943.34, 1856.42,\n",
       "       1277.97,  792.89,  454.98,   65.83,  596.8 ,  195.99, 1010.41,\n",
       "       1505.96, 1264.71, 1496.24, 1195.63,  507.94, 1075.83,  801.22,\n",
       "       1319.43,  442.17,  351.11, 1539.66, 1127.29,  263.63,  774.94,\n",
       "       1078.44,  682.66,  793.91, 1576.36, 1071.47,  737.78,  726.12,\n",
       "       1106.22,  436.18, 1606.26,  830.29, 1391.92,  668.31,  909.53,\n",
       "        491.24, 2281.85, 1085.45,  774.69, 1107.66,  478.13,  504.48,\n",
       "       1733.49,  805.4 ,  628.79,  729.24,  245.97,  917.05,   27.41,\n",
       "        819.6 ,  475.17, 1441.3 ,  873.93,  315.5 ,  304.42, 1779.08,\n",
       "       1109.92, 1119.81,  379.66,  618.53,  719.62, 1231.64,  957.09,\n",
       "       1134.36,  170.7 , 1803.94,  448.58,  712.5 ,  557.72,  781.33,\n",
       "        899.25,  497.98,  720.35,  535.89, 1089.05,  591.8 , 1157.37,\n",
       "       1113.36, 1147.49,  252.09,  553.6 , 1211.32,  626.41,  609.85,\n",
       "       1597.65, 1065.8 , 1052.11,  913.71,  942.36, 2607.13, 1632.71,\n",
       "       1074.97, 1177.64,  498.15,  754.54, 1138.05,  332.47, 1236.11,\n",
       "        602.21,  652.04, 1169.12,  398.11,  593.29,  111.26,  321.08,\n",
       "       1015.51,  519.03,  561.02,  341.66,  858.69,  814.47,  266.32,\n",
       "        717.09,  525.37,  557.53,  573.57,  782.34, 1056.84,  720.78,\n",
       "       1621.32,  651.3 ,  549.62,  962.61,  526.22,  536.55,  752.68,\n",
       "        523.19, 1074.4 ,  592.93, 1008.06, 1000.06,  250.67, 1331.13,\n",
       "        716.21,  544.05,  630.94,  218.05,  732.72,  830.23,  539.51,\n",
       "         50.46,  718.21,  610.48,  832.05,  740.33,  718.03, 1061.41,\n",
       "        512.38,  821.85,  698.98,  821.08,  590.78,  445.03,  710.48,\n",
       "        399.26,  208.12, 1073.38,  588.92,  719.14,  552.76,  773.07,\n",
       "        571.26,  882.27,  899.94,  798.96, 1021.95, 1067.65,  624.95,\n",
       "        255.43,  536.32,  237.76,  458.87,  473.2 ,  462.14,   40.65,\n",
       "        399.19,  136.41,  459.29,  482.81,  627.03,  410.02,  519.97,\n",
       "        407.4 ,   71.09,  457.28,  112.28,   96.38,  179.04, 1794.39,\n",
       "        402.3 ,  772.25,  370.96,  459.55,   74.41,  192.53,   93.54,\n",
       "        544.27,  352.6 ,  609.67,  471.68,  533.41,  432.42,  267.88,\n",
       "        108.52,  265.69,  673.95,  530.28,  213.25,  501.76,  272.65,\n",
       "        116.69,  366.77,  291.03,  605.84,  511.32,   72.18,  213.96,\n",
       "        239.76,  184.48,  462.11,  213.78,  208.63,  284.28,  219.59,\n",
       "        260.65,  307.62,  427.72,  375.68, 1353.93,  538.82,  338.44,\n",
       "        148.14,  322.04,  138.55,  187.6 ,  124.35,  326.44,  189.37,\n",
       "        160.84,  120.35,  585.77,   80.19,  627.81,  574.23,  111.89,\n",
       "        173.55,   72.11,  398.04,  479.83,  159.93,  392.69,  284.27,\n",
       "        233.69,  238.46,  191.47,  139.34,  458.11,  484.42,  391.55,\n",
       "         74.24,  145.09,  189.6 ,  134.56,  331.34,   87.94,   77.18,\n",
       "        571.05,  318.66,  218.81,  171.24,  406.9 ,   53.  ,   11.91,\n",
       "        264.16,  278.64,   57.67,   71.05,   61.05,  238.82,   10.26,\n",
       "         19.09,   13.28,   79.24])"
      ]
     },
     "execution_count": 195,
     "metadata": {},
     "output_type": "execute_result"
    }
   ],
   "source": [
    "dfn['out_prncp_inv'].unique()"
   ]
  },
  {
   "cell_type": "code",
   "execution_count": 196,
   "id": "3487ea93-b81e-455f-8ad0-202d6342944a",
   "metadata": {},
   "outputs": [
    {
     "data": {
      "text/plain": [
       "<Axes: ylabel='out_prncp'>"
      ]
     },
     "execution_count": 196,
     "metadata": {},
     "output_type": "execute_result"
    },
    {
     "data": {
      "image/png": "[encoded data removed]",
      "text/plain": [
       "<Figure size 640x480 with 1 Axes>"
      ]
     },
     "metadata": {},
     "output_type": "display_data"
    }
   ],
   "source": [
    "sns.boxplot(data=dfn, y='out_prncp')"
   ]
  },
  {
   "cell_type": "code",
   "execution_count": 197,
   "id": "add982ec-fa35-4c24-9771-3c34ebd1e31b",
   "metadata": {},
   "outputs": [
    {
     "data": {
      "text/plain": [
       "<Axes: ylabel='out_prncp_inv'>"
      ]
     },
     "execution_count": 197,
     "metadata": {},
     "output_type": "execute_result"
    },
    {
     "data": {
      "image/png": "[encoded data removed]",
      "text/plain": [
       "<Figure size 640x480 with 1 Axes>"
      ]
     },
     "metadata": {},
     "output_type": "display_data"
    }
   ],
   "source": [
    "sns.boxplot(data=df, y='out_prncp_inv')"
   ]
  },
  {
   "cell_type": "markdown",
   "id": "559f1937-8930-4086-acd9-2bc1ffaa3d5e",
   "metadata": {},
   "source": [
    "### <span style=\"color:green\">  Columns 'out_prncp', 'out_prncp_inv' are having huge outliers"
   ]
  },
  {
   "cell_type": "code",
   "execution_count": 214,
   "id": "8ebddc01-01bb-4223-8f14-0240f4aeb6a0",
   "metadata": {},
   "outputs": [
    {
     "name": "stdout",
     "output_type": "stream",
     "text": [
      "25th Percentile of out_prncp is 0.0\n",
      "75th Percentile of out_prncp is 0.0\n",
      "IQR of out_prncp is 0.0\n",
      "Lower Range for out_prncp 0.0\n",
      "Upper Range for out_prncp 0.0\n"
     ]
    }
   ],
   "source": [
    "l = find_iqr(df, 'out_prncp')"
   ]
  },
  {
   "cell_type": "code",
   "execution_count": 215,
   "id": "cf0c7000-0d24-435c-a9d3-276335c759ab",
   "metadata": {},
   "outputs": [
    {
     "data": {
      "text/plain": [
       "[True, 0.0, 0.0]"
      ]
     },
     "execution_count": 215,
     "metadata": {},
     "output_type": "execute_result"
    }
   ],
   "source": [
    "l"
   ]
  },
  {
   "cell_type": "code",
   "execution_count": 216,
   "id": "e33f99df-988c-4bc9-bb79-2494d8cc16ac",
   "metadata": {},
   "outputs": [
    {
     "data": {
      "text/plain": [
       "991"
      ]
     },
     "execution_count": 216,
     "metadata": {},
     "output_type": "execute_result"
    }
   ],
   "source": [
    "df[df['out_prncp'] > l[2]]['out_prncp'].count()"
   ]
  },
  {
   "cell_type": "code",
   "execution_count": 217,
   "id": "f2e511a7-0e83-43fd-8e88-ba2c2860e71a",
   "metadata": {},
   "outputs": [
    {
     "data": {
      "text/plain": [
       "0"
      ]
     },
     "execution_count": 217,
     "metadata": {},
     "output_type": "execute_result"
    }
   ],
   "source": [
    "df[df['out_prncp'] < l[1]]['out_prncp'].count()"
   ]
  },
  {
   "cell_type": "code",
   "execution_count": 222,
   "id": "deeaf4fd-3e98-4730-a62a-ff251a536225",
   "metadata": {},
   "outputs": [
    {
     "data": {
      "text/plain": [
       "<Axes: xlabel='out_prncp', ylabel='Count'>"
      ]
     },
     "execution_count": 222,
     "metadata": {},
     "output_type": "execute_result"
    },
    {
     "data": {
      "image/png": "[encoded data removed]",
      "text/plain": [
       "<Figure size 640x480 with 1 Axes>"
      ]
     },
     "metadata": {},
     "output_type": "display_data"
    }
   ],
   "source": [
    "sns.histplot(data=df, x='out_prncp')"
   ]
  },
  {
   "cell_type": "markdown",
   "id": "6bf8f0b8-c737-42fc-afd0-81a2aaa0367f",
   "metadata": {},
   "source": [
    "### <span style=\"color:green\">  Though the features 'out_prncp', 'out_prncp_inv' are having more information accumulated towards the beginning, deleting the outliers might cause problems as these columns indicate the outstanding amount pending from Principal amount. We will keep the rows."
   ]
  },
  {
   "cell_type": "markdown",
   "id": "d64e488d-6d25-47c0-8d9e-7b7b6ce5bce8",
   "metadata": {},
   "source": [
    "### <span style=\"color:green\">  We can delete these features altogether at a leter point in time if needed"
   ]
  },
  {
   "cell_type": "code",
   "execution_count": 228,
   "id": "0145d727-c752-4be6-a2a4-c85a68ae61ed",
   "metadata": {},
   "outputs": [
    {
     "data": {
      "text/plain": [
       "<Axes: ylabel='total_rec_late_fee'>"
      ]
     },
     "execution_count": 228,
     "metadata": {},
     "output_type": "execute_result"
    },
    {
     "data": {
      "image/png": "[encoded data removed]",
      "text/plain": [
       "<Figure size 640x480 with 1 Axes>"
      ]
     },
     "metadata": {},
     "output_type": "display_data"
    }
   ],
   "source": [
    "sns.boxplot(data=dfn,y='total_rec_late_fee')"
   ]
  },
  {
   "cell_type": "code",
   "execution_count": 229,
   "id": "2a4cbbfc-6932-498e-9576-1d47694e24ec",
   "metadata": {},
   "outputs": [
    {
     "name": "stdout",
     "output_type": "stream",
     "text": [
      "25th Percentile of total_rec_late_fee is 0.0\n",
      "75th Percentile of total_rec_late_fee is 0.0\n",
      "IQR of total_rec_late_fee is 0.0\n",
      "Lower Range for total_rec_late_fee 0.0\n",
      "Upper Range for total_rec_late_fee 0.0\n"
     ]
    }
   ],
   "source": [
    "l = find_iqr(df, 'total_rec_late_fee')"
   ]
  },
  {
   "cell_type": "markdown",
   "id": "e36858e8-9dbc-4f87-a063-fd3af63b5b9f",
   "metadata": {},
   "source": [
    "### <span style=\"color:green\">  Similar pattern, we will retain the column"
   ]
  },
  {
   "cell_type": "code",
   "execution_count": null,
   "id": "bd5533cc-3c4a-4d10-9f79-9a3863c2f268",
   "metadata": {},
   "outputs": [],
   "source": [
    "'recoveries', 'collection_recovery_fee', 'policy_code', 'acc_now_delinq', 'delinq_amnt' and 'pub_rec_bankruptcies"
   ]
  },
  {
   "cell_type": "code",
   "execution_count": 231,
   "id": "d539b229-e93a-46c4-b69a-b5c642a3940a",
   "metadata": {},
   "outputs": [
    {
     "data": {
      "text/plain": [
       "<Axes: ylabel='recoveries'>"
      ]
     },
     "execution_count": 231,
     "metadata": {},
     "output_type": "execute_result"
    },
    {
     "data": {
      "image/png": "[encoded data removed]",
      "text/plain": [
       "<Figure size 640x480 with 1 Axes>"
      ]
     },
     "metadata": {},
     "output_type": "display_data"
    }
   ],
   "source": [
    "sns.boxplot(data=dfn,y='recoveries')"
   ]
  },
  {
   "cell_type": "code",
   "execution_count": 232,
   "id": "e9fb1458-d02b-4f4b-8143-f4b334225f14",
   "metadata": {},
   "outputs": [
    {
     "data": {
      "text/plain": [
       "<Axes: ylabel='collection_recovery_fee'>"
      ]
     },
     "execution_count": 232,
     "metadata": {},
     "output_type": "execute_result"
    },
    {
     "data": {
      "image/png": "[encoded data removed]",
      "text/plain": [
       "<Figure size 640x480 with 1 Axes>"
      ]
     },
     "metadata": {},
     "output_type": "display_data"
    }
   ],
   "source": [
    "sns.boxplot(data=dfn,y='collection_recovery_fee')"
   ]
  },
  {
   "cell_type": "code",
   "execution_count": 233,
   "id": "f1dd22b1-4719-43c4-9e69-b90ea86a148d",
   "metadata": {},
   "outputs": [
    {
     "data": {
      "text/plain": [
       "<Axes: ylabel='policy_code'>"
      ]
     },
     "execution_count": 233,
     "metadata": {},
     "output_type": "execute_result"
    },
    {
     "data": {
      "image/png": "[encoded data removed]",
      "text/plain": [
       "<Figure size 640x480 with 1 Axes>"
      ]
     },
     "metadata": {},
     "output_type": "display_data"
    }
   ],
   "source": [
    "sns.boxplot(data=dfn,y='policy_code')"
   ]
  },
  {
   "cell_type": "code",
   "execution_count": 234,
   "id": "6e1a5170-072c-4c3a-8491-75784fc4a5f3",
   "metadata": {},
   "outputs": [
    {
     "data": {
      "text/plain": [
       "<Axes: ylabel='acc_now_delinq'>"
      ]
     },
     "execution_count": 234,
     "metadata": {},
     "output_type": "execute_result"
    },
    {
     "data": {
      "image/png": "[encoded data removed]",
      "text/plain": [
       "<Figure size 640x480 with 1 Axes>"
      ]
     },
     "metadata": {},
     "output_type": "display_data"
    }
   ],
   "source": [
    "sns.boxplot(data=dfn,y='acc_now_delinq')"
   ]
  },
  {
   "cell_type": "code",
   "execution_count": 235,
   "id": "c413e811-0efe-4c24-ad89-de9a7975be39",
   "metadata": {},
   "outputs": [
    {
     "data": {
      "text/plain": [
       "<Axes: ylabel='delinq_amnt'>"
      ]
     },
     "execution_count": 235,
     "metadata": {},
     "output_type": "execute_result"
    },
    {
     "data": {
      "image/png": "[encoded data removed]",
      "text/plain": [
       "<Figure size 640x480 with 1 Axes>"
      ]
     },
     "metadata": {},
     "output_type": "display_data"
    }
   ],
   "source": [
    "sns.boxplot(data=dfn,y='delinq_amnt')"
   ]
  },
  {
   "cell_type": "code",
   "execution_count": 236,
   "id": "7f91bbe7-2ab9-4b50-b015-7bd2c5bbee44",
   "metadata": {},
   "outputs": [
    {
     "data": {
      "text/plain": [
       "<Axes: ylabel='pub_rec_bankruptcies'>"
      ]
     },
     "execution_count": 236,
     "metadata": {},
     "output_type": "execute_result"
    },
    {
     "data": {
      "image/png": "[encoded data removed]",
      "text/plain": [
       "<Figure size 640x480 with 1 Axes>"
      ]
     },
     "metadata": {},
     "output_type": "display_data"
    }
   ],
   "source": [
    "sns.boxplot(data=dfn,y='pub_rec_bankruptcies')"
   ]
  },
  {
   "cell_type": "code",
   "execution_count": 237,
   "id": "d4767731-5340-480b-b537-31fffb0e159d",
   "metadata": {},
   "outputs": [
    {
     "data": {
      "text/plain": [
       "array([1], dtype=int64)"
      ]
     },
     "execution_count": 237,
     "metadata": {},
     "output_type": "execute_result"
    }
   ],
   "source": [
    "df['policy_code'].unique()"
   ]
  },
  {
   "cell_type": "code",
   "execution_count": 238,
   "id": "361989c9-88b7-4889-a440-ab6adfc29279",
   "metadata": {},
   "outputs": [
    {
     "data": {
      "text/plain": [
       "array([0], dtype=int64)"
      ]
     },
     "execution_count": 238,
     "metadata": {},
     "output_type": "execute_result"
    }
   ],
   "source": [
    "df['acc_now_delinq'].unique()"
   ]
  },
  {
   "cell_type": "code",
   "execution_count": 239,
   "id": "6b21bfe4-55b9-4bd1-a301-233b8849d1c1",
   "metadata": {},
   "outputs": [
    {
     "data": {
      "text/plain": [
       "array([0], dtype=int64)"
      ]
     },
     "execution_count": 239,
     "metadata": {},
     "output_type": "execute_result"
    }
   ],
   "source": [
    "df['delinq_amnt'].unique()"
   ]
  },
  {
   "cell_type": "code",
   "execution_count": 240,
   "id": "03b6362b-c93f-4e58-8f49-675cb348ef4f",
   "metadata": {},
   "outputs": [
    {
     "data": {
      "text/plain": [
       "array([0., 1., 2.])"
      ]
     },
     "execution_count": 240,
     "metadata": {},
     "output_type": "execute_result"
    }
   ],
   "source": [
    "df['pub_rec_bankruptcies'].unique()"
   ]
  },
  {
   "cell_type": "markdown",
   "id": "fc50d6e4-e022-4429-b765-112a118a506d",
   "metadata": {},
   "source": [
    "### <span style=\"color:green\">  We can delete the 3 columns i.e. 'policy_code', 'acc_now_delinq' and 'delinq_amnt'. Also, we will convert the column 'pub_rec_bankruptcies' to categorical"
   ]
  },
  {
   "cell_type": "code",
   "execution_count": 241,
   "id": "432016c0-891f-4a06-ad79-6b408069b0d5",
   "metadata": {},
   "outputs": [],
   "source": [
    "df = df.drop('policy_code', axis=1)"
   ]
  },
  {
   "cell_type": "code",
   "execution_count": 242,
   "id": "4e8e81de-1ad6-4b79-a6b3-7eae9a363778",
   "metadata": {},
   "outputs": [],
   "source": [
    "df = df.drop('acc_now_delinq', axis=1)"
   ]
  },
  {
   "cell_type": "code",
   "execution_count": 243,
   "id": "b725c9f1-3846-4835-af83-2ce3e3ce44a9",
   "metadata": {},
   "outputs": [],
   "source": [
    "df = df.drop('delinq_amnt', axis=1)"
   ]
  },
  {
   "cell_type": "code",
   "execution_count": 245,
   "id": "ffc70490-4191-4c03-89d8-f24ebd78ef88",
   "metadata": {},
   "outputs": [],
   "source": [
    "df['pub_rec_bankruptcies'] = df['pub_rec_bankruptcies'].astype('object')"
   ]
  },
  {
   "cell_type": "code",
   "execution_count": 246,
   "id": "37f05469-1f98-4231-9a74-1d385cdfc563",
   "metadata": {},
   "outputs": [],
   "source": [
    "dfn = df.select_dtypes(include=[np.number])\n",
    "dfc = df.select_dtypes(exclude=[np.number])"
   ]
  },
  {
   "cell_type": "code",
   "execution_count": 247,
   "id": "69a517a7-3b87-42e7-8ff7-ba9b7ce7287c",
   "metadata": {},
   "outputs": [
    {
     "data": {
      "text/html": [
       "<div>\n",
       "<style scoped>\n",
       "    .dataframe tbody tr th:only-of-type {\n",
       "        vertical-align: middle;\n",
       "    }\n",
       "\n",
       "    .dataframe tbody tr th {\n",
       "        vertical-align: top;\n",
       "    }\n",
       "\n",
       "    .dataframe thead th {\n",
       "        text-align: right;\n",
       "    }\n",
       "</style>\n",
       "<table border=\"1\" class=\"dataframe\">\n",
       "  <thead>\n",
       "    <tr style=\"text-align: right;\">\n",
       "      <th></th>\n",
       "      <th>id</th>\n",
       "      <th>member_id</th>\n",
       "      <th>loan_amnt</th>\n",
       "      <th>funded_amnt</th>\n",
       "      <th>funded_amnt_inv</th>\n",
       "      <th>int_rate</th>\n",
       "      <th>installment</th>\n",
       "      <th>annual_inc</th>\n",
       "      <th>dti</th>\n",
       "      <th>inq_last_6mths</th>\n",
       "      <th>open_acc</th>\n",
       "      <th>pub_rec</th>\n",
       "      <th>revol_bal</th>\n",
       "      <th>revol_util</th>\n",
       "      <th>total_acc</th>\n",
       "      <th>out_prncp</th>\n",
       "      <th>out_prncp_inv</th>\n",
       "      <th>total_pymnt</th>\n",
       "      <th>total_pymnt_inv</th>\n",
       "      <th>total_rec_prncp</th>\n",
       "      <th>total_rec_int</th>\n",
       "      <th>total_rec_late_fee</th>\n",
       "      <th>recoveries</th>\n",
       "      <th>collection_recovery_fee</th>\n",
       "      <th>last_pymnt_amnt</th>\n",
       "    </tr>\n",
       "  </thead>\n",
       "  <tbody>\n",
       "    <tr>\n",
       "      <th>count</th>\n",
       "      <td>3.548700e+04</td>\n",
       "      <td>3.548700e+04</td>\n",
       "      <td>35487.000000</td>\n",
       "      <td>35487.000000</td>\n",
       "      <td>35487.000000</td>\n",
       "      <td>35487.000000</td>\n",
       "      <td>35487.000000</td>\n",
       "      <td>35487.000000</td>\n",
       "      <td>35487.000000</td>\n",
       "      <td>35487.000000</td>\n",
       "      <td>35487.000000</td>\n",
       "      <td>35487.000000</td>\n",
       "      <td>35487.000000</td>\n",
       "      <td>35487.000000</td>\n",
       "      <td>35487.000000</td>\n",
       "      <td>35487.000000</td>\n",
       "      <td>35487.000000</td>\n",
       "      <td>35487.000000</td>\n",
       "      <td>35487.000000</td>\n",
       "      <td>35487.000000</td>\n",
       "      <td>35487.000000</td>\n",
       "      <td>35487.000000</td>\n",
       "      <td>35487.000000</td>\n",
       "      <td>35487.000000</td>\n",
       "      <td>35487.000000</td>\n",
       "    </tr>\n",
       "    <tr>\n",
       "      <th>mean</th>\n",
       "      <td>6.819981e+05</td>\n",
       "      <td>8.490261e+05</td>\n",
       "      <td>10956.692592</td>\n",
       "      <td>10700.578381</td>\n",
       "      <td>10159.846992</td>\n",
       "      <td>12.001569</td>\n",
       "      <td>316.853678</td>\n",
       "      <td>61915.610897</td>\n",
       "      <td>13.560413</td>\n",
       "      <td>0.860794</td>\n",
       "      <td>9.250402</td>\n",
       "      <td>0.054583</td>\n",
       "      <td>12558.704962</td>\n",
       "      <td>49.069229</td>\n",
       "      <td>21.810748</td>\n",
       "      <td>48.880743</td>\n",
       "      <td>48.642948</td>\n",
       "      <td>11886.001404</td>\n",
       "      <td>11307.832389</td>\n",
       "      <td>9590.258744</td>\n",
       "      <td>2204.613478</td>\n",
       "      <td>1.315239</td>\n",
       "      <td>89.814024</td>\n",
       "      <td>11.144419</td>\n",
       "      <td>2624.916552</td>\n",
       "    </tr>\n",
       "    <tr>\n",
       "      <th>std</th>\n",
       "      <td>2.107274e+05</td>\n",
       "      <td>2.659365e+05</td>\n",
       "      <td>7160.075633</td>\n",
       "      <td>6906.381040</td>\n",
       "      <td>6849.039620</td>\n",
       "      <td>3.689475</td>\n",
       "      <td>199.626068</td>\n",
       "      <td>27973.969123</td>\n",
       "      <td>6.641329</td>\n",
       "      <td>1.060402</td>\n",
       "      <td>4.346413</td>\n",
       "      <td>0.236527</td>\n",
       "      <td>13792.251157</td>\n",
       "      <td>28.151912</td>\n",
       "      <td>11.209400</td>\n",
       "      <td>362.019843</td>\n",
       "      <td>360.668453</td>\n",
       "      <td>8667.977381</td>\n",
       "      <td>8573.302502</td>\n",
       "      <td>6774.613561</td>\n",
       "      <td>2502.212507</td>\n",
       "      <td>7.129077</td>\n",
       "      <td>660.640863</td>\n",
       "      <td>134.343059</td>\n",
       "      <td>4298.429672</td>\n",
       "    </tr>\n",
       "    <tr>\n",
       "      <th>min</th>\n",
       "      <td>5.574200e+04</td>\n",
       "      <td>7.472400e+04</td>\n",
       "      <td>500.000000</td>\n",
       "      <td>500.000000</td>\n",
       "      <td>0.000000</td>\n",
       "      <td>5.420000</td>\n",
       "      <td>16.080000</td>\n",
       "      <td>4000.000000</td>\n",
       "      <td>0.000000</td>\n",
       "      <td>0.000000</td>\n",
       "      <td>2.000000</td>\n",
       "      <td>0.000000</td>\n",
       "      <td>0.000000</td>\n",
       "      <td>0.000000</td>\n",
       "      <td>2.000000</td>\n",
       "      <td>0.000000</td>\n",
       "      <td>0.000000</td>\n",
       "      <td>33.730000</td>\n",
       "      <td>0.000000</td>\n",
       "      <td>0.000000</td>\n",
       "      <td>6.220000</td>\n",
       "      <td>0.000000</td>\n",
       "      <td>0.000000</td>\n",
       "      <td>0.000000</td>\n",
       "      <td>0.010000</td>\n",
       "    </tr>\n",
       "    <tr>\n",
       "      <th>25%</th>\n",
       "      <td>5.160580e+05</td>\n",
       "      <td>6.665330e+05</td>\n",
       "      <td>5400.000000</td>\n",
       "      <td>5300.000000</td>\n",
       "      <td>5000.000000</td>\n",
       "      <td>9.250000</td>\n",
       "      <td>165.880000</td>\n",
       "      <td>40000.000000</td>\n",
       "      <td>8.500000</td>\n",
       "      <td>0.000000</td>\n",
       "      <td>6.000000</td>\n",
       "      <td>0.000000</td>\n",
       "      <td>3711.000000</td>\n",
       "      <td>26.000000</td>\n",
       "      <td>13.000000</td>\n",
       "      <td>0.000000</td>\n",
       "      <td>0.000000</td>\n",
       "      <td>5581.772363</td>\n",
       "      <td>5128.765000</td>\n",
       "      <td>4620.770000</td>\n",
       "      <td>662.910000</td>\n",
       "      <td>0.000000</td>\n",
       "      <td>0.000000</td>\n",
       "      <td>0.000000</td>\n",
       "      <td>219.880000</td>\n",
       "    </tr>\n",
       "    <tr>\n",
       "      <th>50%</th>\n",
       "      <td>6.629560e+05</td>\n",
       "      <td>8.475490e+05</td>\n",
       "      <td>9750.000000</td>\n",
       "      <td>9600.000000</td>\n",
       "      <td>8800.000000</td>\n",
       "      <td>11.860000</td>\n",
       "      <td>276.910000</td>\n",
       "      <td>57160.000000</td>\n",
       "      <td>13.710000</td>\n",
       "      <td>1.000000</td>\n",
       "      <td>9.000000</td>\n",
       "      <td>0.000000</td>\n",
       "      <td>8773.000000</td>\n",
       "      <td>49.600000</td>\n",
       "      <td>20.000000</td>\n",
       "      <td>0.000000</td>\n",
       "      <td>0.000000</td>\n",
       "      <td>9771.918186</td>\n",
       "      <td>9177.260000</td>\n",
       "      <td>8000.000000</td>\n",
       "      <td>1335.790000</td>\n",
       "      <td>0.000000</td>\n",
       "      <td>0.000000</td>\n",
       "      <td>0.000000</td>\n",
       "      <td>544.230000</td>\n",
       "    </tr>\n",
       "    <tr>\n",
       "      <th>75%</th>\n",
       "      <td>8.365180e+05</td>\n",
       "      <td>1.045805e+06</td>\n",
       "      <td>15000.000000</td>\n",
       "      <td>15000.000000</td>\n",
       "      <td>14000.000000</td>\n",
       "      <td>14.460000</td>\n",
       "      <td>415.740000</td>\n",
       "      <td>79000.000000</td>\n",
       "      <td>18.820000</td>\n",
       "      <td>1.000000</td>\n",
       "      <td>12.000000</td>\n",
       "      <td>0.000000</td>\n",
       "      <td>16514.000000</td>\n",
       "      <td>72.400000</td>\n",
       "      <td>28.000000</td>\n",
       "      <td>0.000000</td>\n",
       "      <td>0.000000</td>\n",
       "      <td>16146.841055</td>\n",
       "      <td>15399.795000</td>\n",
       "      <td>13000.000000</td>\n",
       "      <td>2762.130000</td>\n",
       "      <td>0.000000</td>\n",
       "      <td>0.000000</td>\n",
       "      <td>0.000000</td>\n",
       "      <td>3296.695000</td>\n",
       "    </tr>\n",
       "    <tr>\n",
       "      <th>max</th>\n",
       "      <td>1.077430e+06</td>\n",
       "      <td>1.314167e+06</td>\n",
       "      <td>35000.000000</td>\n",
       "      <td>35000.000000</td>\n",
       "      <td>35000.000000</td>\n",
       "      <td>24.400000</td>\n",
       "      <td>1305.190000</td>\n",
       "      <td>145008.000000</td>\n",
       "      <td>29.990000</td>\n",
       "      <td>8.000000</td>\n",
       "      <td>44.000000</td>\n",
       "      <td>4.000000</td>\n",
       "      <td>149000.000000</td>\n",
       "      <td>99.900000</td>\n",
       "      <td>90.000000</td>\n",
       "      <td>6311.470000</td>\n",
       "      <td>6307.370000</td>\n",
       "      <td>58563.679930</td>\n",
       "      <td>58563.680000</td>\n",
       "      <td>35000.020000</td>\n",
       "      <td>23563.680000</td>\n",
       "      <td>180.200000</td>\n",
       "      <td>29623.350000</td>\n",
       "      <td>7002.190000</td>\n",
       "      <td>36115.200000</td>\n",
       "    </tr>\n",
       "  </tbody>\n",
       "</table>\n",
       "</div>"
      ],
      "text/plain": [
       "                 id     member_id     loan_amnt   funded_amnt  \\\n",
       "count  3.548700e+04  3.548700e+04  35487.000000  35487.000000   \n",
       "mean   6.819981e+05  8.490261e+05  10956.692592  10700.578381   \n",
       "std    2.107274e+05  2.659365e+05   7160.075633   6906.381040   \n",
       "min    5.574200e+04  7.472400e+04    500.000000    500.000000   \n",
       "25%    5.160580e+05  6.665330e+05   5400.000000   5300.000000   \n",
       "50%    6.629560e+05  8.475490e+05   9750.000000   9600.000000   \n",
       "75%    8.365180e+05  1.045805e+06  15000.000000  15000.000000   \n",
       "max    1.077430e+06  1.314167e+06  35000.000000  35000.000000   \n",
       "\n",
       "       funded_amnt_inv      int_rate   installment     annual_inc  \\\n",
       "count     35487.000000  35487.000000  35487.000000   35487.000000   \n",
       "mean      10159.846992     12.001569    316.853678   61915.610897   \n",
       "std        6849.039620      3.689475    199.626068   27973.969123   \n",
       "min           0.000000      5.420000     16.080000    4000.000000   \n",
       "25%        5000.000000      9.250000    165.880000   40000.000000   \n",
       "50%        8800.000000     11.860000    276.910000   57160.000000   \n",
       "75%       14000.000000     14.460000    415.740000   79000.000000   \n",
       "max       35000.000000     24.400000   1305.190000  145008.000000   \n",
       "\n",
       "                dti  inq_last_6mths      open_acc       pub_rec  \\\n",
       "count  35487.000000    35487.000000  35487.000000  35487.000000   \n",
       "mean      13.560413        0.860794      9.250402      0.054583   \n",
       "std        6.641329        1.060402      4.346413      0.236527   \n",
       "min        0.000000        0.000000      2.000000      0.000000   \n",
       "25%        8.500000        0.000000      6.000000      0.000000   \n",
       "50%       13.710000        1.000000      9.000000      0.000000   \n",
       "75%       18.820000        1.000000     12.000000      0.000000   \n",
       "max       29.990000        8.000000     44.000000      4.000000   \n",
       "\n",
       "           revol_bal    revol_util     total_acc     out_prncp  out_prncp_inv  \\\n",
       "count   35487.000000  35487.000000  35487.000000  35487.000000   35487.000000   \n",
       "mean    12558.704962     49.069229     21.810748     48.880743      48.642948   \n",
       "std     13792.251157     28.151912     11.209400    362.019843     360.668453   \n",
       "min         0.000000      0.000000      2.000000      0.000000       0.000000   \n",
       "25%      3711.000000     26.000000     13.000000      0.000000       0.000000   \n",
       "50%      8773.000000     49.600000     20.000000      0.000000       0.000000   \n",
       "75%     16514.000000     72.400000     28.000000      0.000000       0.000000   \n",
       "max    149000.000000     99.900000     90.000000   6311.470000    6307.370000   \n",
       "\n",
       "        total_pymnt  total_pymnt_inv  total_rec_prncp  total_rec_int  \\\n",
       "count  35487.000000     35487.000000     35487.000000   35487.000000   \n",
       "mean   11886.001404     11307.832389      9590.258744    2204.613478   \n",
       "std     8667.977381      8573.302502      6774.613561    2502.212507   \n",
       "min       33.730000         0.000000         0.000000       6.220000   \n",
       "25%     5581.772363      5128.765000      4620.770000     662.910000   \n",
       "50%     9771.918186      9177.260000      8000.000000    1335.790000   \n",
       "75%    16146.841055     15399.795000     13000.000000    2762.130000   \n",
       "max    58563.679930     58563.680000     35000.020000   23563.680000   \n",
       "\n",
       "       total_rec_late_fee    recoveries  collection_recovery_fee  \\\n",
       "count        35487.000000  35487.000000             35487.000000   \n",
       "mean             1.315239     89.814024                11.144419   \n",
       "std              7.129077    660.640863               134.343059   \n",
       "min              0.000000      0.000000                 0.000000   \n",
       "25%              0.000000      0.000000                 0.000000   \n",
       "50%              0.000000      0.000000                 0.000000   \n",
       "75%              0.000000      0.000000                 0.000000   \n",
       "max            180.200000  29623.350000              7002.190000   \n",
       "\n",
       "       last_pymnt_amnt  \n",
       "count     35487.000000  \n",
       "mean       2624.916552  \n",
       "std        4298.429672  \n",
       "min           0.010000  \n",
       "25%         219.880000  \n",
       "50%         544.230000  \n",
       "75%        3296.695000  \n",
       "max       36115.200000  "
      ]
     },
     "execution_count": 247,
     "metadata": {},
     "output_type": "execute_result"
    }
   ],
   "source": [
    "dfn.describe()"
   ]
  },
  {
   "cell_type": "markdown",
   "id": "947dad9a-fc46-40bd-9c81-ac12960b51eb",
   "metadata": {},
   "source": [
    "### <span style=\"color:green\">  We have handled outliers for some features and for few others, we have retained them"
   ]
  },
  {
   "cell_type": "markdown",
   "id": "7fac2d82-2cf2-4d25-b0fe-9692868620ee",
   "metadata": {},
   "source": [
    "### <span style=\"color:green\">  Now, let's start exploring the features with histograms"
   ]
  },
  {
   "cell_type": "code",
   "execution_count": 253,
   "id": "8304c3c5-9ebc-4dec-8e13-ebe8279da360",
   "metadata": {},
   "outputs": [
    {
     "data": {
      "text/plain": [
       "<Axes: xlabel='loan_amnt', ylabel='Count'>"
      ]
     },
     "execution_count": 253,
     "metadata": {},
     "output_type": "execute_result"
    },
    {
     "data": {
      "image/png": "[encoded data removed]",
      "text/plain": [
       "<Figure size 640x480 with 1 Axes>"
      ]
     },
     "metadata": {},
     "output_type": "display_data"
    }
   ],
   "source": [
    "bins=[i for i in range(0,40000,5000)]\n",
    "sns.histplot(data=dfn, x='loan_amnt',bins=bins, kde=True)"
   ]
  },
  {
   "cell_type": "markdown",
   "id": "7ab5c49d-57ee-455c-9de7-63db67e091e2",
   "metadata": {},
   "source": [
    "### <span style=\"color:green\">  Most of the loan amounts are 5000-15000 range"
   ]
  },
  {
   "cell_type": "code",
   "execution_count": 260,
   "id": "6d9c7762-710f-43f7-9a75-90eacb5a507f",
   "metadata": {},
   "outputs": [
    {
     "data": {
      "text/plain": [
       "<Axes: xlabel='funded_amnt', ylabel='Count'>"
      ]
     },
     "execution_count": 260,
     "metadata": {},
     "output_type": "execute_result"
    },
    {
     "data": {
      "image/png": "[encoded data removed]",
      "text/plain": [
       "<Figure size 640x480 with 1 Axes>"
      ]
     },
     "metadata": {},
     "output_type": "display_data"
    }
   ],
   "source": [
    "bins=[i for i in range(0,40000,5000)]\n",
    "sns.histplot(data=dfn, x='funded_amnt',bins=bins, kde=True, color='pink')"
   ]
  },
  {
   "cell_type": "code",
   "execution_count": 261,
   "id": "9ce67264-fbbb-477c-8f8e-14a3e7c8be1f",
   "metadata": {},
   "outputs": [
    {
     "data": {
      "text/plain": [
       "<Axes: xlabel='funded_amnt_inv', ylabel='Count'>"
      ]
     },
     "execution_count": 261,
     "metadata": {},
     "output_type": "execute_result"
    },
    {
     "data": {
      "image/png": "[encoded data removed]",
      "text/plain": [
       "<Figure size 640x480 with 1 Axes>"
      ]
     },
     "metadata": {},
     "output_type": "display_data"
    }
   ],
   "source": [
    "bins=[i for i in range(0,40000,5000)]\n",
    "sns.histplot(data=dfn, x='funded_amnt_inv',bins=bins, kde=True, color='cyan')"
   ]
  },
  {
   "cell_type": "markdown",
   "id": "22595591-0881-4f9e-817e-8e5f97f2f3b7",
   "metadata": {},
   "source": [
    "### <span style=\"color:green\">  Similar pattern is seen for funded_amount and funded_amnt_inv as well"
   ]
  },
  {
   "cell_type": "code",
   "execution_count": 266,
   "id": "8e78c0c0-b219-4661-914d-c774605fa485",
   "metadata": {},
   "outputs": [
    {
     "data": {
      "text/plain": [
       "<Axes: xlabel='int_rate', ylabel='Count'>"
      ]
     },
     "execution_count": 266,
     "metadata": {},
     "output_type": "execute_result"
    },
    {
     "data": {
      "image/png": "[encoded data removed]",
      "text/plain": [
       "<Figure size 640x480 with 1 Axes>"
      ]
     },
     "metadata": {},
     "output_type": "display_data"
    }
   ],
   "source": [
    "bins=[i for i in range(0,25,2)]\n",
    "sns.histplot(data=dfn, x='int_rate',bins=bins, kde=True, color='green')"
   ]
  },
  {
   "cell_type": "markdown",
   "id": "1717e7ad-f7de-42de-b5d6-4f59d26b7639",
   "metadata": {},
   "source": [
    "### <span style=\"color:green\">  Interest rates are mostly between 10-15"
   ]
  },
  {
   "cell_type": "code",
   "execution_count": 270,
   "id": "6a9a2ef8-4002-4cbf-8ab8-79ac523413fb",
   "metadata": {},
   "outputs": [
    {
     "data": {
      "text/plain": [
       "<Axes: xlabel='installment', ylabel='Count'>"
      ]
     },
     "execution_count": 270,
     "metadata": {},
     "output_type": "execute_result"
    },
    {
     "data": {
      "image/png": "[encoded data removed]",
      "text/plain": [
       "<Figure size 640x480 with 1 Axes>"
      ]
     },
     "metadata": {},
     "output_type": "display_data"
    }
   ],
   "source": [
    "bins=[i for i in range(0,1500,100)]\n",
    "sns.histplot(data=dfn, x='installment',bins=bins, kde=True, color='blue')"
   ]
  },
  {
   "cell_type": "code",
   "execution_count": 277,
   "id": "53195489-892c-4cda-8f8c-534bc542af08",
   "metadata": {},
   "outputs": [
    {
     "data": {
      "text/plain": [
       "<Axes: xlabel='annual_inc', ylabel='Count'>"
      ]
     },
     "execution_count": 277,
     "metadata": {},
     "output_type": "execute_result"
    },
    {
     "data": {
      "image/png": "[encoded data removed]",
      "text/plain": [
       "<Figure size 640x480 with 1 Axes>"
      ]
     },
     "metadata": {},
     "output_type": "display_data"
    }
   ],
   "source": [
    "bins=[i for i in range(0,150000,10000)]\n",
    "sns.histplot(data=dfn, x='annual_inc',bins=bins, kde=True, color='pink')"
   ]
  },
  {
   "cell_type": "code",
   "execution_count": null,
   "id": "46547166-e81c-4f21-a65f-8be15e648b33",
   "metadata": {},
   "outputs": [],
   "source": []
  },
  {
   "cell_type": "code",
   "execution_count": null,
   "id": "81610779-01ea-41ed-ba16-512acf5183f1",
   "metadata": {},
   "outputs": [],
   "source": []
  },
  {
   "cell_type": "code",
   "execution_count": null,
   "id": "d0ebfd2b-0222-400a-935e-c954568989cb",
   "metadata": {},
   "outputs": [],
   "source": []
  },
  {
   "cell_type": "code",
   "execution_count": null,
   "id": "986c4c7f-db92-474b-91b8-9ce7a011c570",
   "metadata": {},
   "outputs": [],
   "source": []
  },
  {
   "cell_type": "code",
   "execution_count": null,
   "id": "1922cea0-ce83-4fc1-9c12-ccd54b99b41b",
   "metadata": {},
   "outputs": [],
   "source": []
  },
  {
   "cell_type": "code",
   "execution_count": null,
   "id": "65d2a05f-8ea7-4515-915c-daa40885e3ad",
   "metadata": {},
   "outputs": [],
   "source": []
  },
  {
   "cell_type": "code",
   "execution_count": null,
   "id": "2759618a-8740-43ff-a8e8-4833652c3427",
   "metadata": {},
   "outputs": [],
   "source": []
  },
  {
   "cell_type": "code",
   "execution_count": null,
   "id": "dc8996b0-f2ff-40b2-8557-ea24efecaa11",
   "metadata": {},
   "outputs": [],
   "source": []
  },
  {
   "cell_type": "code",
   "execution_count": null,
   "id": "b81faa8b-478a-40ab-b415-b5a4e77951bd",
   "metadata": {},
   "outputs": [],
   "source": []
  },
  {
   "cell_type": "code",
   "execution_count": null,
   "id": "e7bf32e3-24ef-4beb-92cc-e8d51ce9df47",
   "metadata": {},
   "outputs": [],
   "source": []
  },
  {
   "cell_type": "code",
   "execution_count": null,
   "id": "b629aab4-7973-4e74-baae-e5b7374d7c35",
   "metadata": {},
   "outputs": [],
   "source": []
  },
  {
   "cell_type": "code",
   "execution_count": null,
   "id": "ec0d5593-bf63-42e3-8860-11638a116d8b",
   "metadata": {},
   "outputs": [],
   "source": []
  },
  {
   "cell_type": "code",
   "execution_count": null,
   "id": "b5c54936-9259-477d-869e-ec884a1f6ac8",
   "metadata": {},
   "outputs": [],
   "source": []
  },
  {
   "cell_type": "code",
   "execution_count": null,
   "id": "e0fb2b27-8e39-4fee-acf2-8c3053b42a48",
   "metadata": {},
   "outputs": [],
   "source": []
  }
 ],
 "metadata": {
  "kernelspec": {
   "display_name": "Python 3 (ipykernel)",
   "language": "python",
   "name": "python3"
  },
  "language_info": {
   "codemirror_mode": {
    "name": "ipython",
    "version": 3
   },
   "file_extension": ".py",
   "mimetype": "text/x-python",
   "name": "python",
   "nbconvert_exporter": "python",
   "pygments_lexer": "ipython3",
   "version": "3.11.7"
  }
 },
 "nbformat": 4,
 "nbformat_minor": 5
}
